{
 "cells": [
  {
   "cell_type": "code",
   "execution_count": 1,
   "id": "49e59d57",
   "metadata": {
    "_cell_guid": "b1076dfc-b9ad-4769-8c92-a6c4dae69d19",
    "_uuid": "8f2839f25d086af736a60e9eeb907d3b93b6e0e5",
    "execution": {
     "iopub.execute_input": "2022-09-07T18:50:36.011032Z",
     "iopub.status.busy": "2022-09-07T18:50:36.010509Z",
     "iopub.status.idle": "2022-09-07T18:50:36.021391Z",
     "shell.execute_reply": "2022-09-07T18:50:36.020374Z"
    },
    "papermill": {
     "duration": 0.019268,
     "end_time": "2022-09-07T18:50:36.023406",
     "exception": false,
     "start_time": "2022-09-07T18:50:36.004138",
     "status": "completed"
    },
    "tags": []
   },
   "outputs": [],
   "source": [
    "# This Python 3 environment comes with many helpful analytics libraries installed\n",
    "# It is defined by the kaggle/python Docker image: https://github.com/kaggle/docker-python\n",
    "# For example, here's several helpful packages to load\n",
    "\n",
    "import numpy as np # linear algebra\n",
    "import pandas as pd # data processing, CSV file I/O (e.g. pd.read_csv)\n",
    "\n",
    "# Input data files are available in the read-only \"../input/\" directory\n",
    "# For example, running this (by clicking run or pressing Shift+Enter) will list all files under the input directory\n",
    "\n",
    "import os\n",
    "\n",
    "# You can write up to 20GB to the current directory (/kaggle/working/) that gets preserved as output when you create a version using \"Save & Run All\" \n",
    "# You can also write temporary files to /kaggle/temp/, but they won't be saved outside of the current session"
   ]
  },
  {
   "cell_type": "code",
   "execution_count": 2,
   "id": "3ac9c15d",
   "metadata": {
    "execution": {
     "iopub.execute_input": "2022-09-07T18:50:36.032214Z",
     "iopub.status.busy": "2022-09-07T18:50:36.031961Z",
     "iopub.status.idle": "2022-09-07T18:51:19.639806Z",
     "shell.execute_reply": "2022-09-07T18:51:19.638681Z"
    },
    "papermill": {
     "duration": 43.615383,
     "end_time": "2022-09-07T18:51:19.642522",
     "exception": false,
     "start_time": "2022-09-07T18:50:36.027139",
     "status": "completed"
    },
    "tags": []
   },
   "outputs": [
    {
     "name": "stdout",
     "output_type": "stream",
     "text": [
      "Collecting git+https://github.com/huggingface/transformers.git\r\n",
      "  Cloning https://github.com/huggingface/transformers.git to /tmp/pip-req-build-dw_kkl42\r\n",
      "  Running command git clone --filter=blob:none --quiet https://github.com/huggingface/transformers.git /tmp/pip-req-build-dw_kkl42\r\n",
      "  Resolved https://github.com/huggingface/transformers.git to commit 6690ba3f4d036bc39bdf29ec98daf2c693442503\r\n",
      "  Installing build dependencies ... \u001b[?25l-\b \b\\\b \b|\b \b/\b \b-\b \b\\\b \bdone\r\n",
      "\u001b[?25h  Getting requirements to build wheel ... \u001b[?25l-\b \bdone\r\n",
      "\u001b[?25h  Preparing metadata (pyproject.toml) ... \u001b[?25l-\b \b\\\b \bdone\r\n",
      "\u001b[?25hRequirement already satisfied: packaging>=20.0 in /opt/conda/lib/python3.7/site-packages (from transformers==4.22.0.dev0) (21.3)\r\n",
      "Requirement already satisfied: importlib-metadata in /opt/conda/lib/python3.7/site-packages (from transformers==4.22.0.dev0) (4.12.0)\r\n",
      "Requirement already satisfied: pyyaml>=5.1 in /opt/conda/lib/python3.7/site-packages (from transformers==4.22.0.dev0) (6.0)\r\n",
      "Requirement already satisfied: tokenizers!=0.11.3,<0.13,>=0.11.1 in /opt/conda/lib/python3.7/site-packages (from transformers==4.22.0.dev0) (0.12.1)\r\n",
      "Requirement already satisfied: numpy>=1.17 in /opt/conda/lib/python3.7/site-packages (from transformers==4.22.0.dev0) (1.21.6)\r\n",
      "Requirement already satisfied: tqdm>=4.27 in /opt/conda/lib/python3.7/site-packages (from transformers==4.22.0.dev0) (4.64.0)\r\n",
      "Requirement already satisfied: requests in /opt/conda/lib/python3.7/site-packages (from transformers==4.22.0.dev0) (2.28.1)\r\n",
      "Requirement already satisfied: filelock in /opt/conda/lib/python3.7/site-packages (from transformers==4.22.0.dev0) (3.7.1)\r\n",
      "Collecting huggingface-hub<1.0,>=0.9.0\r\n",
      "  Downloading huggingface_hub-0.9.1-py3-none-any.whl (120 kB)\r\n",
      "\u001b[2K     \u001b[90m━━━━━━━━━━━━━━━━━━━━━━━━━━━━━━━━━━━━━\u001b[0m \u001b[32m120.7/120.7 kB\u001b[0m \u001b[31m597.7 kB/s\u001b[0m eta \u001b[36m0:00:00\u001b[0m\r\n",
      "\u001b[?25hRequirement already satisfied: regex!=2019.12.17 in /opt/conda/lib/python3.7/site-packages (from transformers==4.22.0.dev0) (2021.11.10)\r\n",
      "Requirement already satisfied: typing-extensions>=3.7.4.3 in /opt/conda/lib/python3.7/site-packages (from huggingface-hub<1.0,>=0.9.0->transformers==4.22.0.dev0) (4.3.0)\r\n",
      "Requirement already satisfied: pyparsing!=3.0.5,>=2.0.2 in /opt/conda/lib/python3.7/site-packages (from packaging>=20.0->transformers==4.22.0.dev0) (3.0.9)\r\n",
      "Requirement already satisfied: zipp>=0.5 in /opt/conda/lib/python3.7/site-packages (from importlib-metadata->transformers==4.22.0.dev0) (3.8.0)\r\n",
      "Requirement already satisfied: certifi>=2017.4.17 in /opt/conda/lib/python3.7/site-packages (from requests->transformers==4.22.0.dev0) (2022.6.15)\r\n",
      "Requirement already satisfied: charset-normalizer<3,>=2 in /opt/conda/lib/python3.7/site-packages (from requests->transformers==4.22.0.dev0) (2.1.0)\r\n",
      "Requirement already satisfied: urllib3<1.27,>=1.21.1 in /opt/conda/lib/python3.7/site-packages (from requests->transformers==4.22.0.dev0) (1.26.12)\r\n",
      "Requirement already satisfied: idna<4,>=2.5 in /opt/conda/lib/python3.7/site-packages (from requests->transformers==4.22.0.dev0) (3.3)\r\n",
      "Building wheels for collected packages: transformers\r\n",
      "  Building wheel for transformers (pyproject.toml) ... \u001b[?25l-\b \b\\\b \b|\b \b/\b \b-\b \b\\\b \b|\b \b/\b \b-\b \b\\\b \b|\b \b/\b \b-\b \b\\\b \bdone\r\n",
      "\u001b[?25h  Created wheel for transformers: filename=transformers-4.22.0.dev0-py3-none-any.whl size=4801811 sha256=ff6f9aa34b8315e8d1bc5a423d602e27b2c206fd573c64d354e9bfed8995a54f\r\n",
      "  Stored in directory: /tmp/pip-ephem-wheel-cache-1q9zefgu/wheels/90/a5/44/6bcd83827c8a60628c5ad602f429cd5076bcce5f2a90054947\r\n",
      "Successfully built transformers\r\n",
      "Installing collected packages: huggingface-hub, transformers\r\n",
      "  Attempting uninstall: huggingface-hub\r\n",
      "    Found existing installation: huggingface-hub 0.8.1\r\n",
      "    Uninstalling huggingface-hub-0.8.1:\r\n",
      "      Successfully uninstalled huggingface-hub-0.8.1\r\n",
      "  Attempting uninstall: transformers\r\n",
      "    Found existing installation: transformers 4.20.1\r\n",
      "    Uninstalling transformers-4.20.1:\r\n",
      "      Successfully uninstalled transformers-4.20.1\r\n",
      "\u001b[31mERROR: pip's dependency resolver does not currently take into account all the packages that are installed. This behaviour is the source of the following dependency conflicts.\r\n",
      "cached-path 1.1.5 requires huggingface-hub<0.9.0,>=0.8.1, but you have huggingface-hub 0.9.1 which is incompatible.\r\n",
      "allennlp 2.10.0 requires protobuf==3.20.0, but you have protobuf 3.19.4 which is incompatible.\r\n",
      "allennlp 2.10.0 requires transformers<4.21,>=4.1, but you have transformers 4.22.0.dev0 which is incompatible.\u001b[0m\u001b[31m\r\n",
      "\u001b[0mSuccessfully installed huggingface-hub-0.9.1 transformers-4.22.0.dev0\r\n",
      "\u001b[33mWARNING: Running pip as the 'root' user can result in broken permissions and conflicting behaviour with the system package manager. It is recommended to use a virtual environment instead: https://pip.pypa.io/warnings/venv\u001b[0m\u001b[33m\r\n",
      "\u001b[0m"
     ]
    }
   ],
   "source": [
    "!pip install git+https://github.com/huggingface/transformers.git"
   ]
  },
  {
   "cell_type": "code",
   "execution_count": 3,
   "id": "ac4ddf86",
   "metadata": {
    "execution": {
     "iopub.execute_input": "2022-09-07T18:51:19.656425Z",
     "iopub.status.busy": "2022-09-07T18:51:19.656124Z",
     "iopub.status.idle": "2022-09-07T18:51:29.378050Z",
     "shell.execute_reply": "2022-09-07T18:51:29.376303Z"
    },
    "papermill": {
     "duration": 9.731798,
     "end_time": "2022-09-07T18:51:29.380747",
     "exception": false,
     "start_time": "2022-09-07T18:51:19.648949",
     "status": "completed"
    },
    "tags": []
   },
   "outputs": [
    {
     "name": "stderr",
     "output_type": "stream",
     "text": [
      "The cache for model files in Transformers v4.22.0 has been updated. Migrating your old cache. This is a one-time only operation. You can interrupt this and resume the migration later on by calling `transformers.utils.move_cache()`.\n"
     ]
    },
    {
     "name": "stdout",
     "output_type": "stream",
     "text": [
      "Moving 0 files to the new cache system\n"
     ]
    },
    {
     "data": {
      "application/vnd.jupyter.widget-view+json": {
       "model_id": "078de4a90df94625a19d9f5525a0f53d",
       "version_major": 2,
       "version_minor": 0
      },
      "text/plain": [
       "0it [00:00, ?it/s]"
      ]
     },
     "metadata": {},
     "output_type": "display_data"
    },
    {
     "name": "stdout",
     "output_type": "stream",
     "text": [
      "1.11.0\n"
     ]
    },
    {
     "data": {
      "text/plain": [
       "'4.22.0.dev0'"
      ]
     },
     "execution_count": 3,
     "metadata": {},
     "output_type": "execute_result"
    }
   ],
   "source": [
    "import transformers\n",
    "import numpy as np # linear algebra\n",
    "import pandas as pd # data processing, CSV file I/O (e.g. pd.read_csv)\n",
    "from tqdm.auto import tqdm\n",
    "\n",
    "import os\n",
    "from transformers import AutoTokenizer, AutoModelForSeq2SeqLM, pipeline\n",
    "import torch\n",
    "import gc\n",
    "import re\n",
    "tqdm.pandas()\n",
    "print(torch.__version__)\n",
    "transformers.__version__"
   ]
  },
  {
   "cell_type": "code",
   "execution_count": 4,
   "id": "40dd9353",
   "metadata": {
    "execution": {
     "iopub.execute_input": "2022-09-07T18:51:29.396206Z",
     "iopub.status.busy": "2022-09-07T18:51:29.394695Z",
     "iopub.status.idle": "2022-09-07T18:52:36.956461Z",
     "shell.execute_reply": "2022-09-07T18:52:36.955336Z"
    },
    "papermill": {
     "duration": 67.576621,
     "end_time": "2022-09-07T18:52:36.964033",
     "exception": false,
     "start_time": "2022-09-07T18:51:29.387412",
     "status": "completed"
    },
    "tags": []
   },
   "outputs": [
    {
     "name": "stdout",
     "output_type": "stream",
     "text": [
      "CPU times: user 17.6 s, sys: 7.93 s, total: 25.5 s\n",
      "Wall time: 1min 7s\n"
     ]
    }
   ],
   "source": [
    "%%time\n",
    "\n",
    "model = AutoModelForSeq2SeqLM.from_pretrained(\"../input/huggingface-meta-nllb200/nllb-200-distilled-1.3B\")\n",
    "tokenizer = AutoTokenizer.from_pretrained(\"../input/huggingface-meta-nllb200/nllb-200-distilled-1.3B\")"
   ]
  },
  {
   "cell_type": "code",
   "execution_count": 5,
   "id": "bb1fd2a4",
   "metadata": {
    "execution": {
     "iopub.execute_input": "2022-09-07T18:52:36.979331Z",
     "iopub.status.busy": "2022-09-07T18:52:36.978991Z",
     "iopub.status.idle": "2022-09-07T18:52:43.176084Z",
     "shell.execute_reply": "2022-09-07T18:52:43.174461Z"
    },
    "papermill": {
     "duration": 6.207501,
     "end_time": "2022-09-07T18:52:43.178798",
     "exception": false,
     "start_time": "2022-09-07T18:52:36.971297",
     "status": "completed"
    },
    "tags": []
   },
   "outputs": [
    {
     "name": "stdout",
     "output_type": "stream",
     "text": [
      "cuda:0\n",
      "CPU times: user 2.68 s, sys: 683 ms, total: 3.36 s\n",
      "Wall time: 6.19 s\n"
     ]
    }
   ],
   "source": [
    "%%time\n",
    "\n",
    "device = torch.device('cuda:0' if torch.cuda.is_available() else 'cpu')\n",
    "print(device)\n",
    "translation_pipeline = pipeline('translation', \n",
    "                                model=model, \n",
    "                                tokenizer=tokenizer, \n",
    "                                src_lang=\"arb_Arab\",  #arb_Arab,eng_latn\n",
    "                                tgt_lang='eng_latn',\n",
    "                                device = device,\n",
    "                                max_length = 1024)\n",
    "\n",
    "translation_pipeline_bn = pipeline('translation', \n",
    "                                model=model, \n",
    "                                tokenizer=tokenizer, \n",
    "                                src_lang=\"arb_Arab\",  #arb_Arab,eng_latn\n",
    "                                tgt_lang='ben_Beng',\n",
    "                                device = device,\n",
    "                                max_length = 1024)"
   ]
  },
  {
   "cell_type": "code",
   "execution_count": 6,
   "id": "c4c417cf",
   "metadata": {
    "execution": {
     "iopub.execute_input": "2022-09-07T18:52:43.194602Z",
     "iopub.status.busy": "2022-09-07T18:52:43.193550Z",
     "iopub.status.idle": "2022-09-07T18:52:44.296195Z",
     "shell.execute_reply": "2022-09-07T18:52:44.295090Z"
    },
    "papermill": {
     "duration": 1.11228,
     "end_time": "2022-09-07T18:52:44.298442",
     "exception": false,
     "start_time": "2022-09-07T18:52:43.186162",
     "status": "completed"
    },
    "tags": []
   },
   "outputs": [
    {
     "data": {
      "text/html": [
       "<div>\n",
       "<style scoped>\n",
       "    .dataframe tbody tr th:only-of-type {\n",
       "        vertical-align: middle;\n",
       "    }\n",
       "\n",
       "    .dataframe tbody tr th {\n",
       "        vertical-align: top;\n",
       "    }\n",
       "\n",
       "    .dataframe thead th {\n",
       "        text-align: right;\n",
       "    }\n",
       "</style>\n",
       "<table border=\"1\" class=\"dataframe\">\n",
       "  <thead>\n",
       "    <tr style=\"text-align: right;\">\n",
       "      <th></th>\n",
       "      <th>id</th>\n",
       "      <th>hadith_id</th>\n",
       "      <th>source</th>\n",
       "      <th>chapter_no</th>\n",
       "      <th>hadith_no</th>\n",
       "      <th>chapter</th>\n",
       "      <th>chain_indx</th>\n",
       "      <th>text_ar</th>\n",
       "      <th>text_en</th>\n",
       "      <th>narrators</th>\n",
       "      <th>text_bn</th>\n",
       "    </tr>\n",
       "  </thead>\n",
       "  <tbody>\n",
       "    <tr>\n",
       "      <th>0</th>\n",
       "      <td>0</td>\n",
       "      <td>1</td>\n",
       "      <td>Sahih Bukhari</td>\n",
       "      <td>1</td>\n",
       "      <td>1</td>\n",
       "      <td>Revelation - كتاب بدء الوحى</td>\n",
       "      <td>30418, 20005, 11062, 11213, 11042, 3</td>\n",
       "      <td>حدثنا الحميدي عبد الله بن الزبير، قال حدثنا سف...</td>\n",
       "      <td>Narrated 'Umar bin Al-Khattab:          ...</td>\n",
       "      <td>'Abdullah bin al-Zubair bin 'Isa عبد الله بن ا...</td>\n",
       "      <td>উমর বিন আল-খাততাবের কাহিনীঃ আমি আল্লার রসূলকে ...</td>\n",
       "    </tr>\n",
       "    <tr>\n",
       "      <th>1</th>\n",
       "      <td>1</td>\n",
       "      <td>2</td>\n",
       "      <td>Sahih Bukhari</td>\n",
       "      <td>1</td>\n",
       "      <td>2</td>\n",
       "      <td>Revelation - كتاب بدء الوحى</td>\n",
       "      <td>30355, 20001, 11065, 10511, 53</td>\n",
       "      <td>حدثنا عبد الله بن يوسف، قال أخبرنا مالك، عن هش...</td>\n",
       "      <td>Narrated 'Aisha:                        ...</td>\n",
       "      <td>'Abdullah bin Yusuf al-Tunaysi عبد الله بن يوس...</td>\n",
       "      <td>আয়েশা (রাঃ) এর কাহিনী বর্ণিত হয়েছে, তিনি বলে...</td>\n",
       "    </tr>\n",
       "    <tr>\n",
       "      <th>2</th>\n",
       "      <td>2</td>\n",
       "      <td>3</td>\n",
       "      <td>Sahih Bukhari</td>\n",
       "      <td>1</td>\n",
       "      <td>3</td>\n",
       "      <td>Revelation - كتاب بدء الوحى</td>\n",
       "      <td>30399, 20023, 11207, 11013, 10511, 53</td>\n",
       "      <td>حدثنا يحيى بن بكير، قال حدثنا الليث، عن عقيل، ...</td>\n",
       "      <td>Narrated 'Aisha:                       (the m...</td>\n",
       "      <td>Yahya bin Yahya bin Bukayr يحيى بن يحيى بن بكي...</td>\n",
       "      <td>'আয়েশা (রাঃ) এর বানী বর্ণিত হয়েছেঃ (বিশ্বাসী...</td>\n",
       "    </tr>\n",
       "    <tr>\n",
       "      <th>3</th>\n",
       "      <td>3</td>\n",
       "      <td>4</td>\n",
       "      <td>Sahih Bukhari</td>\n",
       "      <td>1</td>\n",
       "      <td>4</td>\n",
       "      <td>Revelation - كتاب بدء الوحى</td>\n",
       "      <td>11013, 10567, 34</td>\n",
       "      <td>قال ابن شهاب وأخبرني أبو سلمة بن عبد الرحمن، أ...</td>\n",
       "      <td>Narrated Jabir bin 'Abdullah Al-Ansari while ...</td>\n",
       "      <td>al-Zuhri ابن شهاب الزهري‎, محمد بن مسلم,Abu Sa...</td>\n",
       "      <td>জাবির বিন 'আব্দুল্লাহ আল-আনসারি বর্ণনা করেছেন ...</td>\n",
       "    </tr>\n",
       "    <tr>\n",
       "      <th>4</th>\n",
       "      <td>4</td>\n",
       "      <td>5</td>\n",
       "      <td>Sahih Bukhari</td>\n",
       "      <td>1</td>\n",
       "      <td>5</td>\n",
       "      <td>Revelation - كتاب بدء الوحى</td>\n",
       "      <td>20040, 20469, 11399, 11050, 17</td>\n",
       "      <td>حدثنا موسى بن إسماعيل، قال حدثنا أبو عوانة، قا...</td>\n",
       "      <td>Narrated Said bin Jubair:               ...</td>\n",
       "      <td>Musa bin Isma'il al-Munqari al-Tabudhaki موسى ...</td>\n",
       "      <td>তিনি বলেন, ইবনে জুবাইর বলেনঃ ইবনে আব্বাস আল্লা...</td>\n",
       "    </tr>\n",
       "  </tbody>\n",
       "</table>\n",
       "</div>"
      ],
      "text/plain": [
       "   id  hadith_id           source  chapter_no  hadith_no  \\\n",
       "0   0          1   Sahih Bukhari            1          1   \n",
       "1   1          2   Sahih Bukhari            1          2   \n",
       "2   2          3   Sahih Bukhari            1          3   \n",
       "3   3          4   Sahih Bukhari            1          4   \n",
       "4   4          5   Sahih Bukhari            1          5   \n",
       "\n",
       "                       chapter                             chain_indx  \\\n",
       "0  Revelation - كتاب بدء الوحى   30418, 20005, 11062, 11213, 11042, 3   \n",
       "1  Revelation - كتاب بدء الوحى         30355, 20001, 11065, 10511, 53   \n",
       "2  Revelation - كتاب بدء الوحى  30399, 20023, 11207, 11013, 10511, 53   \n",
       "3  Revelation - كتاب بدء الوحى                       11013, 10567, 34   \n",
       "4  Revelation - كتاب بدء الوحى         20040, 20469, 11399, 11050, 17   \n",
       "\n",
       "                                             text_ar  \\\n",
       "0  حدثنا الحميدي عبد الله بن الزبير، قال حدثنا سف...   \n",
       "1  حدثنا عبد الله بن يوسف، قال أخبرنا مالك، عن هش...   \n",
       "2  حدثنا يحيى بن بكير، قال حدثنا الليث، عن عقيل، ...   \n",
       "3  قال ابن شهاب وأخبرني أبو سلمة بن عبد الرحمن، أ...   \n",
       "4  حدثنا موسى بن إسماعيل، قال حدثنا أبو عوانة، قا...   \n",
       "\n",
       "                                             text_en  \\\n",
       "0        Narrated 'Umar bin Al-Khattab:          ...   \n",
       "1        Narrated 'Aisha:                        ...   \n",
       "2   Narrated 'Aisha:                       (the m...   \n",
       "3   Narrated Jabir bin 'Abdullah Al-Ansari while ...   \n",
       "4        Narrated Said bin Jubair:               ...   \n",
       "\n",
       "                                           narrators  \\\n",
       "0  'Abdullah bin al-Zubair bin 'Isa عبد الله بن ا...   \n",
       "1  'Abdullah bin Yusuf al-Tunaysi عبد الله بن يوس...   \n",
       "2  Yahya bin Yahya bin Bukayr يحيى بن يحيى بن بكي...   \n",
       "3  al-Zuhri ابن شهاب الزهري‎, محمد بن مسلم,Abu Sa...   \n",
       "4  Musa bin Isma'il al-Munqari al-Tabudhaki موسى ...   \n",
       "\n",
       "                                             text_bn  \n",
       "0  উমর বিন আল-খাততাবের কাহিনীঃ আমি আল্লার রসূলকে ...  \n",
       "1  আয়েশা (রাঃ) এর কাহিনী বর্ণিত হয়েছে, তিনি বলে...  \n",
       "2  'আয়েশা (রাঃ) এর বানী বর্ণিত হয়েছেঃ (বিশ্বাসী...  \n",
       "3  জাবির বিন 'আব্দুল্লাহ আল-আনসারি বর্ণনা করেছেন ...  \n",
       "4  তিনি বলেন, ইবনে জুবাইর বলেনঃ ইবনে আব্বাস আল্লা...  "
      ]
     },
     "execution_count": 6,
     "metadata": {},
     "output_type": "execute_result"
    }
   ],
   "source": [
    "en_bn_translated_sahih_hadiths = pd.read_csv('../input/en-bn-sahih-bukhari-muslim/en_bn_translated_sahih_hadiths.csv')\n",
    "en_bn_translated_sahih_hadiths.head()"
   ]
  },
  {
   "cell_type": "code",
   "execution_count": 7,
   "id": "723f080c",
   "metadata": {
    "execution": {
     "iopub.execute_input": "2022-09-07T18:52:44.313935Z",
     "iopub.status.busy": "2022-09-07T18:52:44.313128Z",
     "iopub.status.idle": "2022-09-07T18:52:44.339228Z",
     "shell.execute_reply": "2022-09-07T18:52:44.337496Z"
    },
    "papermill": {
     "duration": 0.036058,
     "end_time": "2022-09-07T18:52:44.341573",
     "exception": false,
     "start_time": "2022-09-07T18:52:44.305515",
     "status": "completed"
    },
    "tags": []
   },
   "outputs": [
    {
     "data": {
      "text/plain": [
       "531"
      ]
     },
     "execution_count": 7,
     "metadata": {},
     "output_type": "execute_result"
    }
   ],
   "source": [
    "\n",
    "df = en_bn_translated_sahih_hadiths[en_bn_translated_sahih_hadiths['text_bn'].str.contains('এখনো পাওয়া যায়নি')]\n",
    "len(df)"
   ]
  },
  {
   "cell_type": "code",
   "execution_count": 8,
   "id": "28492077",
   "metadata": {
    "execution": {
     "iopub.execute_input": "2022-09-07T18:52:44.357727Z",
     "iopub.status.busy": "2022-09-07T18:52:44.356013Z",
     "iopub.status.idle": "2022-09-07T18:52:44.377200Z",
     "shell.execute_reply": "2022-09-07T18:52:44.376346Z"
    },
    "papermill": {
     "duration": 0.030782,
     "end_time": "2022-09-07T18:52:44.379327",
     "exception": false,
     "start_time": "2022-09-07T18:52:44.348545",
     "status": "completed"
    },
    "tags": []
   },
   "outputs": [
    {
     "data": {
      "text/plain": [
       "6"
      ]
     },
     "execution_count": 8,
     "metadata": {},
     "output_type": "execute_result"
    }
   ],
   "source": [
    "df = en_bn_translated_sahih_hadiths[en_bn_translated_sahih_hadiths['text_ar'].str.contains('not found yet')]\n",
    "len(df)"
   ]
  },
  {
   "cell_type": "code",
   "execution_count": 9,
   "id": "88355303",
   "metadata": {
    "execution": {
     "iopub.execute_input": "2022-09-07T18:52:44.396004Z",
     "iopub.status.busy": "2022-09-07T18:52:44.395143Z",
     "iopub.status.idle": "2022-09-07T18:52:44.418343Z",
     "shell.execute_reply": "2022-09-07T18:52:44.417339Z"
    },
    "papermill": {
     "duration": 0.033401,
     "end_time": "2022-09-07T18:52:44.420472",
     "exception": false,
     "start_time": "2022-09-07T18:52:44.387071",
     "status": "completed"
    },
    "tags": []
   },
   "outputs": [
    {
     "data": {
      "text/plain": [
       "531"
      ]
     },
     "execution_count": 9,
     "metadata": {},
     "output_type": "execute_result"
    }
   ],
   "source": [
    "df = en_bn_translated_sahih_hadiths[en_bn_translated_sahih_hadiths['text_en'].str.contains('not found yet')]\n",
    "len(df)"
   ]
  },
  {
   "cell_type": "code",
   "execution_count": 10,
   "id": "c5e5ee4d",
   "metadata": {
    "execution": {
     "iopub.execute_input": "2022-09-07T18:52:44.435408Z",
     "iopub.status.busy": "2022-09-07T18:52:44.435146Z",
     "iopub.status.idle": "2022-09-07T18:52:44.443314Z",
     "shell.execute_reply": "2022-09-07T18:52:44.442444Z"
    },
    "papermill": {
     "duration": 0.01787,
     "end_time": "2022-09-07T18:52:44.445302",
     "exception": false,
     "start_time": "2022-09-07T18:52:44.427432",
     "status": "completed"
    },
    "tags": []
   },
   "outputs": [
    {
     "data": {
      "text/plain": [
       "13"
      ]
     },
     "execution_count": 10,
     "metadata": {},
     "output_type": "execute_result"
    }
   ],
   "source": [
    "len(df.text_en[3630])"
   ]
  },
  {
   "cell_type": "code",
   "execution_count": 11,
   "id": "f90f502a",
   "metadata": {
    "execution": {
     "iopub.execute_input": "2022-09-07T18:52:44.461017Z",
     "iopub.status.busy": "2022-09-07T18:52:44.460492Z",
     "iopub.status.idle": "2022-09-07T18:52:44.466600Z",
     "shell.execute_reply": "2022-09-07T18:52:44.465699Z"
    },
    "papermill": {
     "duration": 0.015836,
     "end_time": "2022-09-07T18:52:44.468485",
     "exception": false,
     "start_time": "2022-09-07T18:52:44.452649",
     "status": "completed"
    },
    "tags": []
   },
   "outputs": [
    {
     "data": {
      "text/plain": [
       "'حدثنا الحميدي عبد الله بن الزبير، قال حدثنا سفيان، قال حدثنا يحيى بن سعيد الأنصاري، قال أخبرني محمد بن إبراهيم التيمي، أنه سمع علقمة بن وقاص الليثي، يقول سمعت عمر بن الخطاب  رضى الله عنه  على المنبر قال سمعت رسول الله صلى الله عليه وسلم يقول \\u200f\"\\u200f إنما الأعمال بالنيات، وإنما لكل امرئ ما نوى، فمن كانت هجرته إلى دنيا يصيبها أو إلى امرأة ينكحها فهجرته إلى ما هاجر إليه \\u200f\"\\u200f\\u200f.\\u200f'"
      ]
     },
     "execution_count": 11,
     "metadata": {},
     "output_type": "execute_result"
    }
   ],
   "source": [
    "en_bn_translated_sahih_hadiths.text_ar[0]"
   ]
  },
  {
   "cell_type": "code",
   "execution_count": 12,
   "id": "2b8fa704",
   "metadata": {
    "execution": {
     "iopub.execute_input": "2022-09-07T18:52:44.483835Z",
     "iopub.status.busy": "2022-09-07T18:52:44.483555Z",
     "iopub.status.idle": "2022-09-07T21:13:58.678869Z",
     "shell.execute_reply": "2022-09-07T21:13:58.677707Z"
    },
    "papermill": {
     "duration": 8474.213303,
     "end_time": "2022-09-07T21:13:58.689100",
     "exception": false,
     "start_time": "2022-09-07T18:52:44.475797",
     "status": "completed"
    },
    "tags": []
   },
   "outputs": [
    {
     "name": "stderr",
     "output_type": "stream",
     "text": [
      "/opt/conda/lib/python3.7/site-packages/ipykernel_launcher.py:21: SettingWithCopyWarning: \n",
      "A value is trying to be set on a copy of a slice from a DataFrame\n",
      "\n",
      "See the caveats in the documentation: https://pandas.pydata.org/pandas-docs/stable/user_guide/indexing.html#returning-a-view-versus-a-copy\n",
      "/opt/conda/lib/python3.7/site-packages/ipykernel_launcher.py:19: SettingWithCopyWarning: \n",
      "A value is trying to be set on a copy of a slice from a DataFrame\n",
      "\n",
      "See the caveats in the documentation: https://pandas.pydata.org/pandas-docs/stable/user_guide/indexing.html#returning-a-view-versus-a-copy\n",
      "/opt/conda/lib/python3.7/site-packages/transformers/pipelines/base.py:1046: UserWarning: You seem to be using the pipelines sequentially on GPU. In order to maximize efficiency please use a dataset\n",
      "  UserWarning,\n"
     ]
    },
    {
     "name": "stdout",
     "output_type": "stream",
     "text": [
      "CPU times: user 2h 20min 28s, sys: 13.7 s, total: 2h 20min 42s\n",
      "Wall time: 2h 21min 14s\n"
     ]
    }
   ],
   "source": [
    "%%time\n",
    "\n",
    "def ar_to_en_bn_translator(en_text,ar_text,to_bn = False):\n",
    "    if(('not found yet' in en_text) or ('এখনো পাওয়া যায়নি' in en_text)):\n",
    "        pass\n",
    "    \n",
    "    else:\n",
    "        return en_text,False\n",
    "#     sentences = re.split(r'(?<=\\w\\.)\\s', str(en_text))\n",
    "\n",
    "    if(to_bn):\n",
    "        result = translation_pipeline_bn(ar_text)\n",
    "    else:\n",
    "        result = translation_pipeline(ar_text)\n",
    "    return result[0]['translation_text'],True\n",
    "  \n",
    "for i in range(len(en_bn_translated_sahih_hadiths)):\n",
    "    text,check_change = ar_to_en_bn_translator(en_bn_translated_sahih_hadiths.text_en[i],en_bn_translated_sahih_hadiths.text_ar[i])\n",
    "    if(check_change):\n",
    "        text,check_change = ar_to_en_bn_translator(en_bn_translated_sahih_hadiths.text_bn[i],en_bn_translated_sahih_hadiths.text_ar[i],to_bn = True)\n",
    "        en_bn_translated_sahih_hadiths[\"text_bn\"][i] = text\n",
    "        \n",
    "    en_bn_translated_sahih_hadiths[\"text_en\"][i] = text\n"
   ]
  },
  {
   "cell_type": "code",
   "execution_count": 13,
   "id": "a9692882",
   "metadata": {
    "execution": {
     "iopub.execute_input": "2022-09-07T21:13:58.706103Z",
     "iopub.status.busy": "2022-09-07T21:13:58.705096Z",
     "iopub.status.idle": "2022-09-07T21:13:58.727446Z",
     "shell.execute_reply": "2022-09-07T21:13:58.726438Z"
    },
    "papermill": {
     "duration": 0.033071,
     "end_time": "2022-09-07T21:13:58.729537",
     "exception": false,
     "start_time": "2022-09-07T21:13:58.696466",
     "status": "completed"
    },
    "tags": []
   },
   "outputs": [
    {
     "data": {
      "text/plain": [
       "0"
      ]
     },
     "execution_count": 13,
     "metadata": {},
     "output_type": "execute_result"
    }
   ],
   "source": [
    "\n",
    "df = en_bn_translated_sahih_hadiths[en_bn_translated_sahih_hadiths['text_bn'].str.contains('এখনো পাওয়া যায়নি')]\n",
    "len(df)"
   ]
  },
  {
   "cell_type": "code",
   "execution_count": 14,
   "id": "5d1c2c2a",
   "metadata": {
    "execution": {
     "iopub.execute_input": "2022-09-07T21:13:58.745807Z",
     "iopub.status.busy": "2022-09-07T21:13:58.745461Z",
     "iopub.status.idle": "2022-09-07T21:13:58.768463Z",
     "shell.execute_reply": "2022-09-07T21:13:58.767539Z"
    },
    "papermill": {
     "duration": 0.033472,
     "end_time": "2022-09-07T21:13:58.770454",
     "exception": false,
     "start_time": "2022-09-07T21:13:58.736982",
     "status": "completed"
    },
    "tags": []
   },
   "outputs": [
    {
     "data": {
      "text/plain": [
       "0"
      ]
     },
     "execution_count": 14,
     "metadata": {},
     "output_type": "execute_result"
    }
   ],
   "source": [
    "df = en_bn_translated_sahih_hadiths[en_bn_translated_sahih_hadiths['text_en'].str.contains('not found yet')]\n",
    "len(df)"
   ]
  },
  {
   "cell_type": "code",
   "execution_count": 15,
   "id": "9ac814c2",
   "metadata": {
    "execution": {
     "iopub.execute_input": "2022-09-07T21:13:58.787765Z",
     "iopub.status.busy": "2022-09-07T21:13:58.786691Z",
     "iopub.status.idle": "2022-09-07T21:13:59.568593Z",
     "shell.execute_reply": "2022-09-07T21:13:59.567376Z"
    },
    "papermill": {
     "duration": 0.793381,
     "end_time": "2022-09-07T21:13:59.571424",
     "exception": false,
     "start_time": "2022-09-07T21:13:58.778043",
     "status": "completed"
    },
    "tags": []
   },
   "outputs": [],
   "source": [
    "en_bn_translated_sahih_hadiths.to_csv('en_bn_translated_sahih_hadiths.csv',index = False)"
   ]
  },
  {
   "cell_type": "code",
   "execution_count": null,
   "id": "74f4518b",
   "metadata": {
    "papermill": {
     "duration": 0.011421,
     "end_time": "2022-09-07T21:13:59.595188",
     "exception": false,
     "start_time": "2022-09-07T21:13:59.583767",
     "status": "completed"
    },
    "tags": []
   },
   "outputs": [],
   "source": []
  }
 ],
 "metadata": {
  "kernelspec": {
   "display_name": "Python 3",
   "language": "python",
   "name": "python3"
  },
  "language_info": {
   "codemirror_mode": {
    "name": "ipython",
    "version": 3
   },
   "file_extension": ".py",
   "mimetype": "text/x-python",
   "name": "python",
   "nbconvert_exporter": "python",
   "pygments_lexer": "ipython3",
   "version": "3.7.12"
  },
  "papermill": {
   "default_parameters": {},
   "duration": 8614.264917,
   "end_time": "2022-09-07T21:14:02.670428",
   "environment_variables": {},
   "exception": null,
   "input_path": "__notebook__.ipynb",
   "output_path": "__notebook__.ipynb",
   "parameters": {},
   "start_time": "2022-09-07T18:50:28.405511",
   "version": "2.3.4"
  },
  "widgets": {
   "application/vnd.jupyter.widget-state+json": {
    "state": {
     "078de4a90df94625a19d9f5525a0f53d": {
      "model_module": "@jupyter-widgets/controls",
      "model_module_version": "1.5.0",
      "model_name": "HBoxModel",
      "state": {
       "_dom_classes": [],
       "_model_module": "@jupyter-widgets/controls",
       "_model_module_version": "1.5.0",
       "_model_name": "HBoxModel",
       "_view_count": null,
       "_view_module": "@jupyter-widgets/controls",
       "_view_module_version": "1.5.0",
       "_view_name": "HBoxView",
       "box_style": "",
       "children": [
        "IPY_MODEL_e2b0f199363d439380f285949d67d1a7",
        "IPY_MODEL_5e6c1eead7854719b00d2d8129643057",
        "IPY_MODEL_4a52a89da6c74ad09f4253fe990ce139"
       ],
       "layout": "IPY_MODEL_2b9ce537c1984bc88d7efcdee1eb65b5"
      }
     },
     "2b9ce537c1984bc88d7efcdee1eb65b5": {
      "model_module": "@jupyter-widgets/base",
      "model_module_version": "1.2.0",
      "model_name": "LayoutModel",
      "state": {
       "_model_module": "@jupyter-widgets/base",
       "_model_module_version": "1.2.0",
       "_model_name": "LayoutModel",
       "_view_count": null,
       "_view_module": "@jupyter-widgets/base",
       "_view_module_version": "1.2.0",
       "_view_name": "LayoutView",
       "align_content": null,
       "align_items": null,
       "align_self": null,
       "border": null,
       "bottom": null,
       "display": null,
       "flex": null,
       "flex_flow": null,
       "grid_area": null,
       "grid_auto_columns": null,
       "grid_auto_flow": null,
       "grid_auto_rows": null,
       "grid_column": null,
       "grid_gap": null,
       "grid_row": null,
       "grid_template_areas": null,
       "grid_template_columns": null,
       "grid_template_rows": null,
       "height": null,
       "justify_content": null,
       "justify_items": null,
       "left": null,
       "margin": null,
       "max_height": null,
       "max_width": null,
       "min_height": null,
       "min_width": null,
       "object_fit": null,
       "object_position": null,
       "order": null,
       "overflow": null,
       "overflow_x": null,
       "overflow_y": null,
       "padding": null,
       "right": null,
       "top": null,
       "visibility": null,
       "width": null
      }
     },
     "4a52a89da6c74ad09f4253fe990ce139": {
      "model_module": "@jupyter-widgets/controls",
      "model_module_version": "1.5.0",
      "model_name": "HTMLModel",
      "state": {
       "_dom_classes": [],
       "_model_module": "@jupyter-widgets/controls",
       "_model_module_version": "1.5.0",
       "_model_name": "HTMLModel",
       "_view_count": null,
       "_view_module": "@jupyter-widgets/controls",
       "_view_module_version": "1.5.0",
       "_view_name": "HTMLView",
       "description": "",
       "description_tooltip": null,
       "layout": "IPY_MODEL_ce0605f0cef44d5f8a2f144e33e5a804",
       "placeholder": "​",
       "style": "IPY_MODEL_9a6fb9f464b540738fe8dc394bf6b96f",
       "value": " 0/0 [00:00&lt;?, ?it/s]"
      }
     },
     "5e6c1eead7854719b00d2d8129643057": {
      "model_module": "@jupyter-widgets/controls",
      "model_module_version": "1.5.0",
      "model_name": "FloatProgressModel",
      "state": {
       "_dom_classes": [],
       "_model_module": "@jupyter-widgets/controls",
       "_model_module_version": "1.5.0",
       "_model_name": "FloatProgressModel",
       "_view_count": null,
       "_view_module": "@jupyter-widgets/controls",
       "_view_module_version": "1.5.0",
       "_view_name": "ProgressView",
       "bar_style": "success",
       "description": "",
       "description_tooltip": null,
       "layout": "IPY_MODEL_9cfa980ccba84f15a4b2a426ab933417",
       "max": 1.0,
       "min": 0.0,
       "orientation": "horizontal",
       "style": "IPY_MODEL_c2a6ce7c5cf54bc1b407b999ee5ba1dc",
       "value": 0.0
      }
     },
     "9a6fb9f464b540738fe8dc394bf6b96f": {
      "model_module": "@jupyter-widgets/controls",
      "model_module_version": "1.5.0",
      "model_name": "DescriptionStyleModel",
      "state": {
       "_model_module": "@jupyter-widgets/controls",
       "_model_module_version": "1.5.0",
       "_model_name": "DescriptionStyleModel",
       "_view_count": null,
       "_view_module": "@jupyter-widgets/base",
       "_view_module_version": "1.2.0",
       "_view_name": "StyleView",
       "description_width": ""
      }
     },
     "9cfa980ccba84f15a4b2a426ab933417": {
      "model_module": "@jupyter-widgets/base",
      "model_module_version": "1.2.0",
      "model_name": "LayoutModel",
      "state": {
       "_model_module": "@jupyter-widgets/base",
       "_model_module_version": "1.2.0",
       "_model_name": "LayoutModel",
       "_view_count": null,
       "_view_module": "@jupyter-widgets/base",
       "_view_module_version": "1.2.0",
       "_view_name": "LayoutView",
       "align_content": null,
       "align_items": null,
       "align_self": null,
       "border": null,
       "bottom": null,
       "display": null,
       "flex": null,
       "flex_flow": null,
       "grid_area": null,
       "grid_auto_columns": null,
       "grid_auto_flow": null,
       "grid_auto_rows": null,
       "grid_column": null,
       "grid_gap": null,
       "grid_row": null,
       "grid_template_areas": null,
       "grid_template_columns": null,
       "grid_template_rows": null,
       "height": null,
       "justify_content": null,
       "justify_items": null,
       "left": null,
       "margin": null,
       "max_height": null,
       "max_width": null,
       "min_height": null,
       "min_width": null,
       "object_fit": null,
       "object_position": null,
       "order": null,
       "overflow": null,
       "overflow_x": null,
       "overflow_y": null,
       "padding": null,
       "right": null,
       "top": null,
       "visibility": null,
       "width": "20px"
      }
     },
     "af2c628e7b6e45c79291de2e657e7e13": {
      "model_module": "@jupyter-widgets/controls",
      "model_module_version": "1.5.0",
      "model_name": "DescriptionStyleModel",
      "state": {
       "_model_module": "@jupyter-widgets/controls",
       "_model_module_version": "1.5.0",
       "_model_name": "DescriptionStyleModel",
       "_view_count": null,
       "_view_module": "@jupyter-widgets/base",
       "_view_module_version": "1.2.0",
       "_view_name": "StyleView",
       "description_width": ""
      }
     },
     "c2a6ce7c5cf54bc1b407b999ee5ba1dc": {
      "model_module": "@jupyter-widgets/controls",
      "model_module_version": "1.5.0",
      "model_name": "ProgressStyleModel",
      "state": {
       "_model_module": "@jupyter-widgets/controls",
       "_model_module_version": "1.5.0",
       "_model_name": "ProgressStyleModel",
       "_view_count": null,
       "_view_module": "@jupyter-widgets/base",
       "_view_module_version": "1.2.0",
       "_view_name": "StyleView",
       "bar_color": null,
       "description_width": ""
      }
     },
     "cd5361f2650549d5a37e2fe44c52d930": {
      "model_module": "@jupyter-widgets/base",
      "model_module_version": "1.2.0",
      "model_name": "LayoutModel",
      "state": {
       "_model_module": "@jupyter-widgets/base",
       "_model_module_version": "1.2.0",
       "_model_name": "LayoutModel",
       "_view_count": null,
       "_view_module": "@jupyter-widgets/base",
       "_view_module_version": "1.2.0",
       "_view_name": "LayoutView",
       "align_content": null,
       "align_items": null,
       "align_self": null,
       "border": null,
       "bottom": null,
       "display": null,
       "flex": null,
       "flex_flow": null,
       "grid_area": null,
       "grid_auto_columns": null,
       "grid_auto_flow": null,
       "grid_auto_rows": null,
       "grid_column": null,
       "grid_gap": null,
       "grid_row": null,
       "grid_template_areas": null,
       "grid_template_columns": null,
       "grid_template_rows": null,
       "height": null,
       "justify_content": null,
       "justify_items": null,
       "left": null,
       "margin": null,
       "max_height": null,
       "max_width": null,
       "min_height": null,
       "min_width": null,
       "object_fit": null,
       "object_position": null,
       "order": null,
       "overflow": null,
       "overflow_x": null,
       "overflow_y": null,
       "padding": null,
       "right": null,
       "top": null,
       "visibility": null,
       "width": null
      }
     },
     "ce0605f0cef44d5f8a2f144e33e5a804": {
      "model_module": "@jupyter-widgets/base",
      "model_module_version": "1.2.0",
      "model_name": "LayoutModel",
      "state": {
       "_model_module": "@jupyter-widgets/base",
       "_model_module_version": "1.2.0",
       "_model_name": "LayoutModel",
       "_view_count": null,
       "_view_module": "@jupyter-widgets/base",
       "_view_module_version": "1.2.0",
       "_view_name": "LayoutView",
       "align_content": null,
       "align_items": null,
       "align_self": null,
       "border": null,
       "bottom": null,
       "display": null,
       "flex": null,
       "flex_flow": null,
       "grid_area": null,
       "grid_auto_columns": null,
       "grid_auto_flow": null,
       "grid_auto_rows": null,
       "grid_column": null,
       "grid_gap": null,
       "grid_row": null,
       "grid_template_areas": null,
       "grid_template_columns": null,
       "grid_template_rows": null,
       "height": null,
       "justify_content": null,
       "justify_items": null,
       "left": null,
       "margin": null,
       "max_height": null,
       "max_width": null,
       "min_height": null,
       "min_width": null,
       "object_fit": null,
       "object_position": null,
       "order": null,
       "overflow": null,
       "overflow_x": null,
       "overflow_y": null,
       "padding": null,
       "right": null,
       "top": null,
       "visibility": null,
       "width": null
      }
     },
     "e2b0f199363d439380f285949d67d1a7": {
      "model_module": "@jupyter-widgets/controls",
      "model_module_version": "1.5.0",
      "model_name": "HTMLModel",
      "state": {
       "_dom_classes": [],
       "_model_module": "@jupyter-widgets/controls",
       "_model_module_version": "1.5.0",
       "_model_name": "HTMLModel",
       "_view_count": null,
       "_view_module": "@jupyter-widgets/controls",
       "_view_module_version": "1.5.0",
       "_view_name": "HTMLView",
       "description": "",
       "description_tooltip": null,
       "layout": "IPY_MODEL_cd5361f2650549d5a37e2fe44c52d930",
       "placeholder": "​",
       "style": "IPY_MODEL_af2c628e7b6e45c79291de2e657e7e13",
       "value": ""
      }
     }
    },
    "version_major": 2,
    "version_minor": 0
   }
  }
 },
 "nbformat": 4,
 "nbformat_minor": 5
}

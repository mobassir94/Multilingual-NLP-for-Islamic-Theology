{
 "cells": [
  {
   "cell_type": "code",
   "execution_count": 1,
   "id": "eb189aa2",
   "metadata": {
    "_cell_guid": "b1076dfc-b9ad-4769-8c92-a6c4dae69d19",
    "_uuid": "8f2839f25d086af736a60e9eeb907d3b93b6e0e5",
    "execution": {
     "iopub.execute_input": "2022-09-07T08:07:55.684984Z",
     "iopub.status.busy": "2022-09-07T08:07:55.684212Z",
     "iopub.status.idle": "2022-09-07T08:08:14.395752Z",
     "shell.execute_reply": "2022-09-07T08:08:14.393779Z"
    },
    "papermill": {
     "duration": 18.724244,
     "end_time": "2022-09-07T08:08:14.400023",
     "exception": false,
     "start_time": "2022-09-07T08:07:55.675779",
     "status": "completed"
    },
    "tags": []
   },
   "outputs": [
    {
     "name": "stdout",
     "output_type": "stream",
     "text": [
      "Collecting laserembeddings==1.1.2\r\n",
      "  Downloading laserembeddings-1.1.2-py3-none-any.whl (13 kB)\r\n",
      "Collecting transliterate==1.10.2\r\n",
      "  Downloading transliterate-1.10.2-py2.py3-none-any.whl (45 kB)\r\n",
      "\u001b[2K     \u001b[90m━━━━━━━━━━━━━━━━━━━━━━━━━━━━━━━━━━━━━━━━\u001b[0m \u001b[32m45.8/45.8 kB\u001b[0m \u001b[31m1.9 MB/s\u001b[0m eta \u001b[36m0:00:00\u001b[0m\r\n",
      "\u001b[?25hRequirement already satisfied: torch<2.0.0,>=1.0.1.post2 in /opt/conda/lib/python3.7/site-packages (from laserembeddings==1.1.2) (1.11.0+cpu)\r\n",
      "Requirement already satisfied: numpy<2.0.0,>=1.15.4 in /opt/conda/lib/python3.7/site-packages (from laserembeddings==1.1.2) (1.21.6)\r\n",
      "Collecting sacremoses==0.0.35\r\n",
      "  Downloading sacremoses-0.0.35.tar.gz (859 kB)\r\n",
      "\u001b[2K     \u001b[90m━━━━━━━━━━━━━━━━━━━━━━━━━━━━━━━━━━━━━━\u001b[0m \u001b[32m859.8/859.8 kB\u001b[0m \u001b[31m14.3 MB/s\u001b[0m eta \u001b[36m0:00:00\u001b[0m\r\n",
      "\u001b[?25h  Preparing metadata (setup.py) ... \u001b[?25l-\b \bdone\r\n",
      "\u001b[?25hCollecting subword-nmt<0.4.0,>=0.3.6\r\n",
      "  Downloading subword_nmt-0.3.8-py3-none-any.whl (27 kB)\r\n",
      "Requirement already satisfied: six in /opt/conda/lib/python3.7/site-packages (from sacremoses==0.0.35->laserembeddings==1.1.2) (1.15.0)\r\n",
      "Requirement already satisfied: click in /opt/conda/lib/python3.7/site-packages (from sacremoses==0.0.35->laserembeddings==1.1.2) (8.0.4)\r\n",
      "Requirement already satisfied: joblib in /opt/conda/lib/python3.7/site-packages (from sacremoses==0.0.35->laserembeddings==1.1.2) (1.0.1)\r\n",
      "Requirement already satisfied: tqdm in /opt/conda/lib/python3.7/site-packages (from sacremoses==0.0.35->laserembeddings==1.1.2) (4.64.0)\r\n",
      "Requirement already satisfied: mock in /opt/conda/lib/python3.7/site-packages (from subword-nmt<0.4.0,>=0.3.6->laserembeddings==1.1.2) (4.0.3)\r\n",
      "Requirement already satisfied: typing-extensions in /opt/conda/lib/python3.7/site-packages (from torch<2.0.0,>=1.0.1.post2->laserembeddings==1.1.2) (4.3.0)\r\n",
      "Requirement already satisfied: importlib-metadata in /opt/conda/lib/python3.7/site-packages (from click->sacremoses==0.0.35->laserembeddings==1.1.2) (4.12.0)\r\n",
      "Requirement already satisfied: zipp>=0.5 in /opt/conda/lib/python3.7/site-packages (from importlib-metadata->click->sacremoses==0.0.35->laserembeddings==1.1.2) (3.8.0)\r\n",
      "Building wheels for collected packages: sacremoses\r\n",
      "  Building wheel for sacremoses (setup.py) ... \u001b[?25l-\b \b\\\b \b|\b \b/\b \bdone\r\n",
      "\u001b[?25h  Created wheel for sacremoses: filename=sacremoses-0.0.35-py3-none-any.whl size=883989 sha256=00f8c25806c6c1e0ff3bbc161c6fe93d9773d52610e643a1e1cdbccabc466a12\r\n",
      "  Stored in directory: /root/.cache/pip/wheels/d1/ff/0e/e00ff1e22100702ac8b24e709551ae0fb29db9ffc843510a64\r\n",
      "Successfully built sacremoses\r\n",
      "Installing collected packages: transliterate, subword-nmt, sacremoses, laserembeddings\r\n",
      "  Attempting uninstall: sacremoses\r\n",
      "    Found existing installation: sacremoses 0.0.53\r\n",
      "    Uninstalling sacremoses-0.0.53:\r\n",
      "      Successfully uninstalled sacremoses-0.0.53\r\n",
      "\u001b[31mERROR: pip's dependency resolver does not currently take into account all the packages that are installed. This behaviour is the source of the following dependency conflicts.\r\n",
      "allennlp 2.10.0 requires protobuf==3.20.0, but you have protobuf 3.19.4 which is incompatible.\u001b[0m\u001b[31m\r\n",
      "\u001b[0mSuccessfully installed laserembeddings-1.1.2 sacremoses-0.0.35 subword-nmt-0.3.8 transliterate-1.10.2\r\n",
      "\u001b[33mWARNING: Running pip as the 'root' user can result in broken permissions and conflicting behaviour with the system package manager. It is recommended to use a virtual environment instead: https://pip.pypa.io/warnings/venv\u001b[0m\u001b[33m\r\n",
      "\u001b[0m/kaggle/input/en-bn-sahih-bukhari-muslim/en_bn_translated_sahih_hadiths.csv\n",
      "/kaggle/input/en-bn-sahih-bukhari-muslim/bn_bukhari_muslim.csv\n",
      "/kaggle/input/en-bn-sahih-bukhari-muslim/en_bn_bukhari_muslim.csv\n",
      "/kaggle/input/en-bn-sahih-bukhari-muslim/en_bukhari_muslim.csv\n",
      "/kaggle/input/quran-english/Quran_English.csv\n",
      "/kaggle/input/quran-english/Quran_English_with_Tafseer.csv\n",
      "/kaggle/input/laser111/93langs.fcodes\n",
      "/kaggle/input/laser111/laserembeddings-1.1.1-py3-none-any.whl\n",
      "/kaggle/input/laser111/93langs.fvocab\n",
      "/kaggle/input/laser111/bilstm.93langs.2018-12-26.pt\n",
      "/kaggle/input/laser111/transliterate-1.10.2-py2.py3-none-any.whl\n",
      "/kaggle/input/assets/en_bn_quran_tafsir.csv\n",
      "/kaggle/input/assets/93langs.fcodes\n",
      "/kaggle/input/assets/Holy_Quran_mlt_emb.npy\n",
      "/kaggle/input/assets/93langs.fvocab\n",
      "/kaggle/input/assets/en_bn_bukhari_muslim.csv\n",
      "/kaggle/input/assets/bilstm.93langs.2018-12-26.pt\n",
      "/kaggle/input/assets/en_emb_bukhari_muslim.npy\n",
      "/kaggle/input/bangla-quran-with-tafsir/en_bn_quran_tafsir.csv\n",
      "/kaggle/input/bangla-quran-with-tafsir/ben_quran_with_tafsir.csv\n",
      "/kaggle/input/mlt-bukhari-muslim-embeddings/__results__.html\n",
      "/kaggle/input/mlt-bukhari-muslim-embeddings/__notebook__.ipynb\n",
      "/kaggle/input/mlt-bukhari-muslim-embeddings/__output__.json\n",
      "/kaggle/input/mlt-bukhari-muslim-embeddings/en_bukhari_muslim.csv\n",
      "/kaggle/input/mlt-bukhari-muslim-embeddings/en_emb_bukhari_muslim.npy\n",
      "/kaggle/input/mlt-bukhari-muslim-embeddings/custom.css\n",
      "/kaggle/input/mlt-holy-quran-embeddings/__results__.html\n",
      "/kaggle/input/mlt-holy-quran-embeddings/Holy_Quran_mlt_emb.npy\n",
      "/kaggle/input/mlt-holy-quran-embeddings/__notebook__.ipynb\n",
      "/kaggle/input/mlt-holy-quran-embeddings/__output__.json\n",
      "/kaggle/input/mlt-holy-quran-embeddings/custom.css\n"
     ]
    }
   ],
   "source": [
    "# This Python 3 environment comes with many helpful analytics libraries installed\n",
    "# It is defined by the kaggle/python Docker image: https://github.com/kaggle/docker-python\n",
    "# For example, here's several helpful packages to load\n",
    "\n",
    "!pip install laserembeddings==1.1.2\n",
    "#!python -m laserembeddings download-models\n",
    "\n",
    "from tqdm.auto import tqdm\n",
    "import re\n",
    "tqdm.pandas()\n",
    "import numpy as np # linear algebra\n",
    "import pandas as pd # data processing, CSV file I/O (e.g. pd.read_csv)\n",
    "\n",
    "from laserembeddings import Laser\n",
    "\n",
    "# Input data files are available in the read-only \"../input/\" directory\n",
    "# For example, running this (by clicking run or pressing Shift+Enter) will list all files under the input directory\n",
    "import sys\n",
    "import os\n",
    "#os.system('python -m laserembeddings download-models')\n",
    "\n",
    "for dirname, _, filenames in os.walk('/kaggle/input'):\n",
    "    for filename in filenames:\n",
    "        print(os.path.join(dirname, filename))\n",
    "\n",
    "# You can write up to 20GB to the current directory (/kaggle/working/) that gets preserved as output when you create a version using \"Save & Run All\" \n",
    "# You can also write temporary files to /kaggle/temp/, but they won't be saved outside of the current session"
   ]
  },
  {
   "cell_type": "code",
   "execution_count": 2,
   "id": "e3f8436f",
   "metadata": {
    "execution": {
     "iopub.execute_input": "2022-09-07T08:08:14.416752Z",
     "iopub.status.busy": "2022-09-07T08:08:14.416023Z",
     "iopub.status.idle": "2022-09-07T08:08:15.552334Z",
     "shell.execute_reply": "2022-09-07T08:08:15.550889Z"
    },
    "papermill": {
     "duration": 1.147382,
     "end_time": "2022-09-07T08:08:15.554897",
     "exception": false,
     "start_time": "2022-09-07T08:08:14.407515",
     "status": "completed"
    },
    "tags": []
   },
   "outputs": [],
   "source": [
    "ls /opt/conda/lib/python3.7/site-packages/laserembeddings/data"
   ]
  },
  {
   "cell_type": "code",
   "execution_count": 3,
   "id": "e7e721da",
   "metadata": {
    "execution": {
     "iopub.execute_input": "2022-09-07T08:08:15.570602Z",
     "iopub.status.busy": "2022-09-07T08:08:15.570117Z",
     "iopub.status.idle": "2022-09-07T08:08:15.582382Z",
     "shell.execute_reply": "2022-09-07T08:08:15.581399Z"
    },
    "papermill": {
     "duration": 0.024189,
     "end_time": "2022-09-07T08:08:15.585891",
     "exception": false,
     "start_time": "2022-09-07T08:08:15.561702",
     "status": "completed"
    },
    "tags": []
   },
   "outputs": [
    {
     "name": "stdout",
     "output_type": "stream",
     "text": [
      "/root/.local/lib/python3.7/site-packages\n"
     ]
    },
    {
     "data": {
      "text/plain": [
       "'/opt/conda/lib/python3.7/site-packages'"
      ]
     },
     "execution_count": 3,
     "metadata": {},
     "output_type": "execute_result"
    }
   ],
   "source": [
    "import site\n",
    "loc = site.getsitepackages() \n",
    "data_path = loc[0]+'/laserembeddings/data'\n",
    "print(site.getusersitepackages()) # String for user-specific package location)\n",
    "loc[0]"
   ]
  },
  {
   "cell_type": "code",
   "execution_count": 4,
   "id": "beb3874a",
   "metadata": {
    "execution": {
     "iopub.execute_input": "2022-09-07T08:08:15.602298Z",
     "iopub.status.busy": "2022-09-07T08:08:15.601893Z",
     "iopub.status.idle": "2022-09-07T08:08:20.117041Z",
     "shell.execute_reply": "2022-09-07T08:08:20.115448Z"
    },
    "papermill": {
     "duration": 4.527071,
     "end_time": "2022-09-07T08:08:20.120161",
     "exception": false,
     "start_time": "2022-09-07T08:08:15.593090",
     "status": "completed"
    },
    "tags": []
   },
   "outputs": [
    {
     "name": "stdout",
     "output_type": "stream",
     "text": [
      "93langs.fcodes\t93langs.fvocab\tbilstm.93langs.2018-12-26.pt\r\n"
     ]
    }
   ],
   "source": [
    "\n",
    "if not os.path.exists(data_path):\n",
    "    os.makedirs('data')\n",
    "import shutil\n",
    "shutil.copy('../input/assets/93langs.fcodes', data_path)\n",
    "shutil.copy('../input/assets/93langs.fvocab', data_path)\n",
    "shutil.copy('../input/assets/bilstm.93langs.2018-12-26.pt', data_path)\n",
    "\n",
    "!ls '/opt/conda/lib/python3.7/site-packages/laserembeddings/data'"
   ]
  },
  {
   "cell_type": "code",
   "execution_count": 5,
   "id": "db671167",
   "metadata": {
    "execution": {
     "iopub.execute_input": "2022-09-07T08:08:20.136881Z",
     "iopub.status.busy": "2022-09-07T08:08:20.136450Z",
     "iopub.status.idle": "2022-09-07T08:08:20.141830Z",
     "shell.execute_reply": "2022-09-07T08:08:20.140418Z"
    },
    "papermill": {
     "duration": 0.016786,
     "end_time": "2022-09-07T08:08:20.144382",
     "exception": false,
     "start_time": "2022-09-07T08:08:20.127596",
     "status": "completed"
    },
    "tags": []
   },
   "outputs": [],
   "source": [
    "# shutil.copy('/opt/conda/lib/python3.7/site-packages/laserembeddings/data/93langs.fcodes', './')\n",
    "# shutil.copy('/opt/conda/lib/python3.7/site-packages/laserembeddings/data/93langs.fvocab', './')\n",
    "# shutil.copy('/opt/conda/lib/python3.7/site-packages/laserembeddings/data/bilstm.93langs.2018-12-26.pt', './')\n"
   ]
  },
  {
   "cell_type": "code",
   "execution_count": 6,
   "id": "11109938",
   "metadata": {
    "execution": {
     "iopub.execute_input": "2022-09-07T08:08:20.159950Z",
     "iopub.status.busy": "2022-09-07T08:08:20.159525Z",
     "iopub.status.idle": "2022-09-07T08:08:21.210984Z",
     "shell.execute_reply": "2022-09-07T08:08:21.209575Z"
    },
    "papermill": {
     "duration": 1.062672,
     "end_time": "2022-09-07T08:08:21.213911",
     "exception": false,
     "start_time": "2022-09-07T08:08:20.151239",
     "status": "completed"
    },
    "tags": []
   },
   "outputs": [],
   "source": [
    "corpus_emb_quran = np.load('../input/assets/Holy_Quran_mlt_emb.npy')\n",
    "corpus_emb_hadith = np.load('../input/assets/en_emb_bukhari_muslim.npy')"
   ]
  },
  {
   "cell_type": "code",
   "execution_count": 7,
   "id": "d7fb592a",
   "metadata": {
    "execution": {
     "iopub.execute_input": "2022-09-07T08:08:21.230927Z",
     "iopub.status.busy": "2022-09-07T08:08:21.230511Z",
     "iopub.status.idle": "2022-09-07T08:08:22.844397Z",
     "shell.execute_reply": "2022-09-07T08:08:22.842568Z"
    },
    "papermill": {
     "duration": 1.626613,
     "end_time": "2022-09-07T08:08:22.847807",
     "exception": false,
     "start_time": "2022-09-07T08:08:21.221194",
     "status": "completed"
    },
    "tags": []
   },
   "outputs": [],
   "source": [
    "en_bn_quran_tafsir = pd.read_csv('../input/assets/en_bn_quran_tafsir.csv')\n",
    "\n",
    "en_bn_bukhari_muslim = pd.read_csv('../input/assets/en_bn_bukhari_muslim.csv')"
   ]
  },
  {
   "cell_type": "code",
   "execution_count": 8,
   "id": "4cc78ff7",
   "metadata": {
    "execution": {
     "iopub.execute_input": "2022-09-07T08:08:22.865505Z",
     "iopub.status.busy": "2022-09-07T08:08:22.864278Z",
     "iopub.status.idle": "2022-09-07T08:08:23.881870Z",
     "shell.execute_reply": "2022-09-07T08:08:23.880663Z"
    },
    "papermill": {
     "duration": 1.029788,
     "end_time": "2022-09-07T08:08:23.884684",
     "exception": false,
     "start_time": "2022-09-07T08:08:22.854896",
     "status": "completed"
    },
    "tags": []
   },
   "outputs": [],
   "source": [
    "from numpy import dot\n",
    "from numpy.linalg import norm\n",
    "#https://stackoverflow.com/questions/21030391/how-to-normalize-a-numpy-array-to-a-unit-vector\n",
    "def normalized(a, axis=-1, order=2):\n",
    "    l2 = np.atleast_1d(np.linalg.norm(a, order, axis))\n",
    "    l2[l2==0] = 1\n",
    "    return a / np.expand_dims(l2, axis)\n",
    "\n",
    "\n",
    "def pairwise_dot(v1, v2):\n",
    "    return (normalized(v1) * normalized(v2)).sum(axis=1)\n",
    "\n",
    "def pairwise_euclidean_dists(x, y):\n",
    "    dists = -2 * np.matmul(x, y.T)\n",
    "    dists +=  np.sum(x**2, axis=1)[:, np.newaxis]\n",
    "    dists += np.sum(y**2, axis=1)\n",
    "    return  np.sqrt(dists)\n",
    "\n",
    "\n",
    "laser = Laser()"
   ]
  },
  {
   "cell_type": "code",
   "execution_count": 9,
   "id": "225360b6",
   "metadata": {
    "execution": {
     "iopub.execute_input": "2022-09-07T08:08:23.900570Z",
     "iopub.status.busy": "2022-09-07T08:08:23.900140Z",
     "iopub.status.idle": "2022-09-07T08:08:23.923190Z",
     "shell.execute_reply": "2022-09-07T08:08:23.921971Z"
    },
    "papermill": {
     "duration": 0.03442,
     "end_time": "2022-09-07T08:08:23.926070",
     "exception": false,
     "start_time": "2022-09-07T08:08:23.891650",
     "status": "completed"
    },
    "tags": []
   },
   "outputs": [
    {
     "data": {
      "text/html": [
       "<div>\n",
       "<style scoped>\n",
       "    .dataframe tbody tr th:only-of-type {\n",
       "        vertical-align: middle;\n",
       "    }\n",
       "\n",
       "    .dataframe tbody tr th {\n",
       "        vertical-align: top;\n",
       "    }\n",
       "\n",
       "    .dataframe thead th {\n",
       "        text-align: right;\n",
       "    }\n",
       "</style>\n",
       "<table border=\"1\" class=\"dataframe\">\n",
       "  <thead>\n",
       "    <tr style=\"text-align: right;\">\n",
       "      <th></th>\n",
       "      <th>id</th>\n",
       "      <th>hadith_id</th>\n",
       "      <th>source</th>\n",
       "      <th>chapter_no</th>\n",
       "      <th>hadith_no</th>\n",
       "      <th>chapter</th>\n",
       "      <th>chain_indx</th>\n",
       "      <th>text_ar</th>\n",
       "      <th>text_en</th>\n",
       "      <th>narrators</th>\n",
       "      <th>text_bn</th>\n",
       "    </tr>\n",
       "  </thead>\n",
       "  <tbody>\n",
       "    <tr>\n",
       "      <th>0</th>\n",
       "      <td>0</td>\n",
       "      <td>1</td>\n",
       "      <td>Sahih Bukhari</td>\n",
       "      <td>1</td>\n",
       "      <td>1</td>\n",
       "      <td>Revelation</td>\n",
       "      <td>30418, 20005, 11062, 11213, 11042, 3</td>\n",
       "      <td>حدثنا الحميدي عبد الله بن الزبير، قال حدثنا سف...</td>\n",
       "      <td>Narrated Umar bin Al-Khattab:           ...</td>\n",
       "      <td>'Abdullah bin al Zubair bin 'Isa ,Sufyan bin '...</td>\n",
       "      <td>উমর বিন আল-খাত্তাবের বর্ণনায় উমর বিন আল-খাত্ত...</td>\n",
       "    </tr>\n",
       "  </tbody>\n",
       "</table>\n",
       "</div>"
      ],
      "text/plain": [
       "   id  hadith_id           source  chapter_no  hadith_no      chapter  \\\n",
       "0   0          1   Sahih Bukhari            1          1  Revelation    \n",
       "\n",
       "                             chain_indx  \\\n",
       "0  30418, 20005, 11062, 11213, 11042, 3   \n",
       "\n",
       "                                             text_ar  \\\n",
       "0  حدثنا الحميدي عبد الله بن الزبير، قال حدثنا سف...   \n",
       "\n",
       "                                             text_en  \\\n",
       "0        Narrated Umar bin Al-Khattab:           ...   \n",
       "\n",
       "                                           narrators  \\\n",
       "0  'Abdullah bin al Zubair bin 'Isa ,Sufyan bin '...   \n",
       "\n",
       "                                             text_bn  \n",
       "0  উমর বিন আল-খাত্তাবের বর্ণনায় উমর বিন আল-খাত্ত...  "
      ]
     },
     "execution_count": 9,
     "metadata": {},
     "output_type": "execute_result"
    }
   ],
   "source": [
    "en_bn_bukhari_muslim.head(1)"
   ]
  },
  {
   "cell_type": "code",
   "execution_count": 10,
   "id": "b16e0e73",
   "metadata": {
    "execution": {
     "iopub.execute_input": "2022-09-07T08:08:23.942033Z",
     "iopub.status.busy": "2022-09-07T08:08:23.941594Z",
     "iopub.status.idle": "2022-09-07T08:08:23.955780Z",
     "shell.execute_reply": "2022-09-07T08:08:23.954416Z"
    },
    "papermill": {
     "duration": 0.02523,
     "end_time": "2022-09-07T08:08:23.958465",
     "exception": false,
     "start_time": "2022-09-07T08:08:23.933235",
     "status": "completed"
    },
    "tags": []
   },
   "outputs": [],
   "source": [
    "def MLT_Sahih_Hadith_Search_Engine(query,size=10,language = 'en',metric = 'dot',query_embedding=None):\n",
    "\n",
    "    if(metric == 'dot'):\n",
    "        query_embedding = np.squeeze(np.asarray(query_embedding))\n",
    "        linear_similarities = pairwise_dot(corpus_emb_hadith, query_embedding)\n",
    "\n",
    "    else:\n",
    "        linear_similarities = pairwise_euclidean_dists(corpus_emb_hadith, query_embedding)\n",
    "        linear_similarities = np.squeeze(np.asarray(linear_similarities))\n",
    "        linear_similarities = np.array(linear_similarities, dtype=np.float32)\n",
    "\n",
    "    if(metric == 'dot'):\n",
    "        Top_index_doc = linear_similarities.argsort()[:-(size+1):-1]\n",
    "    else:\n",
    "        Top_index_doc = linear_similarities.argsort()[:-(size+1):]\n",
    "        Top_index_doc = Top_index_doc[:size]\n",
    "\n",
    "    \n",
    "    linear_similarities.sort()\n",
    "    find = pd.DataFrame()\n",
    "    for i,index in enumerate(Top_index_doc):\n",
    "        find.loc[i,'source'] = str(en_bn_bukhari_muslim['source'][index])\n",
    "        find.loc[i,'chapter_no'] = str(en_bn_bukhari_muslim['chapter_no'][index])\n",
    "        find.loc[i,'hadith_no'] = str(en_bn_bukhari_muslim['hadith_no'][index])\n",
    "        find.loc[i,'chapter'] = str(en_bn_bukhari_muslim['chapter'][index])\n",
    "        find.loc[i,'text_ar'] = str(en_bn_bukhari_muslim['text_ar'][index])\n",
    "        find.loc[i,'text_en'] = str(en_bn_bukhari_muslim['text_en'][index])\n",
    "        find.loc[i,'text_bn'] = str(en_bn_bukhari_muslim['text_bn'][index])\n",
    "        find.loc[i,'narrators'] = str(en_bn_bukhari_muslim['narrators'][index])\n",
    "        \n",
    "\n",
    "    for j,simScore in enumerate(linear_similarities[:-(size+1):-1]):\n",
    "        find.loc[j,'Score'] = simScore\n",
    "\n",
    "    return find"
   ]
  },
  {
   "cell_type": "code",
   "execution_count": 11,
   "id": "bb34db04",
   "metadata": {
    "execution": {
     "iopub.execute_input": "2022-09-07T08:08:23.975342Z",
     "iopub.status.busy": "2022-09-07T08:08:23.974083Z",
     "iopub.status.idle": "2022-09-07T08:08:23.989018Z",
     "shell.execute_reply": "2022-09-07T08:08:23.987497Z"
    },
    "papermill": {
     "duration": 0.026254,
     "end_time": "2022-09-07T08:08:23.991887",
     "exception": false,
     "start_time": "2022-09-07T08:08:23.965633",
     "status": "completed"
    },
    "tags": []
   },
   "outputs": [
    {
     "data": {
      "text/html": [
       "<div>\n",
       "<style scoped>\n",
       "    .dataframe tbody tr th:only-of-type {\n",
       "        vertical-align: middle;\n",
       "    }\n",
       "\n",
       "    .dataframe tbody tr th {\n",
       "        vertical-align: top;\n",
       "    }\n",
       "\n",
       "    .dataframe thead th {\n",
       "        text-align: right;\n",
       "    }\n",
       "</style>\n",
       "<table border=\"1\" class=\"dataframe\">\n",
       "  <thead>\n",
       "    <tr style=\"text-align: right;\">\n",
       "      <th></th>\n",
       "      <th>Name</th>\n",
       "      <th>Surah</th>\n",
       "      <th>Ayat</th>\n",
       "      <th>Verse</th>\n",
       "      <th>Tafseer</th>\n",
       "      <th>ar_text</th>\n",
       "      <th>আল_বায়ান</th>\n",
       "      <th>tafsir_bayan</th>\n",
       "    </tr>\n",
       "  </thead>\n",
       "  <tbody>\n",
       "    <tr>\n",
       "      <th>0</th>\n",
       "      <td>The Opening</td>\n",
       "      <td>1</td>\n",
       "      <td>1</td>\n",
       "      <td>In the name of Allah, the Beneficent, the Merc...</td>\n",
       "      <td>In the Name of God the Compassionate the Merciful</td>\n",
       "      <td>بِسۡمِ اللّٰهِ الرَّحۡمٰنِ الرَّحِیۡمِ ﴿۱﴾\\nب...</td>\n",
       "      <td>পরম করুণাময় অতি দয়ালু আল্লাহর নামে।</td>\n",
       "      <td>(১) অনন্ত করুণাময় পরম দয়ালু আল্লাহর নামে (আরম্...</td>\n",
       "    </tr>\n",
       "  </tbody>\n",
       "</table>\n",
       "</div>"
      ],
      "text/plain": [
       "          Name  Surah  Ayat  \\\n",
       "0  The Opening      1     1   \n",
       "\n",
       "                                               Verse  \\\n",
       "0  In the name of Allah, the Beneficent, the Merc...   \n",
       "\n",
       "                                             Tafseer  \\\n",
       "0  In the Name of God the Compassionate the Merciful   \n",
       "\n",
       "                                             ar_text  \\\n",
       "0   بِسۡمِ اللّٰهِ الرَّحۡمٰنِ الرَّحِیۡمِ ﴿۱﴾\\nب...   \n",
       "\n",
       "                              আল_বায়ান  \\\n",
       "0  পরম করুণাময় অতি দয়ালু আল্লাহর নামে।    \n",
       "\n",
       "                                        tafsir_bayan  \n",
       "0  (১) অনন্ত করুণাময় পরম দয়ালু আল্লাহর নামে (আরম্...  "
      ]
     },
     "execution_count": 11,
     "metadata": {},
     "output_type": "execute_result"
    }
   ],
   "source": [
    "en_bn_quran_tafsir.head(1)"
   ]
  },
  {
   "cell_type": "code",
   "execution_count": 12,
   "id": "ddc138ea",
   "metadata": {
    "execution": {
     "iopub.execute_input": "2022-09-07T08:08:24.008953Z",
     "iopub.status.busy": "2022-09-07T08:08:24.008384Z",
     "iopub.status.idle": "2022-09-07T08:08:24.024556Z",
     "shell.execute_reply": "2022-09-07T08:08:24.023157Z"
    },
    "papermill": {
     "duration": 0.028199,
     "end_time": "2022-09-07T08:08:24.027399",
     "exception": false,
     "start_time": "2022-09-07T08:08:23.999200",
     "status": "completed"
    },
    "tags": []
   },
   "outputs": [],
   "source": [
    "def Multilingual_Quran_Hadith_Search_Engine(query,size=10,language = 'en',metric = 'dot'):\n",
    "\n",
    "    query_embedding = laser.embed_sentences(query, lang=language)\n",
    "\n",
    "    mlt_hadiths = MLT_Sahih_Hadith_Search_Engine(query,size=size,language = 'en',metric = metric,query_embedding=query_embedding)\n",
    "    \n",
    "    if(metric == 'dot'):\n",
    "        query_embedding = np.squeeze(np.asarray(query_embedding))\n",
    "        linear_similarities = pairwise_dot(corpus_emb_quran, query_embedding)\n",
    "   \n",
    "    else:\n",
    "        linear_similarities = pairwise_euclidean_dists(corpus_emb_quran, query_embedding)\n",
    "        linear_similarities = np.squeeze(np.asarray(linear_similarities))\n",
    "        linear_similarities = np.array(linear_similarities, dtype=np.float32)\n",
    "\n",
    "    if(metric == 'dot'):\n",
    "        Top_index_doc = linear_similarities.argsort()[:-(size+1):-1]\n",
    "    else:\n",
    "        Top_index_doc = linear_similarities.argsort()[:-(size+1):]\n",
    "        Top_index_doc = Top_index_doc[:size]\n",
    "\n",
    "  \n",
    "    linear_similarities.sort()\n",
    "    find = pd.DataFrame()\n",
    "    for i,index in enumerate(Top_index_doc):\n",
    "        find.loc[i,'Name'] = str(en_bn_quran_tafsir['Name'][index])\n",
    "        find.loc[i,'Surah'] = str(en_bn_quran_tafsir['Surah'][index])\n",
    "        find.loc[i,'Ayat'] = str(en_bn_quran_tafsir['Ayat'][index])\n",
    "        find.loc[i,'Verse'] = str(en_bn_quran_tafsir['Verse'][index]) \n",
    "        find.loc[i,'Tafseer'] = str(en_bn_quran_tafsir['Tafseer'][index]) \n",
    "        find.loc[i,'ar_text'] = str(en_bn_quran_tafsir['ar_text'][index])\n",
    "        \n",
    "        find.loc[i,'আল_বায়ান'] = str(en_bn_quran_tafsir['আল_বায়ান'][index])\n",
    "        find.loc[i,'tafsir_bayan'] = str(en_bn_quran_tafsir['tafsir_bayan'][index])\n",
    "\n",
    "    for j,simScore in enumerate(linear_similarities[:-(size+1):-1]):\n",
    "        find.loc[j,'Score'] = simScore\n",
    "  \n",
    "    return find,mlt_hadiths"
   ]
  },
  {
   "cell_type": "code",
   "execution_count": 13,
   "id": "6773c424",
   "metadata": {
    "execution": {
     "iopub.execute_input": "2022-09-07T08:08:24.043726Z",
     "iopub.status.busy": "2022-09-07T08:08:24.043236Z",
     "iopub.status.idle": "2022-09-07T08:08:24.610790Z",
     "shell.execute_reply": "2022-09-07T08:08:24.609308Z"
    },
    "papermill": {
     "duration": 0.578766,
     "end_time": "2022-09-07T08:08:24.613436",
     "exception": false,
     "start_time": "2022-09-07T08:08:24.034670",
     "status": "completed"
    },
    "tags": []
   },
   "outputs": [
    {
     "name": "stdout",
     "output_type": "stream",
     "text": [
      "CPU times: user 494 ms, sys: 75.8 ms, total: 570 ms\n",
      "Wall time: 561 ms\n"
     ]
    }
   ],
   "source": [
    "%%time\n",
    "find,mlt_hadiths = Multilingual_Quran_Hadith_Search_Engine(\"fire\",size=5,language = 'en',metric = 'dot')"
   ]
  },
  {
   "cell_type": "code",
   "execution_count": 14,
   "id": "fc74159e",
   "metadata": {
    "execution": {
     "iopub.execute_input": "2022-09-07T08:08:24.630809Z",
     "iopub.status.busy": "2022-09-07T08:08:24.630367Z",
     "iopub.status.idle": "2022-09-07T08:08:24.648504Z",
     "shell.execute_reply": "2022-09-07T08:08:24.647271Z"
    },
    "papermill": {
     "duration": 0.029262,
     "end_time": "2022-09-07T08:08:24.650933",
     "exception": false,
     "start_time": "2022-09-07T08:08:24.621671",
     "status": "completed"
    },
    "tags": []
   },
   "outputs": [
    {
     "data": {
      "text/html": [
       "<div>\n",
       "<style scoped>\n",
       "    .dataframe tbody tr th:only-of-type {\n",
       "        vertical-align: middle;\n",
       "    }\n",
       "\n",
       "    .dataframe tbody tr th {\n",
       "        vertical-align: top;\n",
       "    }\n",
       "\n",
       "    .dataframe thead th {\n",
       "        text-align: right;\n",
       "    }\n",
       "</style>\n",
       "<table border=\"1\" class=\"dataframe\">\n",
       "  <thead>\n",
       "    <tr style=\"text-align: right;\">\n",
       "      <th></th>\n",
       "      <th>Name</th>\n",
       "      <th>Surah</th>\n",
       "      <th>Ayat</th>\n",
       "      <th>Verse</th>\n",
       "      <th>Tafseer</th>\n",
       "      <th>ar_text</th>\n",
       "      <th>আল_বায়ান</th>\n",
       "      <th>tafsir_bayan</th>\n",
       "      <th>Score</th>\n",
       "    </tr>\n",
       "  </thead>\n",
       "  <tbody>\n",
       "    <tr>\n",
       "      <th>0</th>\n",
       "      <td>The Event</td>\n",
       "      <td>56</td>\n",
       "      <td>94</td>\n",
       "      <td>And roasting at hell-fire.</td>\n",
       "      <td>and a roasting in Hell-fire.</td>\n",
       "      <td>وَّ تَصۡلِیَۃُ جَحِیۡمٍ ﴿۹۴﴾\\nو تصلیۃ جحیم ﴿۹۴﴾</td>\n",
       "      <td>আর জ্বলন্ত আগুনে প্রজ্জ্বলনে।</td>\n",
       "      <td>(৯৪) এবং জাহান্নাম প্রবেশ।-তাফসীরে আহসানুল বায়ান</td>\n",
       "      <td>0.268898</td>\n",
       "    </tr>\n",
       "    <tr>\n",
       "      <th>1</th>\n",
       "      <td>Defrauding</td>\n",
       "      <td>83</td>\n",
       "      <td>9</td>\n",
       "      <td>A written record.</td>\n",
       "      <td>It is a sealed book.</td>\n",
       "      <td>کِتٰبٌ مَّرۡقُوۡمٌ ؕ﴿۹﴾\\nکتب مرقوم ﴿۹﴾</td>\n",
       "      <td>লিখিত কিতাব।</td>\n",
       "      <td>৯। ওটা হচ্ছে লিপিবদ্ধ পুস্তক।-তাফসীরে আহসানুল ...</td>\n",
       "      <td>0.257667</td>\n",
       "    </tr>\n",
       "    <tr>\n",
       "      <th>2</th>\n",
       "      <td>The Event</td>\n",
       "      <td>56</td>\n",
       "      <td>43</td>\n",
       "      <td>And shadow of black smoke,</td>\n",
       "      <td>and the shade of pitch-black smoke</td>\n",
       "      <td>وَّ ظِلٍّ مِّنۡ یَّحۡمُوۡمٍ ﴿ۙ۴۳﴾\\nو ظل من یح...</td>\n",
       "      <td>আর প্রচন্ড কালো ধোঁয়ার ছায়ায়,</td>\n",
       "      <td>(৪৩) কালোবর্ণ ধোঁয়ার ছায়ায়। [1][1] سَمُومٌ আগু...</td>\n",
       "      <td>0.244060</td>\n",
       "    </tr>\n",
       "    <tr>\n",
       "      <th>3</th>\n",
       "      <td>Solace</td>\n",
       "      <td>94</td>\n",
       "      <td>2</td>\n",
       "      <td>And eased thee of the burden</td>\n",
       "      <td>and relieve you of your burden</td>\n",
       "      <td>وَ وَضَعۡنَا عَنۡکَ وِزۡرَکَ ۙ﴿۲﴾\\nو وضعنا عن...</td>\n",
       "      <td>আর আমি নামিয়ে দিয়েছি তোমার থেকে তোমার বোঝা,</td>\n",
       "      <td>২। আমি তোমার উপর হতে অপসারণ করেছি তোমার সেই ভা...</td>\n",
       "      <td>0.237704</td>\n",
       "    </tr>\n",
       "    <tr>\n",
       "      <th>4</th>\n",
       "      <td>The Event</td>\n",
       "      <td>56</td>\n",
       "      <td>32</td>\n",
       "      <td>And fruit in plenty</td>\n",
       "      <td>and abundant fruit</td>\n",
       "      <td>وَّ فَاکِهَۃٍ کَثِیۡرَۃٍ ﴿ۙ۳۲﴾\\nو فاکهۃ کثیرۃ...</td>\n",
       "      <td>আর প্রচুর ফলমূলে,</td>\n",
       "      <td>(৩২) এবং প্রচুর ফলমূল;-তাফসীরে আহসানুল বায়ান</td>\n",
       "      <td>0.226537</td>\n",
       "    </tr>\n",
       "  </tbody>\n",
       "</table>\n",
       "</div>"
      ],
      "text/plain": [
       "         Name Surah Ayat                         Verse  \\\n",
       "0   The Event    56   94    And roasting at hell-fire.   \n",
       "1  Defrauding    83    9             A written record.   \n",
       "2   The Event    56   43    And shadow of black smoke,   \n",
       "3      Solace    94    2  And eased thee of the burden   \n",
       "4   The Event    56   32           And fruit in plenty   \n",
       "\n",
       "                              Tafseer  \\\n",
       "0        and a roasting in Hell-fire.   \n",
       "1                It is a sealed book.   \n",
       "2  and the shade of pitch-black smoke   \n",
       "3      and relieve you of your burden   \n",
       "4                  and abundant fruit   \n",
       "\n",
       "                                             ar_text  \\\n",
       "0    وَّ تَصۡلِیَۃُ جَحِیۡمٍ ﴿۹۴﴾\\nو تصلیۃ جحیم ﴿۹۴﴾   \n",
       "1             کِتٰبٌ مَّرۡقُوۡمٌ ؕ﴿۹﴾\\nکتب مرقوم ﴿۹﴾   \n",
       "2   وَّ ظِلٍّ مِّنۡ یَّحۡمُوۡمٍ ﴿ۙ۴۳﴾\\nو ظل من یح...   \n",
       "3   وَ وَضَعۡنَا عَنۡکَ وِزۡرَکَ ۙ﴿۲﴾\\nو وضعنا عن...   \n",
       "4   وَّ فَاکِهَۃٍ کَثِیۡرَۃٍ ﴿ۙ۳۲﴾\\nو فاکهۃ کثیرۃ...   \n",
       "\n",
       "                                      আল_বায়ান  \\\n",
       "0                আর জ্বলন্ত আগুনে প্রজ্জ্বলনে।    \n",
       "1                                 লিখিত কিতাব।    \n",
       "2                আর প্রচন্ড কালো ধোঁয়ার ছায়ায়,    \n",
       "3  আর আমি নামিয়ে দিয়েছি তোমার থেকে তোমার বোঝা,    \n",
       "4                            আর প্রচুর ফলমূলে,    \n",
       "\n",
       "                                        tafsir_bayan     Score  \n",
       "0  (৯৪) এবং জাহান্নাম প্রবেশ।-তাফসীরে আহসানুল বায়ান  0.268898  \n",
       "1  ৯। ওটা হচ্ছে লিপিবদ্ধ পুস্তক।-তাফসীরে আহসানুল ...  0.257667  \n",
       "2  (৪৩) কালোবর্ণ ধোঁয়ার ছায়ায়। [1][1] سَمُومٌ আগু...  0.244060  \n",
       "3  ২। আমি তোমার উপর হতে অপসারণ করেছি তোমার সেই ভা...  0.237704  \n",
       "4      (৩২) এবং প্রচুর ফলমূল;-তাফসীরে আহসানুল বায়ান  0.226537  "
      ]
     },
     "execution_count": 14,
     "metadata": {},
     "output_type": "execute_result"
    }
   ],
   "source": [
    "find"
   ]
  },
  {
   "cell_type": "code",
   "execution_count": 15,
   "id": "444d1e52",
   "metadata": {
    "execution": {
     "iopub.execute_input": "2022-09-07T08:08:24.668575Z",
     "iopub.status.busy": "2022-09-07T08:08:24.667792Z",
     "iopub.status.idle": "2022-09-07T08:08:24.683817Z",
     "shell.execute_reply": "2022-09-07T08:08:24.682544Z"
    },
    "papermill": {
     "duration": 0.027728,
     "end_time": "2022-09-07T08:08:24.686305",
     "exception": false,
     "start_time": "2022-09-07T08:08:24.658577",
     "status": "completed"
    },
    "tags": []
   },
   "outputs": [
    {
     "data": {
      "text/html": [
       "<div>\n",
       "<style scoped>\n",
       "    .dataframe tbody tr th:only-of-type {\n",
       "        vertical-align: middle;\n",
       "    }\n",
       "\n",
       "    .dataframe tbody tr th {\n",
       "        vertical-align: top;\n",
       "    }\n",
       "\n",
       "    .dataframe thead th {\n",
       "        text-align: right;\n",
       "    }\n",
       "</style>\n",
       "<table border=\"1\" class=\"dataframe\">\n",
       "  <thead>\n",
       "    <tr style=\"text-align: right;\">\n",
       "      <th></th>\n",
       "      <th>source</th>\n",
       "      <th>chapter_no</th>\n",
       "      <th>hadith_no</th>\n",
       "      <th>chapter</th>\n",
       "      <th>text_ar</th>\n",
       "      <th>text_en</th>\n",
       "      <th>text_bn</th>\n",
       "      <th>narrators</th>\n",
       "      <th>Score</th>\n",
       "    </tr>\n",
       "  </thead>\n",
       "  <tbody>\n",
       "    <tr>\n",
       "      <th>0</th>\n",
       "      <td>Sahih Bukhari</td>\n",
       "      <td>77</td>\n",
       "      <td>6021</td>\n",
       "      <td>Dress</td>\n",
       "      <td>وكنت أغتسل أنا والنبي، صلى الله عليه وسلم من إ...</td>\n",
       "      <td>not found yet</td>\n",
       "      <td>এখনো পাওয়া যায়নি</td>\n",
       "      <td>Not Found</td>\n",
       "      <td>0.334566</td>\n",
       "    </tr>\n",
       "    <tr>\n",
       "      <th>1</th>\n",
       "      <td>Sahih Bukhari</td>\n",
       "      <td>77</td>\n",
       "      <td>5973</td>\n",
       "      <td>Dress</td>\n",
       "      <td>أو جابر بن عبد الله كان النبي صلى الله عليه وس...</td>\n",
       "      <td>not found yet</td>\n",
       "      <td>এখনো পাওয়া যায়নি</td>\n",
       "      <td>Not Found</td>\n",
       "      <td>0.334566</td>\n",
       "    </tr>\n",
       "    <tr>\n",
       "      <th>2</th>\n",
       "      <td>Sahih Bukhari</td>\n",
       "      <td>79</td>\n",
       "      <td>6359</td>\n",
       "      <td>Asking Permission</td>\n",
       "      <td>قالت ما كنت لأفشي على رسول الله صلى الله عليه ...</td>\n",
       "      <td>not found yet</td>\n",
       "      <td>এখনো পাওয়া যায়নি</td>\n",
       "      <td>Not Found</td>\n",
       "      <td>0.334415</td>\n",
       "    </tr>\n",
       "    <tr>\n",
       "      <th>3</th>\n",
       "      <td>Sahih Bukhari</td>\n",
       "      <td>68</td>\n",
       "      <td>5391</td>\n",
       "      <td>Divorce</td>\n",
       "      <td>قال حميد فقلت لزينب وما ترمي بالبعرة على رأس ا...</td>\n",
       "      <td>not found yet</td>\n",
       "      <td>এখনো পাওয়া যায়নি</td>\n",
       "      <td>Not Found</td>\n",
       "      <td>0.332493</td>\n",
       "    </tr>\n",
       "    <tr>\n",
       "      <th>4</th>\n",
       "      <td>Sahih Bukhari</td>\n",
       "      <td>68</td>\n",
       "      <td>5389</td>\n",
       "      <td>Divorce</td>\n",
       "      <td>قالت زينب فدخلت على زينب ابنة جحش حين توفي أخو...</td>\n",
       "      <td>not found yet</td>\n",
       "      <td>এখনো পাওয়া যায়নি</td>\n",
       "      <td>Not Found</td>\n",
       "      <td>0.332493</td>\n",
       "    </tr>\n",
       "  </tbody>\n",
       "</table>\n",
       "</div>"
      ],
      "text/plain": [
       "            source chapter_no hadith_no             chapter  \\\n",
       "0   Sahih Bukhari          77      6021              Dress    \n",
       "1   Sahih Bukhari          77      5973              Dress    \n",
       "2   Sahih Bukhari          79      6359  Asking Permission    \n",
       "3   Sahih Bukhari          68      5391            Divorce    \n",
       "4   Sahih Bukhari          68      5389            Divorce    \n",
       "\n",
       "                                             text_ar        text_en  \\\n",
       "0  وكنت أغتسل أنا والنبي، صلى الله عليه وسلم من إ...  not found yet   \n",
       "1  أو جابر بن عبد الله كان النبي صلى الله عليه وس...  not found yet   \n",
       "2  قالت ما كنت لأفشي على رسول الله صلى الله عليه ...  not found yet   \n",
       "3  قال حميد فقلت لزينب وما ترمي بالبعرة على رأس ا...  not found yet   \n",
       "4  قالت زينب فدخلت على زينب ابنة جحش حين توفي أخو...  not found yet   \n",
       "\n",
       "              text_bn  narrators     Score  \n",
       "0  এখনো পাওয়া যায়নি  Not Found  0.334566  \n",
       "1  এখনো পাওয়া যায়নি  Not Found  0.334566  \n",
       "2  এখনো পাওয়া যায়নি  Not Found  0.334415  \n",
       "3  এখনো পাওয়া যায়নি  Not Found  0.332493  \n",
       "4  এখনো পাওয়া যায়নি  Not Found  0.332493  "
      ]
     },
     "execution_count": 15,
     "metadata": {},
     "output_type": "execute_result"
    }
   ],
   "source": [
    "mlt_hadiths"
   ]
  },
  {
   "cell_type": "code",
   "execution_count": 16,
   "id": "507cb92c",
   "metadata": {
    "execution": {
     "iopub.execute_input": "2022-09-07T08:08:24.706072Z",
     "iopub.status.busy": "2022-09-07T08:08:24.705227Z",
     "iopub.status.idle": "2022-09-07T08:08:24.933095Z",
     "shell.execute_reply": "2022-09-07T08:08:24.931484Z"
    },
    "papermill": {
     "duration": 0.244402,
     "end_time": "2022-09-07T08:08:24.939042",
     "exception": false,
     "start_time": "2022-09-07T08:08:24.694640",
     "status": "completed"
    },
    "tags": []
   },
   "outputs": [
    {
     "name": "stdout",
     "output_type": "stream",
     "text": [
      "CPU times: user 407 ms, sys: 237 ms, total: 644 ms\n",
      "Wall time: 199 ms\n"
     ]
    },
    {
     "data": {
      "text/html": [
       "<div>\n",
       "<style scoped>\n",
       "    .dataframe tbody tr th:only-of-type {\n",
       "        vertical-align: middle;\n",
       "    }\n",
       "\n",
       "    .dataframe tbody tr th {\n",
       "        vertical-align: top;\n",
       "    }\n",
       "\n",
       "    .dataframe thead th {\n",
       "        text-align: right;\n",
       "    }\n",
       "</style>\n",
       "<table border=\"1\" class=\"dataframe\">\n",
       "  <thead>\n",
       "    <tr style=\"text-align: right;\">\n",
       "      <th></th>\n",
       "      <th>Name</th>\n",
       "      <th>Surah</th>\n",
       "      <th>Ayat</th>\n",
       "      <th>Verse</th>\n",
       "      <th>Tafseer</th>\n",
       "      <th>ar_text</th>\n",
       "      <th>আল_বায়ান</th>\n",
       "      <th>tafsir_bayan</th>\n",
       "      <th>Score</th>\n",
       "    </tr>\n",
       "  </thead>\n",
       "  <tbody>\n",
       "    <tr>\n",
       "      <th>0</th>\n",
       "      <td>The Pen</td>\n",
       "      <td>68</td>\n",
       "      <td>3</td>\n",
       "      <td>And lo! thine verily will be a reward unfailing.</td>\n",
       "      <td>And assuredly you will have an unfailing reward.</td>\n",
       "      <td>وَ اِنَّ لَکَ لَاَجۡرًا غَیۡرَ مَمۡنُوۡنٍ ۚ﴿۳...</td>\n",
       "      <td>আর নিশ্চয় তোমার জন্য রয়েছে অফুরন্ত পুরস্কার।</td>\n",
       "      <td>(৩) তোমার জন্য অবশ্যই রয়েছে নিরবচ্ছিন্ন পুরস্ক...</td>\n",
       "      <td>1.643042</td>\n",
       "    </tr>\n",
       "    <tr>\n",
       "      <th>1</th>\n",
       "      <td>The Star</td>\n",
       "      <td>53</td>\n",
       "      <td>59</td>\n",
       "      <td>Marvel ye then at this statement,</td>\n",
       "      <td>Do you then marvel in denial at this discourse...</td>\n",
       "      <td>اَفَمِنۡ هٰذَا الۡحَدِیۡثِ تَعۡجَبُوۡنَ ﴿ۙ۵۹﴾...</td>\n",
       "      <td>তোমরা কি এ কথায় বিস্ময় বোধ করছ?</td>\n",
       "      <td>(৫৯) তোমরা কি এই কথায় বিস্ময়বোধ করছ? [1][1] এখ...</td>\n",
       "      <td>0.929772</td>\n",
       "    </tr>\n",
       "    <tr>\n",
       "      <th>2</th>\n",
       "      <td>The Calamity</td>\n",
       "      <td>101</td>\n",
       "      <td>10</td>\n",
       "      <td>Ah, what will convey unto thee what she is! -</td>\n",
       "      <td>And what will show you what it is? that is to ...</td>\n",
       "      <td>وَ مَاۤ اَدۡرٰىکَ مَا هِیَهۡ ﴿ؕ۱۰﴾\\nو ما ادرى...</td>\n",
       "      <td>আর তোমাকে কিসে জানাবে হাবিয়া কী?</td>\n",
       "      <td>১০। কিসে তোমাকে জানাল, তা কি? [1][1] এখানে জাহ...</td>\n",
       "      <td>0.922465</td>\n",
       "    </tr>\n",
       "  </tbody>\n",
       "</table>\n",
       "</div>"
      ],
      "text/plain": [
       "           Name Surah Ayat                                             Verse  \\\n",
       "0       The Pen    68    3  And lo! thine verily will be a reward unfailing.   \n",
       "1      The Star    53   59                 Marvel ye then at this statement,   \n",
       "2  The Calamity   101   10     Ah, what will convey unto thee what she is! -   \n",
       "\n",
       "                                             Tafseer  \\\n",
       "0   And assuredly you will have an unfailing reward.   \n",
       "1  Do you then marvel in denial at this discourse...   \n",
       "2  And what will show you what it is? that is to ...   \n",
       "\n",
       "                                             ar_text  \\\n",
       "0   وَ اِنَّ لَکَ لَاَجۡرًا غَیۡرَ مَمۡنُوۡنٍ ۚ﴿۳...   \n",
       "1   اَفَمِنۡ هٰذَا الۡحَدِیۡثِ تَعۡجَبُوۡنَ ﴿ۙ۵۹﴾...   \n",
       "2   وَ مَاۤ اَدۡرٰىکَ مَا هِیَهۡ ﴿ؕ۱۰﴾\\nو ما ادرى...   \n",
       "\n",
       "                                       আল_বায়ান  \\\n",
       "0  আর নিশ্চয় তোমার জন্য রয়েছে অফুরন্ত পুরস্কার।    \n",
       "1               তোমরা কি এ কথায় বিস্ময় বোধ করছ?    \n",
       "2              আর তোমাকে কিসে জানাবে হাবিয়া কী?    \n",
       "\n",
       "                                        tafsir_bayan     Score  \n",
       "0  (৩) তোমার জন্য অবশ্যই রয়েছে নিরবচ্ছিন্ন পুরস্ক...  1.643042  \n",
       "1  (৫৯) তোমরা কি এই কথায় বিস্ময়বোধ করছ? [1][1] এখ...  0.929772  \n",
       "2  ১০। কিসে তোমাকে জানাল, তা কি? [1][1] এখানে জাহ...  0.922465  "
      ]
     },
     "execution_count": 16,
     "metadata": {},
     "output_type": "execute_result"
    }
   ],
   "source": [
    "%%time\n",
    "find,mlt_hadiths = Multilingual_Quran_Hadith_Search_Engine(\"আমি কি পুরস্কার পেতে পারি?\",size=3,language = 'en',metric = 'l2')\n",
    "find"
   ]
  },
  {
   "cell_type": "code",
   "execution_count": 17,
   "id": "fcb73700",
   "metadata": {
    "execution": {
     "iopub.execute_input": "2022-09-07T08:08:24.984774Z",
     "iopub.status.busy": "2022-09-07T08:08:24.983308Z",
     "iopub.status.idle": "2022-09-07T08:08:25.000670Z",
     "shell.execute_reply": "2022-09-07T08:08:24.999470Z"
    },
    "papermill": {
     "duration": 0.042968,
     "end_time": "2022-09-07T08:08:25.003257",
     "exception": false,
     "start_time": "2022-09-07T08:08:24.960289",
     "status": "completed"
    },
    "tags": []
   },
   "outputs": [
    {
     "data": {
      "text/html": [
       "<div>\n",
       "<style scoped>\n",
       "    .dataframe tbody tr th:only-of-type {\n",
       "        vertical-align: middle;\n",
       "    }\n",
       "\n",
       "    .dataframe tbody tr th {\n",
       "        vertical-align: top;\n",
       "    }\n",
       "\n",
       "    .dataframe thead th {\n",
       "        text-align: right;\n",
       "    }\n",
       "</style>\n",
       "<table border=\"1\" class=\"dataframe\">\n",
       "  <thead>\n",
       "    <tr style=\"text-align: right;\">\n",
       "      <th></th>\n",
       "      <th>source</th>\n",
       "      <th>chapter_no</th>\n",
       "      <th>hadith_no</th>\n",
       "      <th>chapter</th>\n",
       "      <th>text_ar</th>\n",
       "      <th>text_en</th>\n",
       "      <th>text_bn</th>\n",
       "      <th>narrators</th>\n",
       "      <th>Score</th>\n",
       "    </tr>\n",
       "  </thead>\n",
       "  <tbody>\n",
       "    <tr>\n",
       "      <th>0</th>\n",
       "      <td>Sahih Bukhari</td>\n",
       "      <td>66</td>\n",
       "      <td>5074</td>\n",
       "      <td>Virtues of the Qur'an</td>\n",
       "      <td>حدثنا محمد بن يوسف، حدثنا مالك بن مغول، حدثنا ...</td>\n",
       "      <td>Narrated Talha:                     I asked `...</td>\n",
       "      <td>তালেহা বর্ণিত: আমি `অবদুল্লাহ বিন আবী `আউফাকে ...</td>\n",
       "      <td>Muhammad bin Yusuf al Baykandi ,Malik bin Mghw...</td>\n",
       "      <td>4.130790</td>\n",
       "    </tr>\n",
       "    <tr>\n",
       "      <th>1</th>\n",
       "      <td>Sahih Bukhari</td>\n",
       "      <td>39</td>\n",
       "      <td>2295</td>\n",
       "      <td>Kafalah</td>\n",
       "      <td>حدثنا أبو عاصم، عن يزيد بن أبي عبيد، عن سلمة ب...</td>\n",
       "      <td>Narrated Salama bin Al-Akwa`:                ...</td>\n",
       "      <td>সালমা বিন আল-আকওয়া ` এর কাহিনীঃ একজন মৃত ব্যক...</td>\n",
       "      <td>al Dahhak bin Mukhlad Abu 'Asim al Nabil ,Yazi...</td>\n",
       "      <td>4.097856</td>\n",
       "    </tr>\n",
       "    <tr>\n",
       "      <th>2</th>\n",
       "      <td>Sahih Muslim</td>\n",
       "      <td>13</td>\n",
       "      <td>2378</td>\n",
       "      <td>The Book of Zakat</td>\n",
       "      <td>وحدثنا عبد الله بن عبد الرحمن الدارمي، أخبرنا ...</td>\n",
       "      <td>This hadith has been narrated on the authorit...</td>\n",
       "      <td>এই হাদীসটি জায়েদ কর্তৃক একই কাতার সংরক্ষণকারী...</td>\n",
       "      <td>'Abdullah bin 'Abdur Rahman al Daarimi ,Yahya ...</td>\n",
       "      <td>4.079525</td>\n",
       "    </tr>\n",
       "  </tbody>\n",
       "</table>\n",
       "</div>"
      ],
      "text/plain": [
       "            source chapter_no hadith_no                 chapter  \\\n",
       "0   Sahih Bukhari          66      5074  Virtues of the Qur'an    \n",
       "1   Sahih Bukhari          39      2295                Kafalah    \n",
       "2    Sahih Muslim          13      2378      The Book of Zakat    \n",
       "\n",
       "                                             text_ar  \\\n",
       "0  حدثنا محمد بن يوسف، حدثنا مالك بن مغول، حدثنا ...   \n",
       "1  حدثنا أبو عاصم، عن يزيد بن أبي عبيد، عن سلمة ب...   \n",
       "2  وحدثنا عبد الله بن عبد الرحمن الدارمي، أخبرنا ...   \n",
       "\n",
       "                                             text_en  \\\n",
       "0   Narrated Talha:                     I asked `...   \n",
       "1   Narrated Salama bin Al-Akwa`:                ...   \n",
       "2   This hadith has been narrated on the authorit...   \n",
       "\n",
       "                                             text_bn  \\\n",
       "0  তালেহা বর্ণিত: আমি `অবদুল্লাহ বিন আবী `আউফাকে ...   \n",
       "1  সালমা বিন আল-আকওয়া ` এর কাহিনীঃ একজন মৃত ব্যক...   \n",
       "2  এই হাদীসটি জায়েদ কর্তৃক একই কাতার সংরক্ষণকারী...   \n",
       "\n",
       "                                           narrators     Score  \n",
       "0  Muhammad bin Yusuf al Baykandi ,Malik bin Mghw...  4.130790  \n",
       "1  al Dahhak bin Mukhlad Abu 'Asim al Nabil ,Yazi...  4.097856  \n",
       "2  'Abdullah bin 'Abdur Rahman al Daarimi ,Yahya ...  4.079525  "
      ]
     },
     "execution_count": 17,
     "metadata": {},
     "output_type": "execute_result"
    }
   ],
   "source": [
    "mlt_hadiths"
   ]
  },
  {
   "cell_type": "code",
   "execution_count": null,
   "id": "be81d88a",
   "metadata": {
    "papermill": {
     "duration": 0.008325,
     "end_time": "2022-09-07T08:08:25.020640",
     "exception": false,
     "start_time": "2022-09-07T08:08:25.012315",
     "status": "completed"
    },
    "tags": []
   },
   "outputs": [],
   "source": []
  }
 ],
 "metadata": {
  "kernelspec": {
   "display_name": "Python 3",
   "language": "python",
   "name": "python3"
  },
  "language_info": {
   "codemirror_mode": {
    "name": "ipython",
    "version": 3
   },
   "file_extension": ".py",
   "mimetype": "text/x-python",
   "name": "python",
   "nbconvert_exporter": "python",
   "pygments_lexer": "ipython3",
   "version": "3.7.12"
  },
  "papermill": {
   "default_parameters": {},
   "duration": 41.250014,
   "end_time": "2022-09-07T08:08:26.055038",
   "environment_variables": {},
   "exception": null,
   "input_path": "__notebook__.ipynb",
   "output_path": "__notebook__.ipynb",
   "parameters": {},
   "start_time": "2022-09-07T08:07:44.805024",
   "version": "2.3.4"
  }
 },
 "nbformat": 4,
 "nbformat_minor": 5
}

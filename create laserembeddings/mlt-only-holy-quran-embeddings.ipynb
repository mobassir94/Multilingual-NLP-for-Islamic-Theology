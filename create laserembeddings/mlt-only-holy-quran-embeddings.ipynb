{
 "cells": [
  {
   "cell_type": "code",
   "execution_count": 1,
   "id": "55b3ecbb",
   "metadata": {
    "execution": {
     "iopub.execute_input": "2022-09-07T06:42:55.705643Z",
     "iopub.status.busy": "2022-09-07T06:42:55.705110Z",
     "iopub.status.idle": "2022-09-07T06:43:18.260514Z",
     "shell.execute_reply": "2022-09-07T06:43:18.259395Z"
    },
    "papermill": {
     "duration": 22.563047,
     "end_time": "2022-09-07T06:43:18.263308",
     "exception": false,
     "start_time": "2022-09-07T06:42:55.700261",
     "status": "completed"
    },
    "tags": []
   },
   "outputs": [
    {
     "name": "stdout",
     "output_type": "stream",
     "text": [
      "Collecting laserembeddings\r\n",
      "  Downloading laserembeddings-1.1.2-py3-none-any.whl (13 kB)\r\n",
      "Requirement already satisfied: torch<2.0.0,>=1.0.1.post2 in /opt/conda/lib/python3.7/site-packages (from laserembeddings) (1.11.0)\r\n",
      "Collecting transliterate==1.10.2\r\n",
      "  Downloading transliterate-1.10.2-py2.py3-none-any.whl (45 kB)\r\n",
      "\u001b[2K     \u001b[90m━━━━━━━━━━━━━━━━━━━━━━━━━━━━━━━━━━━━━━━\u001b[0m \u001b[32m45.8/45.8 kB\u001b[0m \u001b[31m588.7 kB/s\u001b[0m eta \u001b[36m0:00:00\u001b[0m\r\n",
      "\u001b[?25hCollecting sacremoses==0.0.35\r\n",
      "  Downloading sacremoses-0.0.35.tar.gz (859 kB)\r\n",
      "\u001b[2K     \u001b[90m━━━━━━━━━━━━━━━━━━━━━━━━━━━━━━━━━━━━━━━\u001b[0m \u001b[32m859.8/859.8 kB\u001b[0m \u001b[31m4.2 MB/s\u001b[0m eta \u001b[36m0:00:00\u001b[0m\r\n",
      "\u001b[?25h  Preparing metadata (setup.py) ... \u001b[?25l-\b \bdone\r\n",
      "\u001b[?25hCollecting subword-nmt<0.4.0,>=0.3.6\r\n",
      "  Downloading subword_nmt-0.3.8-py3-none-any.whl (27 kB)\r\n",
      "Requirement already satisfied: numpy<2.0.0,>=1.15.4 in /opt/conda/lib/python3.7/site-packages (from laserembeddings) (1.21.6)\r\n",
      "Requirement already satisfied: six in /opt/conda/lib/python3.7/site-packages (from sacremoses==0.0.35->laserembeddings) (1.16.0)\r\n",
      "Requirement already satisfied: click in /opt/conda/lib/python3.7/site-packages (from sacremoses==0.0.35->laserembeddings) (8.0.4)\r\n",
      "Requirement already satisfied: joblib in /opt/conda/lib/python3.7/site-packages (from sacremoses==0.0.35->laserembeddings) (1.0.1)\r\n",
      "Requirement already satisfied: tqdm in /opt/conda/lib/python3.7/site-packages (from sacremoses==0.0.35->laserembeddings) (4.64.0)\r\n",
      "Requirement already satisfied: mock in /opt/conda/lib/python3.7/site-packages (from subword-nmt<0.4.0,>=0.3.6->laserembeddings) (4.0.3)\r\n",
      "Requirement already satisfied: typing-extensions in /opt/conda/lib/python3.7/site-packages (from torch<2.0.0,>=1.0.1.post2->laserembeddings) (4.1.1)\r\n",
      "Requirement already satisfied: importlib-metadata in /opt/conda/lib/python3.7/site-packages (from click->sacremoses==0.0.35->laserembeddings) (4.12.0)\r\n",
      "Requirement already satisfied: zipp>=0.5 in /opt/conda/lib/python3.7/site-packages (from importlib-metadata->click->sacremoses==0.0.35->laserembeddings) (3.8.0)\r\n",
      "Building wheels for collected packages: sacremoses\r\n",
      "  Building wheel for sacremoses (setup.py) ... \u001b[?25l-\b \b\\\b \b|\b \bdone\r\n",
      "\u001b[?25h  Created wheel for sacremoses: filename=sacremoses-0.0.35-py3-none-any.whl size=883989 sha256=4a7fe25a755880a61f47d0d38b0ba74546a643d31ca11c355069e39faef44f07\r\n",
      "  Stored in directory: /root/.cache/pip/wheels/d1/ff/0e/e00ff1e22100702ac8b24e709551ae0fb29db9ffc843510a64\r\n",
      "Successfully built sacremoses\r\n",
      "Installing collected packages: transliterate, subword-nmt, sacremoses, laserembeddings\r\n",
      "  Attempting uninstall: sacremoses\r\n",
      "    Found existing installation: sacremoses 0.0.53\r\n",
      "    Uninstalling sacremoses-0.0.53:\r\n",
      "      Successfully uninstalled sacremoses-0.0.53\r\n",
      "\u001b[31mERROR: pip's dependency resolver does not currently take into account all the packages that are installed. This behaviour is the source of the following dependency conflicts.\r\n",
      "allennlp 2.10.0 requires protobuf==3.20.0, but you have protobuf 3.19.4 which is incompatible.\u001b[0m\u001b[31m\r\n",
      "\u001b[0mSuccessfully installed laserembeddings-1.1.2 sacremoses-0.0.35 subword-nmt-0.3.8 transliterate-1.10.2\r\n",
      "\u001b[33mWARNING: Running pip as the 'root' user can result in broken permissions and conflicting behaviour with the system package manager. It is recommended to use a virtual environment instead: https://pip.pypa.io/warnings/venv\u001b[0m\u001b[33m\r\n",
      "\u001b[0mDownloading models into /opt/conda/lib/python3.7/site-packages/laserembeddings/data\r\n",
      "\r\n",
      "✅   Downloaded https://dl.fbaipublicfiles.com/laser/models/93langs.fcodes    \r\n",
      "✅   Downloaded https://dl.fbaipublicfiles.com/laser/models/93langs.fvocab    \r\n",
      "✅   Downloaded https://dl.fbaipublicfiles.com/laser/models/bilstm.93langs.2018-12-26.pt    \r\n",
      "\r\n",
      "✨ You're all set!\r\n"
     ]
    }
   ],
   "source": [
    "# This Python 3 environment comes with many helpful analytics libraries installed\n",
    "# It is defined by the kaggle/python Docker image: https://github.com/kaggle/docker-python\n",
    "# For example, here's several helpful packages to load\n",
    "\n",
    "!pip install laserembeddings\n",
    "!python -m laserembeddings download-models\n",
    "\n",
    "import numpy as np # linear algebra\n",
    "import pandas as pd # data processing, CSV file I/O (e.g. pd.read_csv)\n",
    "from laserembeddings import Laser\n",
    "\n",
    "# You can write up to 20GB to the current directory (/kaggle/working/) that gets preserved as output when you create a version using \"Save & Run All\" \n",
    "# You can also write temporary files to /kaggle/temp/, but they won't be saved outside of the current session"
   ]
  },
  {
   "cell_type": "code",
   "execution_count": 2,
   "id": "35565af3",
   "metadata": {
    "execution": {
     "iopub.execute_input": "2022-09-07T06:43:18.274612Z",
     "iopub.status.busy": "2022-09-07T06:43:18.272605Z",
     "iopub.status.idle": "2022-09-07T06:43:18.381605Z",
     "shell.execute_reply": "2022-09-07T06:43:18.380620Z"
    },
    "papermill": {
     "duration": 0.11656,
     "end_time": "2022-09-07T06:43:18.383975",
     "exception": false,
     "start_time": "2022-09-07T06:43:18.267415",
     "status": "completed"
    },
    "tags": []
   },
   "outputs": [],
   "source": [
    "en_quran_tafsir = pd.read_csv(\"../input/quran-english/Quran_English_with_Tafseer.csv\")\n"
   ]
  },
  {
   "cell_type": "code",
   "execution_count": 3,
   "id": "9c3fa824",
   "metadata": {
    "execution": {
     "iopub.execute_input": "2022-09-07T06:43:18.393375Z",
     "iopub.status.busy": "2022-09-07T06:43:18.393021Z",
     "iopub.status.idle": "2022-09-07T06:43:30.239822Z",
     "shell.execute_reply": "2022-09-07T06:43:30.238683Z"
    },
    "papermill": {
     "duration": 11.854508,
     "end_time": "2022-09-07T06:43:30.242404",
     "exception": false,
     "start_time": "2022-09-07T06:43:18.387896",
     "status": "completed"
    },
    "tags": []
   },
   "outputs": [
    {
     "name": "stdout",
     "output_type": "stream",
     "text": [
      "CPU times: user 8.56 s, sys: 1.38 s, total: 9.93 s\n",
      "Wall time: 11.8 s\n"
     ]
    }
   ],
   "source": [
    "%%time\n",
    "laser = Laser()\n",
    "\n",
    "en_quran_tafsir['merged_text'] = en_quran_tafsir.Name.astype(str) + en_quran_tafsir.Verse.astype(str) \n",
    "\n",
    "embeds = laser.embed_sentences(en_quran_tafsir['merged_text'].values, lang='en')\n",
    "np.save(\"Holy_Quran_mlt_emb.npy\",embeds)\n",
    "en_quran_tafsir = en_quran_tafsir.drop(columns=['merged_text'])"
   ]
  },
  {
   "cell_type": "code",
   "execution_count": 4,
   "id": "9cbf86b6",
   "metadata": {
    "execution": {
     "iopub.execute_input": "2022-09-07T06:43:30.255398Z",
     "iopub.status.busy": "2022-09-07T06:43:30.254904Z",
     "iopub.status.idle": "2022-09-07T06:43:30.275989Z",
     "shell.execute_reply": "2022-09-07T06:43:30.274964Z"
    },
    "papermill": {
     "duration": 0.030011,
     "end_time": "2022-09-07T06:43:30.278478",
     "exception": false,
     "start_time": "2022-09-07T06:43:30.248467",
     "status": "completed"
    },
    "tags": []
   },
   "outputs": [
    {
     "data": {
      "text/html": [
       "<div>\n",
       "<style scoped>\n",
       "    .dataframe tbody tr th:only-of-type {\n",
       "        vertical-align: middle;\n",
       "    }\n",
       "\n",
       "    .dataframe tbody tr th {\n",
       "        vertical-align: top;\n",
       "    }\n",
       "\n",
       "    .dataframe thead th {\n",
       "        text-align: right;\n",
       "    }\n",
       "</style>\n",
       "<table border=\"1\" class=\"dataframe\">\n",
       "  <thead>\n",
       "    <tr style=\"text-align: right;\">\n",
       "      <th></th>\n",
       "      <th>Name</th>\n",
       "      <th>Surah</th>\n",
       "      <th>Ayat</th>\n",
       "      <th>Verse</th>\n",
       "      <th>Tafseer</th>\n",
       "    </tr>\n",
       "  </thead>\n",
       "  <tbody>\n",
       "    <tr>\n",
       "      <th>0</th>\n",
       "      <td>The Opening</td>\n",
       "      <td>1</td>\n",
       "      <td>1</td>\n",
       "      <td>In the name of Allah, the Beneficent, the Merc...</td>\n",
       "      <td>In the Name of God the Compassionate the Merciful</td>\n",
       "    </tr>\n",
       "    <tr>\n",
       "      <th>1</th>\n",
       "      <td>The Opening</td>\n",
       "      <td>1</td>\n",
       "      <td>2</td>\n",
       "      <td>Praise be to Allah, Lord of the Worlds,</td>\n",
       "      <td>In the Name of God the name of a thing is that...</td>\n",
       "    </tr>\n",
       "    <tr>\n",
       "      <th>2</th>\n",
       "      <td>The Opening</td>\n",
       "      <td>1</td>\n",
       "      <td>3</td>\n",
       "      <td>The Beneficent, the Merciful.</td>\n",
       "      <td>The Compassionate the Merciful that is to say ...</td>\n",
       "    </tr>\n",
       "    <tr>\n",
       "      <th>3</th>\n",
       "      <td>The Opening</td>\n",
       "      <td>1</td>\n",
       "      <td>4</td>\n",
       "      <td>Owner of the Day of Judgment,</td>\n",
       "      <td>Master of the Day of Judgement that is the day...</td>\n",
       "    </tr>\n",
       "    <tr>\n",
       "      <th>4</th>\n",
       "      <td>The Opening</td>\n",
       "      <td>1</td>\n",
       "      <td>5</td>\n",
       "      <td>Thee (alone) we worship; Thee (alone) we ask f...</td>\n",
       "      <td>You alone we worship and You alone we ask for ...</td>\n",
       "    </tr>\n",
       "  </tbody>\n",
       "</table>\n",
       "</div>"
      ],
      "text/plain": [
       "          Name  Surah  Ayat  \\\n",
       "0  The Opening      1     1   \n",
       "1  The Opening      1     2   \n",
       "2  The Opening      1     3   \n",
       "3  The Opening      1     4   \n",
       "4  The Opening      1     5   \n",
       "\n",
       "                                               Verse  \\\n",
       "0  In the name of Allah, the Beneficent, the Merc...   \n",
       "1            Praise be to Allah, Lord of the Worlds,   \n",
       "2                      The Beneficent, the Merciful.   \n",
       "3                      Owner of the Day of Judgment,   \n",
       "4  Thee (alone) we worship; Thee (alone) we ask f...   \n",
       "\n",
       "                                             Tafseer  \n",
       "0  In the Name of God the Compassionate the Merciful  \n",
       "1  In the Name of God the name of a thing is that...  \n",
       "2  The Compassionate the Merciful that is to say ...  \n",
       "3  Master of the Day of Judgement that is the day...  \n",
       "4  You alone we worship and You alone we ask for ...  "
      ]
     },
     "execution_count": 4,
     "metadata": {},
     "output_type": "execute_result"
    }
   ],
   "source": [
    "en_quran_tafsir.head()"
   ]
  },
  {
   "cell_type": "code",
   "execution_count": 5,
   "id": "929439e5",
   "metadata": {
    "execution": {
     "iopub.execute_input": "2022-09-07T06:43:30.291782Z",
     "iopub.status.busy": "2022-09-07T06:43:30.291386Z",
     "iopub.status.idle": "2022-09-07T06:43:30.298953Z",
     "shell.execute_reply": "2022-09-07T06:43:30.298042Z"
    },
    "papermill": {
     "duration": 0.017252,
     "end_time": "2022-09-07T06:43:30.301672",
     "exception": false,
     "start_time": "2022-09-07T06:43:30.284420",
     "status": "completed"
    },
    "tags": []
   },
   "outputs": [
    {
     "data": {
      "text/plain": [
       "'The Compassionate the Merciful that is to say the One who possesses ‘mercy’ which means to want what is good for those who deserve it.'"
      ]
     },
     "execution_count": 5,
     "metadata": {},
     "output_type": "execute_result"
    }
   ],
   "source": [
    "en_quran_tafsir.Tafseer[2]"
   ]
  },
  {
   "cell_type": "markdown",
   "id": "6f0b6844",
   "metadata": {
    "papermill": {
     "duration": 0.006261,
     "end_time": "2022-09-07T06:43:30.314590",
     "exception": false,
     "start_time": "2022-09-07T06:43:30.308329",
     "status": "completed"
    },
    "tags": []
   },
   "source": [
    "tafsir's are of *** تفسير Tafsir al-Jalalayn** which was scrapped from https://www.altafsir.com/"
   ]
  },
  {
   "cell_type": "markdown",
   "id": "acfdace4",
   "metadata": {
    "papermill": {
     "duration": 0.005762,
     "end_time": "2022-09-07T06:43:30.326135",
     "exception": false,
     "start_time": "2022-09-07T06:43:30.320373",
     "status": "completed"
    },
    "tags": []
   },
   "source": [
    "i am using this [QURAN English](https://www.kaggle.com/datasets/alizahidraja/quran-english) dataset for creating Holy Quran Embeddings for cross lingual semantic similarity checking purpose."
   ]
  },
  {
   "cell_type": "code",
   "execution_count": null,
   "id": "042eb7a7",
   "metadata": {
    "papermill": {
     "duration": 0.010527,
     "end_time": "2022-09-07T06:43:30.344987",
     "exception": false,
     "start_time": "2022-09-07T06:43:30.334460",
     "status": "completed"
    },
    "tags": []
   },
   "outputs": [],
   "source": []
  }
 ],
 "metadata": {
  "kernelspec": {
   "display_name": "Python 3",
   "language": "python",
   "name": "python3"
  },
  "language_info": {
   "codemirror_mode": {
    "name": "ipython",
    "version": 3
   },
   "file_extension": ".py",
   "mimetype": "text/x-python",
   "name": "python",
   "nbconvert_exporter": "python",
   "pygments_lexer": "ipython3",
   "version": "3.7.12"
  },
  "papermill": {
   "default_parameters": {},
   "duration": 43.782872,
   "end_time": "2022-09-07T06:43:31.380025",
   "environment_variables": {},
   "exception": null,
   "input_path": "__notebook__.ipynb",
   "output_path": "__notebook__.ipynb",
   "parameters": {},
   "start_time": "2022-09-07T06:42:47.597153",
   "version": "2.3.4"
  }
 },
 "nbformat": 4,
 "nbformat_minor": 5
}

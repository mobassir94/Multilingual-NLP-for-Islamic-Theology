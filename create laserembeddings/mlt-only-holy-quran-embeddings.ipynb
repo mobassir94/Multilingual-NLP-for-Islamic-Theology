{
 "cells": [
  {
   "cell_type": "code",
   "execution_count": 1,
   "id": "83a441cd",
   "metadata": {
    "execution": {
     "iopub.execute_input": "2022-09-07T11:56:11.972714Z",
     "iopub.status.busy": "2022-09-07T11:56:11.972022Z",
     "iopub.status.idle": "2022-09-07T11:56:52.154447Z",
     "shell.execute_reply": "2022-09-07T11:56:52.152634Z"
    },
    "papermill": {
     "duration": 40.192244,
     "end_time": "2022-09-07T11:56:52.158010",
     "exception": false,
     "start_time": "2022-09-07T11:56:11.965766",
     "status": "completed"
    },
    "tags": []
   },
   "outputs": [
    {
     "name": "stdout",
     "output_type": "stream",
     "text": [
      "Collecting laserembeddings\r\n",
      "  Downloading laserembeddings-1.1.2-py3-none-any.whl (13 kB)\r\n",
      "Collecting transliterate==1.10.2\r\n",
      "  Downloading transliterate-1.10.2-py2.py3-none-any.whl (45 kB)\r\n",
      "\u001b[2K     \u001b[90m━━━━━━━━━━━━━━━━━━━━━━━━━━━━━━━━━━━━━━━\u001b[0m \u001b[32m45.8/45.8 kB\u001b[0m \u001b[31m403.7 kB/s\u001b[0m eta \u001b[36m0:00:00\u001b[0m\r\n",
      "\u001b[?25hCollecting sacremoses==0.0.35\r\n",
      "  Downloading sacremoses-0.0.35.tar.gz (859 kB)\r\n",
      "\u001b[2K     \u001b[90m━━━━━━━━━━━━━━━━━━━━━━━━━━━━━━━━━━━━━━━\u001b[0m \u001b[32m859.8/859.8 kB\u001b[0m \u001b[31m2.9 MB/s\u001b[0m eta \u001b[36m0:00:00\u001b[0m\r\n",
      "\u001b[?25h  Preparing metadata (setup.py) ... \u001b[?25l-\b \bdone\r\n",
      "\u001b[?25hRequirement already satisfied: torch<2.0.0,>=1.0.1.post2 in /opt/conda/lib/python3.7/site-packages (from laserembeddings) (1.11.0)\r\n",
      "Requirement already satisfied: numpy<2.0.0,>=1.15.4 in /opt/conda/lib/python3.7/site-packages (from laserembeddings) (1.21.6)\r\n",
      "Collecting subword-nmt<0.4.0,>=0.3.6\r\n",
      "  Downloading subword_nmt-0.3.8-py3-none-any.whl (27 kB)\r\n",
      "Requirement already satisfied: six in /opt/conda/lib/python3.7/site-packages (from sacremoses==0.0.35->laserembeddings) (1.16.0)\r\n",
      "Requirement already satisfied: click in /opt/conda/lib/python3.7/site-packages (from sacremoses==0.0.35->laserembeddings) (8.0.4)\r\n",
      "Requirement already satisfied: joblib in /opt/conda/lib/python3.7/site-packages (from sacremoses==0.0.35->laserembeddings) (1.0.1)\r\n",
      "Requirement already satisfied: tqdm in /opt/conda/lib/python3.7/site-packages (from sacremoses==0.0.35->laserembeddings) (4.64.0)\r\n",
      "Requirement already satisfied: mock in /opt/conda/lib/python3.7/site-packages (from subword-nmt<0.4.0,>=0.3.6->laserembeddings) (4.0.3)\r\n",
      "Requirement already satisfied: typing-extensions in /opt/conda/lib/python3.7/site-packages (from torch<2.0.0,>=1.0.1.post2->laserembeddings) (4.1.1)\r\n",
      "Requirement already satisfied: importlib-metadata in /opt/conda/lib/python3.7/site-packages (from click->sacremoses==0.0.35->laserembeddings) (4.12.0)\r\n",
      "Requirement already satisfied: zipp>=0.5 in /opt/conda/lib/python3.7/site-packages (from importlib-metadata->click->sacremoses==0.0.35->laserembeddings) (3.8.0)\r\n",
      "Building wheels for collected packages: sacremoses\r\n",
      "  Building wheel for sacremoses (setup.py) ... \u001b[?25l-\b \b\\\b \b|\b \b/\b \bdone\r\n",
      "\u001b[?25h  Created wheel for sacremoses: filename=sacremoses-0.0.35-py3-none-any.whl size=883989 sha256=603e1d6ad0cb33360a7cf4d5f58c4395699a316b4bb2bc0e5ae0fd7ab46948d6\r\n",
      "  Stored in directory: /root/.cache/pip/wheels/d1/ff/0e/e00ff1e22100702ac8b24e709551ae0fb29db9ffc843510a64\r\n",
      "Successfully built sacremoses\r\n",
      "Installing collected packages: transliterate, subword-nmt, sacremoses, laserembeddings\r\n",
      "  Attempting uninstall: sacremoses\r\n",
      "    Found existing installation: sacremoses 0.0.53\r\n",
      "    Uninstalling sacremoses-0.0.53:\r\n",
      "      Successfully uninstalled sacremoses-0.0.53\r\n",
      "\u001b[31mERROR: pip's dependency resolver does not currently take into account all the packages that are installed. This behaviour is the source of the following dependency conflicts.\r\n",
      "allennlp 2.10.0 requires protobuf==3.20.0, but you have protobuf 3.19.4 which is incompatible.\u001b[0m\u001b[31m\r\n",
      "\u001b[0mSuccessfully installed laserembeddings-1.1.2 sacremoses-0.0.35 subword-nmt-0.3.8 transliterate-1.10.2\r\n",
      "\u001b[33mWARNING: Running pip as the 'root' user can result in broken permissions and conflicting behaviour with the system package manager. It is recommended to use a virtual environment instead: https://pip.pypa.io/warnings/venv\u001b[0m\u001b[33m\r\n",
      "\u001b[0mDownloading models into /opt/conda/lib/python3.7/site-packages/laserembeddings/data\r\n",
      "\r\n",
      "✅   Downloaded https://dl.fbaipublicfiles.com/laser/models/93langs.fcodes    \r\n",
      "✅   Downloaded https://dl.fbaipublicfiles.com/laser/models/93langs.fvocab    \r\n",
      "✅   Downloaded https://dl.fbaipublicfiles.com/laser/models/bilstm.93langs.2018-12-26.pt    \r\n",
      "\r\n",
      "✨ You're all set!\r\n"
     ]
    }
   ],
   "source": [
    "# This Python 3 environment comes with many helpful analytics libraries installed\n",
    "# It is defined by the kaggle/python Docker image: https://github.com/kaggle/docker-python\n",
    "# For example, here's several helpful packages to load\n",
    "\n",
    "!pip install laserembeddings\n",
    "!python -m laserembeddings download-models\n",
    "\n",
    "import numpy as np # linear algebra\n",
    "import pandas as pd # data processing, CSV file I/O (e.g. pd.read_csv)\n",
    "from laserembeddings import Laser\n",
    "\n",
    "# You can write up to 20GB to the current directory (/kaggle/working/) that gets preserved as output when you create a version using \"Save & Run All\" \n",
    "# You can also write temporary files to /kaggle/temp/, but they won't be saved outside of the current session"
   ]
  },
  {
   "cell_type": "code",
   "execution_count": 2,
   "id": "2a920044",
   "metadata": {
    "execution": {
     "iopub.execute_input": "2022-09-07T11:56:52.172124Z",
     "iopub.status.busy": "2022-09-07T11:56:52.169732Z",
     "iopub.status.idle": "2022-09-07T11:56:52.285934Z",
     "shell.execute_reply": "2022-09-07T11:56:52.284618Z"
    },
    "papermill": {
     "duration": 0.125471,
     "end_time": "2022-09-07T11:56:52.288519",
     "exception": false,
     "start_time": "2022-09-07T11:56:52.163048",
     "status": "completed"
    },
    "tags": []
   },
   "outputs": [],
   "source": [
    "en_quran_tafsir = pd.read_csv(\"../input/quran-english/Quran_English_with_Tafseer.csv\")\n"
   ]
  },
  {
   "cell_type": "code",
   "execution_count": 3,
   "id": "90cbdefc",
   "metadata": {
    "execution": {
     "iopub.execute_input": "2022-09-07T11:56:52.301300Z",
     "iopub.status.busy": "2022-09-07T11:56:52.299601Z",
     "iopub.status.idle": "2022-09-07T11:56:53.116959Z",
     "shell.execute_reply": "2022-09-07T11:56:53.115550Z"
    },
    "papermill": {
     "duration": 0.826059,
     "end_time": "2022-09-07T11:56:53.119658",
     "exception": false,
     "start_time": "2022-09-07T11:56:52.293599",
     "status": "completed"
    },
    "tags": []
   },
   "outputs": [
    {
     "data": {
      "text/html": [
       "<div>\n",
       "<style scoped>\n",
       "    .dataframe tbody tr th:only-of-type {\n",
       "        vertical-align: middle;\n",
       "    }\n",
       "\n",
       "    .dataframe tbody tr th {\n",
       "        vertical-align: top;\n",
       "    }\n",
       "\n",
       "    .dataframe thead th {\n",
       "        text-align: right;\n",
       "    }\n",
       "</style>\n",
       "<table border=\"1\" class=\"dataframe\">\n",
       "  <thead>\n",
       "    <tr style=\"text-align: right;\">\n",
       "      <th></th>\n",
       "      <th>text</th>\n",
       "      <th>ayat</th>\n",
       "      <th>আল_বায়ান</th>\n",
       "      <th>তাইসিরুল</th>\n",
       "      <th>মুজিবুর_রহমান</th>\n",
       "      <th>Sahih_International</th>\n",
       "      <th>tafsir_bayan_headers</th>\n",
       "      <th>tafsir_bayan_text</th>\n",
       "      <th>tafsir_zakariya_headers</th>\n",
       "      <th>tafsir_zakariya_text</th>\n",
       "    </tr>\n",
       "  </thead>\n",
       "  <tbody>\n",
       "    <tr>\n",
       "      <th>0</th>\n",
       "      <td>بِسۡمِ اللّٰهِ الرَّحۡمٰنِ الرَّحِیۡمِ ﴿۱﴾\\nب...</td>\n",
       "      <td>surah 1, ayat  1</td>\n",
       "      <td>পরম করুণাময় অতি দয়ালু আল্লাহর নামে।</td>\n",
       "      <td>(আরম্ভ করছি) পরম করুণাময় অসীম দয়াময় আল্লাহর না...</td>\n",
       "      <td>পরম করুণাময়, অসীম দয়ালু আল্লাহর নামে (শুরু করছ...</td>\n",
       "      <td>In the name of Allah, the Entirely Merciful, t...</td>\n",
       "      <td>(১) অনন্ত করুণাময় পরম দয়ালু আল্লাহর নামে (আরম্...</td>\n",
       "      <td>‘বিসমিল্লাহ’র পূর্বে ‘আক্বরাউ’ ‘আবদাউ’ অথবা ‘আ...</td>\n",
       "      <td>১. রহমান, রহীম(১) আল্লাহর নামে।(২)</td>\n",
       "      <td>১. সাধারণত আয়াতের অনুবাদে বলা হয়ে থাকে, পরম ...</td>\n",
       "    </tr>\n",
       "    <tr>\n",
       "      <th>1</th>\n",
       "      <td>اَلۡحَمۡدُ لِلّٰهِ رَبِّ الۡعٰلَمِیۡنَ ۙ﴿۲﴾\\n...</td>\n",
       "      <td>surah 1, ayat  2</td>\n",
       "      <td>সমস্ত প্রশংসা আল্লাহর জন্য, যিনি সৃষ্টিকুলের রব।</td>\n",
       "      <td>যাবতীয় প্রশংসা জগৎসমূহের প্রতিপালক আল্লাহরই জন...</td>\n",
       "      <td>আল্লাহরই জন্য সমস্ত প্রশংসা, যিনি বিশ্বজগতের র...</td>\n",
       "      <td>[All] praise is [due] to Allah, Lord of the wo...</td>\n",
       "      <td>(২) সমস্ত প্রশংসা[1] সারা জাহানের প্রতিপালক আল...</td>\n",
       "      <td>[1] الحَمد এর মধ্যে যে ال রয়েছে, তা استغراق (...</td>\n",
       "      <td>২. সকল হামদ’(১) আল্লাহর(২), যিনি সৃষ্টিকুলের(৩...</td>\n",
       "      <td>১. আরবী ভাষায় হামদ অর্থ নির্মল ও সম্ভ্রমপূর্ণ...</td>\n",
       "    </tr>\n",
       "    <tr>\n",
       "      <th>2</th>\n",
       "      <td>الرَّحۡمٰنِ الرَّحِیۡمِ ۙ﴿۳﴾\\nالرحمن الرحیم ۙ﴿۳﴾</td>\n",
       "      <td>surah 1, ayat  3</td>\n",
       "      <td>দয়াময়, পরম দয়ালু, পরম করুণাময়, অতি দয়ালু।</td>\n",
       "      <td>যিনি পরম করুণাময় অতি দয়ালু।</td>\n",
       "      <td>যিনি পরম দয়ালু, অতিশয় করুণাময়।</td>\n",
       "      <td>The Entirely Merciful, the Especially Merciful,</td>\n",
       "      <td>(৩) যিনি অনন্ত করুণাময়, পরম দয়ালু।</td>\n",
       "      <td>رَحما  শব্দটি فَعلان এর ওজনে। আর رَحِيم শব্দট...</td>\n",
       "      <td>৩. দয়াময়, পরম দয়ালু।(১)</td>\n",
       "      <td>(১) ‘রহমান-রাহীম’ শব্দদ্বয়ের কারণে মূল আয়াতে...</td>\n",
       "    </tr>\n",
       "    <tr>\n",
       "      <th>3</th>\n",
       "      <td>مٰلِکِ یَوۡمِ الدِّیۡنِ ؕ﴿۴﴾\\nملک یوم الدین ﴿۴﴾</td>\n",
       "      <td>surah 1, ayat  4</td>\n",
       "      <td>বিচার দিবসের মালিক।</td>\n",
       "      <td>যিনি প্রতিফল দিবসের মালিক।</td>\n",
       "      <td>যিনি বিচার দিনের মালিক।</td>\n",
       "      <td>Sovereign of the Day of Recompense.</td>\n",
       "      <td>(৪) (যিনি) বিচার দিনের মালিক।[1]</td>\n",
       "      <td>[1] যদিও দুনিয়াতে কর্মের প্রতিদান দেওয়ার নীতি ...</td>\n",
       "      <td>৪. বিচার দিনের মালিক।(১)</td>\n",
       "      <td>১. এখানে আল্লাহকে বিচার দিনের মালিক’ বলে ঘোষণা...</td>\n",
       "    </tr>\n",
       "    <tr>\n",
       "      <th>4</th>\n",
       "      <td>اِیَّاکَ نَعۡبُدُ وَ اِیَّاکَ نَسۡتَعِیۡنُ ؕ﴿...</td>\n",
       "      <td>surah 1, ayat  5</td>\n",
       "      <td>আপনারই আমরা ইবাদাত করি এবং আপনারই নিকট আমরা সা...</td>\n",
       "      <td>আমরা কেবল তোমারই ‘ইবাদাত করি এবং কেবলমাত্র তোম...</td>\n",
       "      <td>আমরা আপনারই ইবাদাত করছি এবং আপনারই নিকট সাহায্...</td>\n",
       "      <td>It is You we worship and You we ask for help.</td>\n",
       "      <td>(৫) আমরা কেবল তোমারই ইবাদত করি এবং তোমারই কাছে...</td>\n",
       "      <td>ইবাদতের অর্থ হল, কারো সন্তুষ্টি লাভের জন্য অত...</td>\n",
       "      <td>৫. আমরা শুধু আপনারই ইবাদাত(১) করি(২) এবং শুধু ...</td>\n",
       "      <td>NaN</td>\n",
       "    </tr>\n",
       "  </tbody>\n",
       "</table>\n",
       "</div>"
      ],
      "text/plain": [
       "                                                text              ayat  \\\n",
       "0   بِسۡمِ اللّٰهِ الرَّحۡمٰنِ الرَّحِیۡمِ ﴿۱﴾\\nب...  surah 1, ayat  1   \n",
       "1   اَلۡحَمۡدُ لِلّٰهِ رَبِّ الۡعٰلَمِیۡنَ ۙ﴿۲﴾\\n...  surah 1, ayat  2   \n",
       "2   الرَّحۡمٰنِ الرَّحِیۡمِ ۙ﴿۳﴾\\nالرحمن الرحیم ۙ﴿۳﴾  surah 1, ayat  3   \n",
       "3    مٰلِکِ یَوۡمِ الدِّیۡنِ ؕ﴿۴﴾\\nملک یوم الدین ﴿۴﴾  surah 1, ayat  4   \n",
       "4   اِیَّاکَ نَعۡبُدُ وَ اِیَّاکَ نَسۡتَعِیۡنُ ؕ﴿...  surah 1, ayat  5   \n",
       "\n",
       "                                           আল_বায়ান  \\\n",
       "0               পরম করুণাময় অতি দয়ালু আল্লাহর নামে।    \n",
       "1  সমস্ত প্রশংসা আল্লাহর জন্য, যিনি সৃষ্টিকুলের রব।    \n",
       "2         দয়াময়, পরম দয়ালু, পরম করুণাময়, অতি দয়ালু।    \n",
       "3                               বিচার দিবসের মালিক।    \n",
       "4  আপনারই আমরা ইবাদাত করি এবং আপনারই নিকট আমরা সা...   \n",
       "\n",
       "                                            তাইসিরুল  \\\n",
       "0  (আরম্ভ করছি) পরম করুণাময় অসীম দয়াময় আল্লাহর না...   \n",
       "1  যাবতীয় প্রশংসা জগৎসমূহের প্রতিপালক আল্লাহরই জন...   \n",
       "2                       যিনি পরম করুণাময় অতি দয়ালু।    \n",
       "3                        যিনি প্রতিফল দিবসের মালিক।    \n",
       "4  আমরা কেবল তোমারই ‘ইবাদাত করি এবং কেবলমাত্র তোম...   \n",
       "\n",
       "                                       মুজিবুর_রহমান  \\\n",
       "0  পরম করুণাময়, অসীম দয়ালু আল্লাহর নামে (শুরু করছ...   \n",
       "1  আল্লাহরই জন্য সমস্ত প্রশংসা, যিনি বিশ্বজগতের র...   \n",
       "2                    যিনি পরম দয়ালু, অতিশয় করুণাময়।    \n",
       "3                           যিনি বিচার দিনের মালিক।    \n",
       "4  আমরা আপনারই ইবাদাত করছি এবং আপনারই নিকট সাহায্...   \n",
       "\n",
       "                                 Sahih_International  \\\n",
       "0  In the name of Allah, the Entirely Merciful, t...   \n",
       "1  [All] praise is [due] to Allah, Lord of the wo...   \n",
       "2   The Entirely Merciful, the Especially Merciful,    \n",
       "3               Sovereign of the Day of Recompense.    \n",
       "4     It is You we worship and You we ask for help.    \n",
       "\n",
       "                                tafsir_bayan_headers  \\\n",
       "0  (১) অনন্ত করুণাময় পরম দয়ালু আল্লাহর নামে (আরম্...   \n",
       "1  (২) সমস্ত প্রশংসা[1] সারা জাহানের প্রতিপালক আল...   \n",
       "2                 (৩) যিনি অনন্ত করুণাময়, পরম দয়ালু।   \n",
       "3                   (৪) (যিনি) বিচার দিনের মালিক।[1]   \n",
       "4  (৫) আমরা কেবল তোমারই ইবাদত করি এবং তোমারই কাছে...   \n",
       "\n",
       "                                   tafsir_bayan_text  \\\n",
       "0  ‘বিসমিল্লাহ’র পূর্বে ‘আক্বরাউ’ ‘আবদাউ’ অথবা ‘আ...   \n",
       "1   [1] الحَمد এর মধ্যে যে ال রয়েছে, তা استغراق (...   \n",
       "2   رَحما  শব্দটি فَعلان এর ওজনে। আর رَحِيم শব্দট...   \n",
       "3  [1] যদিও দুনিয়াতে কর্মের প্রতিদান দেওয়ার নীতি ...   \n",
       "4   ইবাদতের অর্থ হল, কারো সন্তুষ্টি লাভের জন্য অত...   \n",
       "\n",
       "                             tafsir_zakariya_headers  \\\n",
       "0                 ১. রহমান, রহীম(১) আল্লাহর নামে।(২)   \n",
       "1  ২. সকল হামদ’(১) আল্লাহর(২), যিনি সৃষ্টিকুলের(৩...   \n",
       "2                         ৩. দয়াময়, পরম দয়ালু।(১)   \n",
       "3                           ৪. বিচার দিনের মালিক।(১)   \n",
       "4  ৫. আমরা শুধু আপনারই ইবাদাত(১) করি(২) এবং শুধু ...   \n",
       "\n",
       "                                tafsir_zakariya_text  \n",
       "0  ১. সাধারণত আয়াতের অনুবাদে বলা হয়ে থাকে, পরম ...  \n",
       "1  ১. আরবী ভাষায় হামদ অর্থ নির্মল ও সম্ভ্রমপূর্ণ...  \n",
       "2  (১) ‘রহমান-রাহীম’ শব্দদ্বয়ের কারণে মূল আয়াতে...  \n",
       "3  ১. এখানে আল্লাহকে বিচার দিনের মালিক’ বলে ঘোষণা...  \n",
       "4                                                NaN  "
      ]
     },
     "execution_count": 3,
     "metadata": {},
     "output_type": "execute_result"
    }
   ],
   "source": [
    "\n",
    "ben_quran_with_tafsir = pd.read_csv(\"../input/bangla-quran-with-tafsir/ben_quran_with_tafsir.csv\")\n",
    "ben_quran_with_tafsir.head()"
   ]
  },
  {
   "cell_type": "code",
   "execution_count": 4,
   "id": "932b7925",
   "metadata": {
    "execution": {
     "iopub.execute_input": "2022-09-07T11:56:53.132417Z",
     "iopub.status.busy": "2022-09-07T11:56:53.131143Z",
     "iopub.status.idle": "2022-09-07T11:57:13.399010Z",
     "shell.execute_reply": "2022-09-07T11:57:13.396849Z"
    },
    "papermill": {
     "duration": 20.278316,
     "end_time": "2022-09-07T11:57:13.403426",
     "exception": false,
     "start_time": "2022-09-07T11:56:53.125110",
     "status": "completed"
    },
    "tags": []
   },
   "outputs": [
    {
     "name": "stdout",
     "output_type": "stream",
     "text": [
      "CPU times: user 15.4 s, sys: 2.38 s, total: 17.7 s\n",
      "Wall time: 20.3 s\n"
     ]
    }
   ],
   "source": [
    "%%time\n",
    "laser = Laser()\n",
    "\n",
    "en_quran_tafsir['merged_text'] = en_quran_tafsir.Verse.astype(str) + ben_quran_with_tafsir.Sahih_International.astype(str) \n",
    "\n",
    "embeds = laser.embed_sentences(en_quran_tafsir['merged_text'].values, lang='en')\n",
    "np.save(\"Holy_Quran_mlt_emb.npy\",embeds)\n",
    "en_quran_tafsir = en_quran_tafsir.drop(columns=['merged_text'])"
   ]
  },
  {
   "cell_type": "code",
   "execution_count": 5,
   "id": "ab33d029",
   "metadata": {
    "execution": {
     "iopub.execute_input": "2022-09-07T11:57:13.416177Z",
     "iopub.status.busy": "2022-09-07T11:57:13.415853Z",
     "iopub.status.idle": "2022-09-07T11:57:13.430835Z",
     "shell.execute_reply": "2022-09-07T11:57:13.429522Z"
    },
    "papermill": {
     "duration": 0.024611,
     "end_time": "2022-09-07T11:57:13.433811",
     "exception": false,
     "start_time": "2022-09-07T11:57:13.409200",
     "status": "completed"
    },
    "tags": []
   },
   "outputs": [
    {
     "data": {
      "text/html": [
       "<div>\n",
       "<style scoped>\n",
       "    .dataframe tbody tr th:only-of-type {\n",
       "        vertical-align: middle;\n",
       "    }\n",
       "\n",
       "    .dataframe tbody tr th {\n",
       "        vertical-align: top;\n",
       "    }\n",
       "\n",
       "    .dataframe thead th {\n",
       "        text-align: right;\n",
       "    }\n",
       "</style>\n",
       "<table border=\"1\" class=\"dataframe\">\n",
       "  <thead>\n",
       "    <tr style=\"text-align: right;\">\n",
       "      <th></th>\n",
       "      <th>Name</th>\n",
       "      <th>Surah</th>\n",
       "      <th>Ayat</th>\n",
       "      <th>Verse</th>\n",
       "      <th>Tafseer</th>\n",
       "    </tr>\n",
       "  </thead>\n",
       "  <tbody>\n",
       "    <tr>\n",
       "      <th>0</th>\n",
       "      <td>The Opening</td>\n",
       "      <td>1</td>\n",
       "      <td>1</td>\n",
       "      <td>In the name of Allah, the Beneficent, the Merc...</td>\n",
       "      <td>In the Name of God the Compassionate the Merciful</td>\n",
       "    </tr>\n",
       "    <tr>\n",
       "      <th>1</th>\n",
       "      <td>The Opening</td>\n",
       "      <td>1</td>\n",
       "      <td>2</td>\n",
       "      <td>Praise be to Allah, Lord of the Worlds,</td>\n",
       "      <td>In the Name of God the name of a thing is that...</td>\n",
       "    </tr>\n",
       "    <tr>\n",
       "      <th>2</th>\n",
       "      <td>The Opening</td>\n",
       "      <td>1</td>\n",
       "      <td>3</td>\n",
       "      <td>The Beneficent, the Merciful.</td>\n",
       "      <td>The Compassionate the Merciful that is to say ...</td>\n",
       "    </tr>\n",
       "    <tr>\n",
       "      <th>3</th>\n",
       "      <td>The Opening</td>\n",
       "      <td>1</td>\n",
       "      <td>4</td>\n",
       "      <td>Owner of the Day of Judgment,</td>\n",
       "      <td>Master of the Day of Judgement that is the day...</td>\n",
       "    </tr>\n",
       "    <tr>\n",
       "      <th>4</th>\n",
       "      <td>The Opening</td>\n",
       "      <td>1</td>\n",
       "      <td>5</td>\n",
       "      <td>Thee (alone) we worship; Thee (alone) we ask f...</td>\n",
       "      <td>You alone we worship and You alone we ask for ...</td>\n",
       "    </tr>\n",
       "  </tbody>\n",
       "</table>\n",
       "</div>"
      ],
      "text/plain": [
       "          Name  Surah  Ayat  \\\n",
       "0  The Opening      1     1   \n",
       "1  The Opening      1     2   \n",
       "2  The Opening      1     3   \n",
       "3  The Opening      1     4   \n",
       "4  The Opening      1     5   \n",
       "\n",
       "                                               Verse  \\\n",
       "0  In the name of Allah, the Beneficent, the Merc...   \n",
       "1            Praise be to Allah, Lord of the Worlds,   \n",
       "2                      The Beneficent, the Merciful.   \n",
       "3                      Owner of the Day of Judgment,   \n",
       "4  Thee (alone) we worship; Thee (alone) we ask f...   \n",
       "\n",
       "                                             Tafseer  \n",
       "0  In the Name of God the Compassionate the Merciful  \n",
       "1  In the Name of God the name of a thing is that...  \n",
       "2  The Compassionate the Merciful that is to say ...  \n",
       "3  Master of the Day of Judgement that is the day...  \n",
       "4  You alone we worship and You alone we ask for ...  "
      ]
     },
     "execution_count": 5,
     "metadata": {},
     "output_type": "execute_result"
    }
   ],
   "source": [
    "en_quran_tafsir.head()"
   ]
  },
  {
   "cell_type": "code",
   "execution_count": 6,
   "id": "2245ac28",
   "metadata": {
    "execution": {
     "iopub.execute_input": "2022-09-07T11:57:13.446533Z",
     "iopub.status.busy": "2022-09-07T11:57:13.446156Z",
     "iopub.status.idle": "2022-09-07T11:57:13.454741Z",
     "shell.execute_reply": "2022-09-07T11:57:13.453335Z"
    },
    "papermill": {
     "duration": 0.018098,
     "end_time": "2022-09-07T11:57:13.457501",
     "exception": false,
     "start_time": "2022-09-07T11:57:13.439403",
     "status": "completed"
    },
    "tags": []
   },
   "outputs": [
    {
     "data": {
      "text/plain": [
       "'The Compassionate the Merciful that is to say the One who possesses ‘mercy’ which means to want what is good for those who deserve it.'"
      ]
     },
     "execution_count": 6,
     "metadata": {},
     "output_type": "execute_result"
    }
   ],
   "source": [
    "en_quran_tafsir.Tafseer[2]"
   ]
  },
  {
   "cell_type": "markdown",
   "id": "f64b979c",
   "metadata": {
    "papermill": {
     "duration": 0.005175,
     "end_time": "2022-09-07T11:57:13.468057",
     "exception": false,
     "start_time": "2022-09-07T11:57:13.462882",
     "status": "completed"
    },
    "tags": []
   },
   "source": [
    "tafsir's are of *** تفسير Tafsir al-Jalalayn** which was scrapped from https://www.altafsir.com/"
   ]
  },
  {
   "cell_type": "markdown",
   "id": "9113367b",
   "metadata": {
    "papermill": {
     "duration": 0.005325,
     "end_time": "2022-09-07T11:57:13.479044",
     "exception": false,
     "start_time": "2022-09-07T11:57:13.473719",
     "status": "completed"
    },
    "tags": []
   },
   "source": [
    "i am using this [QURAN English](https://www.kaggle.com/datasets/alizahidraja/quran-english) dataset for creating Holy Quran Embeddings for cross lingual semantic similarity checking purpose."
   ]
  },
  {
   "cell_type": "code",
   "execution_count": null,
   "id": "29644ebe",
   "metadata": {
    "papermill": {
     "duration": 0.005447,
     "end_time": "2022-09-07T11:57:13.489870",
     "exception": false,
     "start_time": "2022-09-07T11:57:13.484423",
     "status": "completed"
    },
    "tags": []
   },
   "outputs": [],
   "source": []
  }
 ],
 "metadata": {
  "kernelspec": {
   "display_name": "Python 3",
   "language": "python",
   "name": "python3"
  },
  "language_info": {
   "codemirror_mode": {
    "name": "ipython",
    "version": 3
   },
   "file_extension": ".py",
   "mimetype": "text/x-python",
   "name": "python",
   "nbconvert_exporter": "python",
   "pygments_lexer": "ipython3",
   "version": "3.7.12"
  },
  "papermill": {
   "default_parameters": {},
   "duration": 73.802205,
   "end_time": "2022-09-07T11:57:15.740313",
   "environment_variables": {},
   "exception": null,
   "input_path": "__notebook__.ipynb",
   "output_path": "__notebook__.ipynb",
   "parameters": {},
   "start_time": "2022-09-07T11:56:01.938108",
   "version": "2.3.4"
  }
 },
 "nbformat": 4,
 "nbformat_minor": 5
}

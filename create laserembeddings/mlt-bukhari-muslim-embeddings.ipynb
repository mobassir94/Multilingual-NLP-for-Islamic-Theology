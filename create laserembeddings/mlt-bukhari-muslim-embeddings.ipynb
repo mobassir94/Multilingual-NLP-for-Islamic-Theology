{
 "cells": [
  {
   "cell_type": "code",
   "execution_count": 1,
   "id": "bea731f8",
   "metadata": {
    "execution": {
     "iopub.execute_input": "2022-09-07T13:24:51.084923Z",
     "iopub.status.busy": "2022-09-07T13:24:51.084480Z",
     "iopub.status.idle": "2022-09-07T13:25:23.801718Z",
     "shell.execute_reply": "2022-09-07T13:25:23.800714Z"
    },
    "papermill": {
     "duration": 32.725287,
     "end_time": "2022-09-07T13:25:23.804895",
     "exception": false,
     "start_time": "2022-09-07T13:24:51.079608",
     "status": "completed"
    },
    "tags": []
   },
   "outputs": [
    {
     "name": "stdout",
     "output_type": "stream",
     "text": [
      "Collecting laserembeddings\r\n",
      "  Downloading laserembeddings-1.1.2-py3-none-any.whl (13 kB)\r\n",
      "Requirement already satisfied: torch<2.0.0,>=1.0.1.post2 in /opt/conda/lib/python3.7/site-packages (from laserembeddings) (1.11.0)\r\n",
      "Collecting subword-nmt<0.4.0,>=0.3.6\r\n",
      "  Downloading subword_nmt-0.3.8-py3-none-any.whl (27 kB)\r\n",
      "Collecting sacremoses==0.0.35\r\n",
      "  Downloading sacremoses-0.0.35.tar.gz (859 kB)\r\n",
      "\u001b[2K     \u001b[90m━━━━━━━━━━━━━━━━━━━━━━━━━━━━━━━━━━━━━━━\u001b[0m \u001b[32m859.8/859.8 kB\u001b[0m \u001b[31m2.6 MB/s\u001b[0m eta \u001b[36m0:00:00\u001b[0m\r\n",
      "\u001b[?25h  Preparing metadata (setup.py) ... \u001b[?25l-\b \bdone\r\n",
      "\u001b[?25hRequirement already satisfied: numpy<2.0.0,>=1.15.4 in /opt/conda/lib/python3.7/site-packages (from laserembeddings) (1.21.6)\r\n",
      "Collecting transliterate==1.10.2\r\n",
      "  Downloading transliterate-1.10.2-py2.py3-none-any.whl (45 kB)\r\n",
      "\u001b[2K     \u001b[90m━━━━━━━━━━━━━━━━━━━━━━━━━━━━━━━━━━━━━━━━\u001b[0m \u001b[32m45.8/45.8 kB\u001b[0m \u001b[31m3.9 MB/s\u001b[0m eta \u001b[36m0:00:00\u001b[0m\r\n",
      "\u001b[?25hRequirement already satisfied: six in /opt/conda/lib/python3.7/site-packages (from sacremoses==0.0.35->laserembeddings) (1.16.0)\r\n",
      "Requirement already satisfied: click in /opt/conda/lib/python3.7/site-packages (from sacremoses==0.0.35->laserembeddings) (8.0.4)\r\n",
      "Requirement already satisfied: joblib in /opt/conda/lib/python3.7/site-packages (from sacremoses==0.0.35->laserembeddings) (1.0.1)\r\n",
      "Requirement already satisfied: tqdm in /opt/conda/lib/python3.7/site-packages (from sacremoses==0.0.35->laserembeddings) (4.64.0)\r\n",
      "Requirement already satisfied: mock in /opt/conda/lib/python3.7/site-packages (from subword-nmt<0.4.0,>=0.3.6->laserembeddings) (4.0.3)\r\n",
      "Requirement already satisfied: typing-extensions in /opt/conda/lib/python3.7/site-packages (from torch<2.0.0,>=1.0.1.post2->laserembeddings) (4.1.1)\r\n",
      "Requirement already satisfied: importlib-metadata in /opt/conda/lib/python3.7/site-packages (from click->sacremoses==0.0.35->laserembeddings) (4.12.0)\r\n",
      "Requirement already satisfied: zipp>=0.5 in /opt/conda/lib/python3.7/site-packages (from importlib-metadata->click->sacremoses==0.0.35->laserembeddings) (3.8.0)\r\n",
      "Building wheels for collected packages: sacremoses\r\n",
      "  Building wheel for sacremoses (setup.py) ... \u001b[?25l-\b \b\\\b \b|\b \bdone\r\n",
      "\u001b[?25h  Created wheel for sacremoses: filename=sacremoses-0.0.35-py3-none-any.whl size=883989 sha256=dc662b404f08d7f7823cfbed56bf3834b783560bef706fc96f8c6d6827a61b9c\r\n",
      "  Stored in directory: /root/.cache/pip/wheels/d1/ff/0e/e00ff1e22100702ac8b24e709551ae0fb29db9ffc843510a64\r\n",
      "Successfully built sacremoses\r\n",
      "Installing collected packages: transliterate, subword-nmt, sacremoses, laserembeddings\r\n",
      "  Attempting uninstall: sacremoses\r\n",
      "    Found existing installation: sacremoses 0.0.53\r\n",
      "    Uninstalling sacremoses-0.0.53:\r\n",
      "      Successfully uninstalled sacremoses-0.0.53\r\n",
      "\u001b[31mERROR: pip's dependency resolver does not currently take into account all the packages that are installed. This behaviour is the source of the following dependency conflicts.\r\n",
      "allennlp 2.10.0 requires protobuf==3.20.0, but you have protobuf 3.19.4 which is incompatible.\u001b[0m\u001b[31m\r\n",
      "\u001b[0mSuccessfully installed laserembeddings-1.1.2 sacremoses-0.0.35 subword-nmt-0.3.8 transliterate-1.10.2\r\n",
      "\u001b[33mWARNING: Running pip as the 'root' user can result in broken permissions and conflicting behaviour with the system package manager. It is recommended to use a virtual environment instead: https://pip.pypa.io/warnings/venv\u001b[0m\u001b[33m\r\n",
      "\u001b[0mDownloading models into /opt/conda/lib/python3.7/site-packages/laserembeddings/data\r\n",
      "\r\n",
      "✅   Downloaded https://dl.fbaipublicfiles.com/laser/models/93langs.fcodes    \r\n",
      "✅   Downloaded https://dl.fbaipublicfiles.com/laser/models/93langs.fvocab    \r\n",
      "✅   Downloaded https://dl.fbaipublicfiles.com/laser/models/bilstm.93langs.2018-12-26.pt    \r\n",
      "\r\n",
      "✨ You're all set!\r\n"
     ]
    }
   ],
   "source": [
    "# This Python 3 environment comes with many helpful analytics libraries installed\n",
    "# It is defined by the kaggle/python Docker image: https://github.com/kaggle/docker-python\n",
    "# For example, here's several helpful packages to load\n",
    "\n",
    "!pip install laserembeddings\n",
    "!python -m laserembeddings download-models\n",
    "\n",
    "import numpy as np # linear algebra\n",
    "import pandas as pd # data processing, CSV file I/O (e.g. pd.read_csv)\n",
    "from laserembeddings import Laser\n",
    "\n",
    "import re\n",
    "from tqdm.auto import tqdm\n",
    "tqdm.pandas()\n",
    "\n",
    "# You can write up to 20GB to the current directory (/kaggle/working/) that gets preserved as output when you create a version using \"Save & Run All\" \n",
    "# You can also write temporary files to /kaggle/temp/, but they won't be saved outside of the current session"
   ]
  },
  {
   "cell_type": "code",
   "execution_count": 2,
   "id": "26b6ee14",
   "metadata": {
    "execution": {
     "iopub.execute_input": "2022-09-07T13:25:23.815424Z",
     "iopub.status.busy": "2022-09-07T13:25:23.814921Z",
     "iopub.status.idle": "2022-09-07T13:25:24.480622Z",
     "shell.execute_reply": "2022-09-07T13:25:24.479736Z"
    },
    "papermill": {
     "duration": 0.673155,
     "end_time": "2022-09-07T13:25:24.482796",
     "exception": false,
     "start_time": "2022-09-07T13:25:23.809641",
     "status": "completed"
    },
    "tags": []
   },
   "outputs": [
    {
     "data": {
      "text/html": [
       "<div>\n",
       "<style scoped>\n",
       "    .dataframe tbody tr th:only-of-type {\n",
       "        vertical-align: middle;\n",
       "    }\n",
       "\n",
       "    .dataframe tbody tr th {\n",
       "        vertical-align: top;\n",
       "    }\n",
       "\n",
       "    .dataframe thead th {\n",
       "        text-align: right;\n",
       "    }\n",
       "</style>\n",
       "<table border=\"1\" class=\"dataframe\">\n",
       "  <thead>\n",
       "    <tr style=\"text-align: right;\">\n",
       "      <th></th>\n",
       "      <th>id</th>\n",
       "      <th>hadith_id</th>\n",
       "      <th>source</th>\n",
       "      <th>chapter_no</th>\n",
       "      <th>hadith_no</th>\n",
       "      <th>chapter</th>\n",
       "      <th>chain_indx</th>\n",
       "      <th>text_ar</th>\n",
       "      <th>text_en</th>\n",
       "      <th>narrators</th>\n",
       "    </tr>\n",
       "  </thead>\n",
       "  <tbody>\n",
       "    <tr>\n",
       "      <th>0</th>\n",
       "      <td>0</td>\n",
       "      <td>1</td>\n",
       "      <td>Sahih Bukhari</td>\n",
       "      <td>1</td>\n",
       "      <td>1</td>\n",
       "      <td>Revelation</td>\n",
       "      <td>30418, 20005, 11062, 11213, 11042, 3</td>\n",
       "      <td>حدثنا الحميدي عبد الله بن الزبير، قال حدثنا سف...</td>\n",
       "      <td>Narrated 'Umar bin Al-Khattab:          ...</td>\n",
       "      <td>'Abdullah bin al Zubair bin 'Isa ,Sufyan bin '...</td>\n",
       "    </tr>\n",
       "  </tbody>\n",
       "</table>\n",
       "</div>"
      ],
      "text/plain": [
       "   id  hadith_id           source  chapter_no  hadith_no      chapter  \\\n",
       "0   0          1   Sahih Bukhari            1          1  Revelation    \n",
       "\n",
       "                             chain_indx  \\\n",
       "0  30418, 20005, 11062, 11213, 11042, 3   \n",
       "\n",
       "                                             text_ar  \\\n",
       "0  حدثنا الحميدي عبد الله بن الزبير، قال حدثنا سف...   \n",
       "\n",
       "                                             text_en  \\\n",
       "0        Narrated 'Umar bin Al-Khattab:          ...   \n",
       "\n",
       "                                           narrators  \n",
       "0  'Abdullah bin al Zubair bin 'Isa ,Sufyan bin '...  "
      ]
     },
     "execution_count": 2,
     "metadata": {},
     "output_type": "execute_result"
    }
   ],
   "source": [
    "en_bukhari_muslim = pd.read_csv('../input/en-bn-sahih-bukhari-muslim/en_bukhari_muslim.csv')\n",
    "en_bukhari_muslim.head(1)"
   ]
  },
  {
   "cell_type": "code",
   "execution_count": 3,
   "id": "e4c6a620",
   "metadata": {
    "execution": {
     "iopub.execute_input": "2022-09-07T13:25:24.493669Z",
     "iopub.status.busy": "2022-09-07T13:25:24.492730Z",
     "iopub.status.idle": "2022-09-07T13:25:24.502045Z",
     "shell.execute_reply": "2022-09-07T13:25:24.500984Z"
    },
    "papermill": {
     "duration": 0.016489,
     "end_time": "2022-09-07T13:25:24.503933",
     "exception": false,
     "start_time": "2022-09-07T13:25:24.487444",
     "status": "completed"
    },
    "tags": []
   },
   "outputs": [
    {
     "data": {
      "text/plain": [
       "\"'Abdullah bin al Zubair bin 'Isa ,Sufyan bin 'Uyaynah ,Yahya bin Sa'id al Ansari ,Muhammad bin Ibrahim bin al Harith ,'Alqama bin Waqqas ,'Umar ibn al Khattab \""
      ]
     },
     "execution_count": 3,
     "metadata": {},
     "output_type": "execute_result"
    }
   ],
   "source": [
    "en_bukhari_muslim.narrators[0]"
   ]
  },
  {
   "cell_type": "code",
   "execution_count": 4,
   "id": "39b3c7af",
   "metadata": {
    "execution": {
     "iopub.execute_input": "2022-09-07T13:25:24.515150Z",
     "iopub.status.busy": "2022-09-07T13:25:24.513569Z",
     "iopub.status.idle": "2022-09-07T13:25:24.809425Z",
     "shell.execute_reply": "2022-09-07T13:25:24.808442Z"
    },
    "papermill": {
     "duration": 0.306137,
     "end_time": "2022-09-07T13:25:24.814527",
     "exception": false,
     "start_time": "2022-09-07T13:25:24.508390",
     "status": "completed"
    },
    "tags": []
   },
   "outputs": [
    {
     "data": {
      "application/vnd.jupyter.widget-view+json": {
       "model_id": "469a2c223d4347ea8fee51373e091b45",
       "version_major": 2,
       "version_minor": 0
      },
      "text/plain": [
       "  0%|          | 0/14966 [00:00<?, ?it/s]"
      ]
     },
     "metadata": {},
     "output_type": "display_data"
    },
    {
     "data": {
      "application/vnd.jupyter.widget-view+json": {
       "model_id": "967551c72d254f8f8f22ff8c6086a634",
       "version_major": 2,
       "version_minor": 0
      },
      "text/plain": [
       "  0%|          | 0/14966 [00:00<?, ?it/s]"
      ]
     },
     "metadata": {},
     "output_type": "display_data"
    },
    {
     "name": "stdout",
     "output_type": "stream",
     "text": [
      "CPU times: user 282 ms, sys: 5.67 ms, total: 288 ms\n",
      "Wall time: 287 ms\n"
     ]
    },
    {
     "data": {
      "text/plain": [
       "\"'Abdullah bin al Zubair bin 'Isa ,Sufyan bin 'Uyaynah ,Yahya bin Sa'id al Ansari ,Muhammad bin Ibrahim bin al Harith ,'Alqama bin Waqqas ,'Umar ibn al Khattab \""
      ]
     },
     "execution_count": 4,
     "metadata": {},
     "output_type": "execute_result"
    }
   ],
   "source": [
    "%%time\n",
    "\n",
    "def remove_non_english(mixed_text):\n",
    "    return re.sub(\"[^a-zA-Z0-9,']+\", \" \",str(mixed_text))\n",
    "\n",
    "\n",
    "en_bukhari_muslim[\"narrators\"]=en_bukhari_muslim.narrators.progress_apply(lambda mixed_text: remove_non_english(mixed_text))\n",
    "en_bukhari_muslim[\"chapter\"]=en_bukhari_muslim.chapter.progress_apply(lambda mixed_text: remove_non_english(mixed_text))\n",
    "en_bukhari_muslim.narrators[0]"
   ]
  },
  {
   "cell_type": "code",
   "execution_count": 5,
   "id": "e9d39399",
   "metadata": {
    "execution": {
     "iopub.execute_input": "2022-09-07T13:25:24.825863Z",
     "iopub.status.busy": "2022-09-07T13:25:24.825576Z",
     "iopub.status.idle": "2022-09-07T13:25:24.831669Z",
     "shell.execute_reply": "2022-09-07T13:25:24.830561Z"
    },
    "papermill": {
     "duration": 0.01446,
     "end_time": "2022-09-07T13:25:24.834022",
     "exception": false,
     "start_time": "2022-09-07T13:25:24.819562",
     "status": "completed"
    },
    "tags": []
   },
   "outputs": [
    {
     "data": {
      "text/plain": [
       "'Revelation '"
      ]
     },
     "execution_count": 5,
     "metadata": {},
     "output_type": "execute_result"
    }
   ],
   "source": [
    "en_bukhari_muslim.chapter[0]"
   ]
  },
  {
   "cell_type": "code",
   "execution_count": 6,
   "id": "3508134f",
   "metadata": {
    "execution": {
     "iopub.execute_input": "2022-09-07T13:25:24.844927Z",
     "iopub.status.busy": "2022-09-07T13:25:24.844626Z",
     "iopub.status.idle": "2022-09-07T13:26:34.859265Z",
     "shell.execute_reply": "2022-09-07T13:26:34.858232Z"
    },
    "papermill": {
     "duration": 70.027655,
     "end_time": "2022-09-07T13:26:34.866569",
     "exception": false,
     "start_time": "2022-09-07T13:25:24.838914",
     "status": "completed"
    },
    "tags": []
   },
   "outputs": [
    {
     "name": "stdout",
     "output_type": "stream",
     "text": [
      "CPU times: user 1min 1s, sys: 6.85 s, total: 1min 8s\n",
      "Wall time: 1min 10s\n"
     ]
    }
   ],
   "source": [
    "%%time\n",
    "laser = Laser()\n",
    "\n",
    "\n",
    "en_bukhari_muslim['merged_text'] = en_bukhari_muslim.text_en.astype(str) + en_bukhari_muslim.chapter.astype(str)\n",
    "\n",
    "embeds = laser.embed_sentences(en_bukhari_muslim['merged_text'].values, lang='en')\n",
    "np.save(\"en_emb_bukhari_muslim.npy\",embeds)\n",
    "en_bukhari_muslim = en_bukhari_muslim.drop(columns=['merged_text'])"
   ]
  },
  {
   "cell_type": "code",
   "execution_count": 7,
   "id": "48974777",
   "metadata": {
    "execution": {
     "iopub.execute_input": "2022-09-07T13:26:34.879536Z",
     "iopub.status.busy": "2022-09-07T13:26:34.878501Z",
     "iopub.status.idle": "2022-09-07T13:26:34.891886Z",
     "shell.execute_reply": "2022-09-07T13:26:34.890848Z"
    },
    "papermill": {
     "duration": 0.021544,
     "end_time": "2022-09-07T13:26:34.894190",
     "exception": false,
     "start_time": "2022-09-07T13:26:34.872646",
     "status": "completed"
    },
    "tags": []
   },
   "outputs": [
    {
     "data": {
      "text/html": [
       "<div>\n",
       "<style scoped>\n",
       "    .dataframe tbody tr th:only-of-type {\n",
       "        vertical-align: middle;\n",
       "    }\n",
       "\n",
       "    .dataframe tbody tr th {\n",
       "        vertical-align: top;\n",
       "    }\n",
       "\n",
       "    .dataframe thead th {\n",
       "        text-align: right;\n",
       "    }\n",
       "</style>\n",
       "<table border=\"1\" class=\"dataframe\">\n",
       "  <thead>\n",
       "    <tr style=\"text-align: right;\">\n",
       "      <th></th>\n",
       "      <th>id</th>\n",
       "      <th>hadith_id</th>\n",
       "      <th>source</th>\n",
       "      <th>chapter_no</th>\n",
       "      <th>hadith_no</th>\n",
       "      <th>chapter</th>\n",
       "      <th>chain_indx</th>\n",
       "      <th>text_ar</th>\n",
       "      <th>text_en</th>\n",
       "      <th>narrators</th>\n",
       "    </tr>\n",
       "  </thead>\n",
       "  <tbody>\n",
       "    <tr>\n",
       "      <th>0</th>\n",
       "      <td>0</td>\n",
       "      <td>1</td>\n",
       "      <td>Sahih Bukhari</td>\n",
       "      <td>1</td>\n",
       "      <td>1</td>\n",
       "      <td>Revelation</td>\n",
       "      <td>30418, 20005, 11062, 11213, 11042, 3</td>\n",
       "      <td>حدثنا الحميدي عبد الله بن الزبير، قال حدثنا سف...</td>\n",
       "      <td>Narrated 'Umar bin Al-Khattab:          ...</td>\n",
       "      <td>'Abdullah bin al Zubair bin 'Isa ,Sufyan bin '...</td>\n",
       "    </tr>\n",
       "    <tr>\n",
       "      <th>1</th>\n",
       "      <td>1</td>\n",
       "      <td>2</td>\n",
       "      <td>Sahih Bukhari</td>\n",
       "      <td>1</td>\n",
       "      <td>2</td>\n",
       "      <td>Revelation</td>\n",
       "      <td>30355, 20001, 11065, 10511, 53</td>\n",
       "      <td>حدثنا عبد الله بن يوسف، قال أخبرنا مالك، عن هش...</td>\n",
       "      <td>Narrated 'Aisha:                        ...</td>\n",
       "      <td>'Abdullah bin Yusuf al Tunaysi ,Imam Maalik ,H...</td>\n",
       "    </tr>\n",
       "    <tr>\n",
       "      <th>2</th>\n",
       "      <td>2</td>\n",
       "      <td>3</td>\n",
       "      <td>Sahih Bukhari</td>\n",
       "      <td>1</td>\n",
       "      <td>3</td>\n",
       "      <td>Revelation</td>\n",
       "      <td>30399, 20023, 11207, 11013, 10511, 53</td>\n",
       "      <td>حدثنا يحيى بن بكير، قال حدثنا الليث، عن عقيل، ...</td>\n",
       "      <td>Narrated 'Aisha:                       (the m...</td>\n",
       "      <td>Yahya bin Yahya bin Bukayr ,al Laith bin Sa'd ...</td>\n",
       "    </tr>\n",
       "    <tr>\n",
       "      <th>3</th>\n",
       "      <td>3</td>\n",
       "      <td>4</td>\n",
       "      <td>Sahih Bukhari</td>\n",
       "      <td>1</td>\n",
       "      <td>4</td>\n",
       "      <td>Revelation</td>\n",
       "      <td>11013, 10567, 34</td>\n",
       "      <td>قال ابن شهاب وأخبرني أبو سلمة بن عبد الرحمن، أ...</td>\n",
       "      <td>Narrated Jabir bin 'Abdullah Al-Ansari while ...</td>\n",
       "      <td>al Zuhri , ,Abu Salama bin 'Abdur Rahman ,Jabi...</td>\n",
       "    </tr>\n",
       "    <tr>\n",
       "      <th>4</th>\n",
       "      <td>4</td>\n",
       "      <td>5</td>\n",
       "      <td>Sahih Bukhari</td>\n",
       "      <td>1</td>\n",
       "      <td>5</td>\n",
       "      <td>Revelation</td>\n",
       "      <td>20040, 20469, 11399, 11050, 17</td>\n",
       "      <td>حدثنا موسى بن إسماعيل، قال حدثنا أبو عوانة، قا...</td>\n",
       "      <td>Narrated Said bin Jubair:               ...</td>\n",
       "      <td>Musa bin Isma'il al Munqari al Tabudhaki ,Wada...</td>\n",
       "    </tr>\n",
       "  </tbody>\n",
       "</table>\n",
       "</div>"
      ],
      "text/plain": [
       "   id  hadith_id           source  chapter_no  hadith_no      chapter  \\\n",
       "0   0          1   Sahih Bukhari            1          1  Revelation    \n",
       "1   1          2   Sahih Bukhari            1          2  Revelation    \n",
       "2   2          3   Sahih Bukhari            1          3  Revelation    \n",
       "3   3          4   Sahih Bukhari            1          4  Revelation    \n",
       "4   4          5   Sahih Bukhari            1          5  Revelation    \n",
       "\n",
       "                              chain_indx  \\\n",
       "0   30418, 20005, 11062, 11213, 11042, 3   \n",
       "1         30355, 20001, 11065, 10511, 53   \n",
       "2  30399, 20023, 11207, 11013, 10511, 53   \n",
       "3                       11013, 10567, 34   \n",
       "4         20040, 20469, 11399, 11050, 17   \n",
       "\n",
       "                                             text_ar  \\\n",
       "0  حدثنا الحميدي عبد الله بن الزبير، قال حدثنا سف...   \n",
       "1  حدثنا عبد الله بن يوسف، قال أخبرنا مالك، عن هش...   \n",
       "2  حدثنا يحيى بن بكير، قال حدثنا الليث، عن عقيل، ...   \n",
       "3  قال ابن شهاب وأخبرني أبو سلمة بن عبد الرحمن، أ...   \n",
       "4  حدثنا موسى بن إسماعيل، قال حدثنا أبو عوانة، قا...   \n",
       "\n",
       "                                             text_en  \\\n",
       "0        Narrated 'Umar bin Al-Khattab:          ...   \n",
       "1        Narrated 'Aisha:                        ...   \n",
       "2   Narrated 'Aisha:                       (the m...   \n",
       "3   Narrated Jabir bin 'Abdullah Al-Ansari while ...   \n",
       "4        Narrated Said bin Jubair:               ...   \n",
       "\n",
       "                                           narrators  \n",
       "0  'Abdullah bin al Zubair bin 'Isa ,Sufyan bin '...  \n",
       "1  'Abdullah bin Yusuf al Tunaysi ,Imam Maalik ,H...  \n",
       "2  Yahya bin Yahya bin Bukayr ,al Laith bin Sa'd ...  \n",
       "3  al Zuhri , ,Abu Salama bin 'Abdur Rahman ,Jabi...  \n",
       "4  Musa bin Isma'il al Munqari al Tabudhaki ,Wada...  "
      ]
     },
     "execution_count": 7,
     "metadata": {},
     "output_type": "execute_result"
    }
   ],
   "source": [
    "en_bukhari_muslim.head()"
   ]
  },
  {
   "cell_type": "code",
   "execution_count": 8,
   "id": "703669e8",
   "metadata": {
    "execution": {
     "iopub.execute_input": "2022-09-07T13:26:34.905751Z",
     "iopub.status.busy": "2022-09-07T13:26:34.905283Z",
     "iopub.status.idle": "2022-09-07T13:26:34.911257Z",
     "shell.execute_reply": "2022-09-07T13:26:34.910375Z"
    },
    "papermill": {
     "duration": 0.013914,
     "end_time": "2022-09-07T13:26:34.913336",
     "exception": false,
     "start_time": "2022-09-07T13:26:34.899422",
     "status": "completed"
    },
    "tags": []
   },
   "outputs": [
    {
     "data": {
      "text/plain": [
       "' Narrated Abu Sa`id Al-Khudri:                     Some women requested the Prophet to fix a day for them as the men were taking all his time. On that he promised them one day for religious lessons and commandments. Once during such a lesson the Prophet said, \"A woman whose three children die will be shielded by them from the Hell fire.\" On that a woman asked, \"If only two die?\" He replied, \"Even two (will shield her from the Hell-fire).'"
      ]
     },
     "execution_count": 8,
     "metadata": {},
     "output_type": "execute_result"
    }
   ],
   "source": [
    "en_bukhari_muslim.text_en[100]"
   ]
  },
  {
   "cell_type": "code",
   "execution_count": 9,
   "id": "8dac0de1",
   "metadata": {
    "execution": {
     "iopub.execute_input": "2022-09-07T13:26:34.925947Z",
     "iopub.status.busy": "2022-09-07T13:26:34.925694Z",
     "iopub.status.idle": "2022-09-07T13:26:35.289487Z",
     "shell.execute_reply": "2022-09-07T13:26:35.288503Z"
    },
    "papermill": {
     "duration": 0.373041,
     "end_time": "2022-09-07T13:26:35.292015",
     "exception": false,
     "start_time": "2022-09-07T13:26:34.918974",
     "status": "completed"
    },
    "tags": []
   },
   "outputs": [],
   "source": [
    "en_bukhari_muslim.to_csv('en_bukhari_muslim.csv',index = False)"
   ]
  },
  {
   "cell_type": "markdown",
   "id": "e24fcca0",
   "metadata": {
    "papermill": {
     "duration": 0.005201,
     "end_time": "2022-09-07T13:26:35.302991",
     "exception": false,
     "start_time": "2022-09-07T13:26:35.297790",
     "status": "completed"
    },
    "tags": []
   },
   "source": [
    "we are using [this dataset](https://www.kaggle.com/datasets/mobassir/en-bn-sahih-bukhari-muslim) which was scrapped from muslimscholars.info & qaalarasulallah.com database by [Fahd](https://www.kaggle.com/fahd09) that can be found here -> https://www.kaggle.com/datasets/fahd09/hadith-dataset and here -> https://www.kaggle.com/datasets/fahd09/hadith-narrators\n",
    "we pick only bukhari and muslim hadith's from that english source and add one new column that contains the list of \"narrators\".\n",
    "data processing code can be found here -> https://github.com/mnansary/hadith-srcapper/blob/main/simple_EDA/simple-eda-between-en-bn-scrapped-hadiths.ipynb"
   ]
  },
  {
   "cell_type": "code",
   "execution_count": null,
   "id": "b3db5253",
   "metadata": {
    "papermill": {
     "duration": 0.005071,
     "end_time": "2022-09-07T13:26:35.313547",
     "exception": false,
     "start_time": "2022-09-07T13:26:35.308476",
     "status": "completed"
    },
    "tags": []
   },
   "outputs": [],
   "source": []
  }
 ],
 "metadata": {
  "kernelspec": {
   "display_name": "Python 3",
   "language": "python",
   "name": "python3"
  },
  "language_info": {
   "codemirror_mode": {
    "name": "ipython",
    "version": 3
   },
   "file_extension": ".py",
   "mimetype": "text/x-python",
   "name": "python",
   "nbconvert_exporter": "python",
   "pygments_lexer": "ipython3",
   "version": "3.7.12"
  },
  "papermill": {
   "default_parameters": {},
   "duration": 112.617698,
   "end_time": "2022-09-07T13:26:36.241894",
   "environment_variables": {},
   "exception": null,
   "input_path": "__notebook__.ipynb",
   "output_path": "__notebook__.ipynb",
   "parameters": {},
   "start_time": "2022-09-07T13:24:43.624196",
   "version": "2.3.4"
  },
  "widgets": {
   "application/vnd.jupyter.widget-state+json": {
    "state": {
     "02bcdd3b3b014d998031efeaea9a15d9": {
      "model_module": "@jupyter-widgets/controls",
      "model_module_version": "1.5.0",
      "model_name": "FloatProgressModel",
      "state": {
       "_dom_classes": [],
       "_model_module": "@jupyter-widgets/controls",
       "_model_module_version": "1.5.0",
       "_model_name": "FloatProgressModel",
       "_view_count": null,
       "_view_module": "@jupyter-widgets/controls",
       "_view_module_version": "1.5.0",
       "_view_name": "ProgressView",
       "bar_style": "success",
       "description": "",
       "description_tooltip": null,
       "layout": "IPY_MODEL_444551e0cd9245c38531fb041fe733c3",
       "max": 14966.0,
       "min": 0.0,
       "orientation": "horizontal",
       "style": "IPY_MODEL_b709958887a84590b5b59b01ce94bbbf",
       "value": 14966.0
      }
     },
     "061d28b597774e499d6f167cb7f3414c": {
      "model_module": "@jupyter-widgets/base",
      "model_module_version": "1.2.0",
      "model_name": "LayoutModel",
      "state": {
       "_model_module": "@jupyter-widgets/base",
       "_model_module_version": "1.2.0",
       "_model_name": "LayoutModel",
       "_view_count": null,
       "_view_module": "@jupyter-widgets/base",
       "_view_module_version": "1.2.0",
       "_view_name": "LayoutView",
       "align_content": null,
       "align_items": null,
       "align_self": null,
       "border": null,
       "bottom": null,
       "display": null,
       "flex": null,
       "flex_flow": null,
       "grid_area": null,
       "grid_auto_columns": null,
       "grid_auto_flow": null,
       "grid_auto_rows": null,
       "grid_column": null,
       "grid_gap": null,
       "grid_row": null,
       "grid_template_areas": null,
       "grid_template_columns": null,
       "grid_template_rows": null,
       "height": null,
       "justify_content": null,
       "justify_items": null,
       "left": null,
       "margin": null,
       "max_height": null,
       "max_width": null,
       "min_height": null,
       "min_width": null,
       "object_fit": null,
       "object_position": null,
       "order": null,
       "overflow": null,
       "overflow_x": null,
       "overflow_y": null,
       "padding": null,
       "right": null,
       "top": null,
       "visibility": null,
       "width": null
      }
     },
     "12028247f9e9419891a50ea2f540cd9e": {
      "model_module": "@jupyter-widgets/controls",
      "model_module_version": "1.5.0",
      "model_name": "HTMLModel",
      "state": {
       "_dom_classes": [],
       "_model_module": "@jupyter-widgets/controls",
       "_model_module_version": "1.5.0",
       "_model_name": "HTMLModel",
       "_view_count": null,
       "_view_module": "@jupyter-widgets/controls",
       "_view_module_version": "1.5.0",
       "_view_name": "HTMLView",
       "description": "",
       "description_tooltip": null,
       "layout": "IPY_MODEL_af8d8f4cc02f4eb1937528031e2f71e7",
       "placeholder": "​",
       "style": "IPY_MODEL_890fec6966e64cd69f15bbd512a12096",
       "value": "100%"
      }
     },
     "2ba36a7e47254d8292d95371b7665d2b": {
      "model_module": "@jupyter-widgets/controls",
      "model_module_version": "1.5.0",
      "model_name": "DescriptionStyleModel",
      "state": {
       "_model_module": "@jupyter-widgets/controls",
       "_model_module_version": "1.5.0",
       "_model_name": "DescriptionStyleModel",
       "_view_count": null,
       "_view_module": "@jupyter-widgets/base",
       "_view_module_version": "1.2.0",
       "_view_name": "StyleView",
       "description_width": ""
      }
     },
     "38d938fe49ab44e9b74a193f5c17db51": {
      "model_module": "@jupyter-widgets/controls",
      "model_module_version": "1.5.0",
      "model_name": "HTMLModel",
      "state": {
       "_dom_classes": [],
       "_model_module": "@jupyter-widgets/controls",
       "_model_module_version": "1.5.0",
       "_model_name": "HTMLModel",
       "_view_count": null,
       "_view_module": "@jupyter-widgets/controls",
       "_view_module_version": "1.5.0",
       "_view_name": "HTMLView",
       "description": "",
       "description_tooltip": null,
       "layout": "IPY_MODEL_59f4a43dcbcd4b57bcaba7d78f7bddf1",
       "placeholder": "​",
       "style": "IPY_MODEL_84d75dcdf4f94af0bc86907ed9846ef1",
       "value": "100%"
      }
     },
     "40a6570262b24ea9a28290b6f20fcf0f": {
      "model_module": "@jupyter-widgets/base",
      "model_module_version": "1.2.0",
      "model_name": "LayoutModel",
      "state": {
       "_model_module": "@jupyter-widgets/base",
       "_model_module_version": "1.2.0",
       "_model_name": "LayoutModel",
       "_view_count": null,
       "_view_module": "@jupyter-widgets/base",
       "_view_module_version": "1.2.0",
       "_view_name": "LayoutView",
       "align_content": null,
       "align_items": null,
       "align_self": null,
       "border": null,
       "bottom": null,
       "display": null,
       "flex": null,
       "flex_flow": null,
       "grid_area": null,
       "grid_auto_columns": null,
       "grid_auto_flow": null,
       "grid_auto_rows": null,
       "grid_column": null,
       "grid_gap": null,
       "grid_row": null,
       "grid_template_areas": null,
       "grid_template_columns": null,
       "grid_template_rows": null,
       "height": null,
       "justify_content": null,
       "justify_items": null,
       "left": null,
       "margin": null,
       "max_height": null,
       "max_width": null,
       "min_height": null,
       "min_width": null,
       "object_fit": null,
       "object_position": null,
       "order": null,
       "overflow": null,
       "overflow_x": null,
       "overflow_y": null,
       "padding": null,
       "right": null,
       "top": null,
       "visibility": null,
       "width": null
      }
     },
     "444551e0cd9245c38531fb041fe733c3": {
      "model_module": "@jupyter-widgets/base",
      "model_module_version": "1.2.0",
      "model_name": "LayoutModel",
      "state": {
       "_model_module": "@jupyter-widgets/base",
       "_model_module_version": "1.2.0",
       "_model_name": "LayoutModel",
       "_view_count": null,
       "_view_module": "@jupyter-widgets/base",
       "_view_module_version": "1.2.0",
       "_view_name": "LayoutView",
       "align_content": null,
       "align_items": null,
       "align_self": null,
       "border": null,
       "bottom": null,
       "display": null,
       "flex": null,
       "flex_flow": null,
       "grid_area": null,
       "grid_auto_columns": null,
       "grid_auto_flow": null,
       "grid_auto_rows": null,
       "grid_column": null,
       "grid_gap": null,
       "grid_row": null,
       "grid_template_areas": null,
       "grid_template_columns": null,
       "grid_template_rows": null,
       "height": null,
       "justify_content": null,
       "justify_items": null,
       "left": null,
       "margin": null,
       "max_height": null,
       "max_width": null,
       "min_height": null,
       "min_width": null,
       "object_fit": null,
       "object_position": null,
       "order": null,
       "overflow": null,
       "overflow_x": null,
       "overflow_y": null,
       "padding": null,
       "right": null,
       "top": null,
       "visibility": null,
       "width": null
      }
     },
     "469a2c223d4347ea8fee51373e091b45": {
      "model_module": "@jupyter-widgets/controls",
      "model_module_version": "1.5.0",
      "model_name": "HBoxModel",
      "state": {
       "_dom_classes": [],
       "_model_module": "@jupyter-widgets/controls",
       "_model_module_version": "1.5.0",
       "_model_name": "HBoxModel",
       "_view_count": null,
       "_view_module": "@jupyter-widgets/controls",
       "_view_module_version": "1.5.0",
       "_view_name": "HBoxView",
       "box_style": "",
       "children": [
        "IPY_MODEL_38d938fe49ab44e9b74a193f5c17db51",
        "IPY_MODEL_02bcdd3b3b014d998031efeaea9a15d9",
        "IPY_MODEL_fac586a611304a96b3c87a361ac9d7a6"
       ],
       "layout": "IPY_MODEL_9b207923d46042189bae5d613f342f20"
      }
     },
     "4f21f3defa50483e97f2b22855c41867": {
      "model_module": "@jupyter-widgets/controls",
      "model_module_version": "1.5.0",
      "model_name": "DescriptionStyleModel",
      "state": {
       "_model_module": "@jupyter-widgets/controls",
       "_model_module_version": "1.5.0",
       "_model_name": "DescriptionStyleModel",
       "_view_count": null,
       "_view_module": "@jupyter-widgets/base",
       "_view_module_version": "1.2.0",
       "_view_name": "StyleView",
       "description_width": ""
      }
     },
     "59f4a43dcbcd4b57bcaba7d78f7bddf1": {
      "model_module": "@jupyter-widgets/base",
      "model_module_version": "1.2.0",
      "model_name": "LayoutModel",
      "state": {
       "_model_module": "@jupyter-widgets/base",
       "_model_module_version": "1.2.0",
       "_model_name": "LayoutModel",
       "_view_count": null,
       "_view_module": "@jupyter-widgets/base",
       "_view_module_version": "1.2.0",
       "_view_name": "LayoutView",
       "align_content": null,
       "align_items": null,
       "align_self": null,
       "border": null,
       "bottom": null,
       "display": null,
       "flex": null,
       "flex_flow": null,
       "grid_area": null,
       "grid_auto_columns": null,
       "grid_auto_flow": null,
       "grid_auto_rows": null,
       "grid_column": null,
       "grid_gap": null,
       "grid_row": null,
       "grid_template_areas": null,
       "grid_template_columns": null,
       "grid_template_rows": null,
       "height": null,
       "justify_content": null,
       "justify_items": null,
       "left": null,
       "margin": null,
       "max_height": null,
       "max_width": null,
       "min_height": null,
       "min_width": null,
       "object_fit": null,
       "object_position": null,
       "order": null,
       "overflow": null,
       "overflow_x": null,
       "overflow_y": null,
       "padding": null,
       "right": null,
       "top": null,
       "visibility": null,
       "width": null
      }
     },
     "6dc531b9356d4a81848a98108d5177fe": {
      "model_module": "@jupyter-widgets/controls",
      "model_module_version": "1.5.0",
      "model_name": "ProgressStyleModel",
      "state": {
       "_model_module": "@jupyter-widgets/controls",
       "_model_module_version": "1.5.0",
       "_model_name": "ProgressStyleModel",
       "_view_count": null,
       "_view_module": "@jupyter-widgets/base",
       "_view_module_version": "1.2.0",
       "_view_name": "StyleView",
       "bar_color": null,
       "description_width": ""
      }
     },
     "7aa9e9a3aad741df9bf9d1067508008d": {
      "model_module": "@jupyter-widgets/controls",
      "model_module_version": "1.5.0",
      "model_name": "HTMLModel",
      "state": {
       "_dom_classes": [],
       "_model_module": "@jupyter-widgets/controls",
       "_model_module_version": "1.5.0",
       "_model_name": "HTMLModel",
       "_view_count": null,
       "_view_module": "@jupyter-widgets/controls",
       "_view_module_version": "1.5.0",
       "_view_name": "HTMLView",
       "description": "",
       "description_tooltip": null,
       "layout": "IPY_MODEL_061d28b597774e499d6f167cb7f3414c",
       "placeholder": "​",
       "style": "IPY_MODEL_2ba36a7e47254d8292d95371b7665d2b",
       "value": " 14966/14966 [00:00&lt;00:00, 145246.33it/s]"
      }
     },
     "84d75dcdf4f94af0bc86907ed9846ef1": {
      "model_module": "@jupyter-widgets/controls",
      "model_module_version": "1.5.0",
      "model_name": "DescriptionStyleModel",
      "state": {
       "_model_module": "@jupyter-widgets/controls",
       "_model_module_version": "1.5.0",
       "_model_name": "DescriptionStyleModel",
       "_view_count": null,
       "_view_module": "@jupyter-widgets/base",
       "_view_module_version": "1.2.0",
       "_view_name": "StyleView",
       "description_width": ""
      }
     },
     "890fec6966e64cd69f15bbd512a12096": {
      "model_module": "@jupyter-widgets/controls",
      "model_module_version": "1.5.0",
      "model_name": "DescriptionStyleModel",
      "state": {
       "_model_module": "@jupyter-widgets/controls",
       "_model_module_version": "1.5.0",
       "_model_name": "DescriptionStyleModel",
       "_view_count": null,
       "_view_module": "@jupyter-widgets/base",
       "_view_module_version": "1.2.0",
       "_view_name": "StyleView",
       "description_width": ""
      }
     },
     "93b0fee9e5c3490cb90b2ee41d27d964": {
      "model_module": "@jupyter-widgets/base",
      "model_module_version": "1.2.0",
      "model_name": "LayoutModel",
      "state": {
       "_model_module": "@jupyter-widgets/base",
       "_model_module_version": "1.2.0",
       "_model_name": "LayoutModel",
       "_view_count": null,
       "_view_module": "@jupyter-widgets/base",
       "_view_module_version": "1.2.0",
       "_view_name": "LayoutView",
       "align_content": null,
       "align_items": null,
       "align_self": null,
       "border": null,
       "bottom": null,
       "display": null,
       "flex": null,
       "flex_flow": null,
       "grid_area": null,
       "grid_auto_columns": null,
       "grid_auto_flow": null,
       "grid_auto_rows": null,
       "grid_column": null,
       "grid_gap": null,
       "grid_row": null,
       "grid_template_areas": null,
       "grid_template_columns": null,
       "grid_template_rows": null,
       "height": null,
       "justify_content": null,
       "justify_items": null,
       "left": null,
       "margin": null,
       "max_height": null,
       "max_width": null,
       "min_height": null,
       "min_width": null,
       "object_fit": null,
       "object_position": null,
       "order": null,
       "overflow": null,
       "overflow_x": null,
       "overflow_y": null,
       "padding": null,
       "right": null,
       "top": null,
       "visibility": null,
       "width": null
      }
     },
     "967551c72d254f8f8f22ff8c6086a634": {
      "model_module": "@jupyter-widgets/controls",
      "model_module_version": "1.5.0",
      "model_name": "HBoxModel",
      "state": {
       "_dom_classes": [],
       "_model_module": "@jupyter-widgets/controls",
       "_model_module_version": "1.5.0",
       "_model_name": "HBoxModel",
       "_view_count": null,
       "_view_module": "@jupyter-widgets/controls",
       "_view_module_version": "1.5.0",
       "_view_name": "HBoxView",
       "box_style": "",
       "children": [
        "IPY_MODEL_12028247f9e9419891a50ea2f540cd9e",
        "IPY_MODEL_fead3bb815774b45b4c3f6662851292c",
        "IPY_MODEL_7aa9e9a3aad741df9bf9d1067508008d"
       ],
       "layout": "IPY_MODEL_cb9e0b03d5ef43f9988cfec06315cb45"
      }
     },
     "9b207923d46042189bae5d613f342f20": {
      "model_module": "@jupyter-widgets/base",
      "model_module_version": "1.2.0",
      "model_name": "LayoutModel",
      "state": {
       "_model_module": "@jupyter-widgets/base",
       "_model_module_version": "1.2.0",
       "_model_name": "LayoutModel",
       "_view_count": null,
       "_view_module": "@jupyter-widgets/base",
       "_view_module_version": "1.2.0",
       "_view_name": "LayoutView",
       "align_content": null,
       "align_items": null,
       "align_self": null,
       "border": null,
       "bottom": null,
       "display": null,
       "flex": null,
       "flex_flow": null,
       "grid_area": null,
       "grid_auto_columns": null,
       "grid_auto_flow": null,
       "grid_auto_rows": null,
       "grid_column": null,
       "grid_gap": null,
       "grid_row": null,
       "grid_template_areas": null,
       "grid_template_columns": null,
       "grid_template_rows": null,
       "height": null,
       "justify_content": null,
       "justify_items": null,
       "left": null,
       "margin": null,
       "max_height": null,
       "max_width": null,
       "min_height": null,
       "min_width": null,
       "object_fit": null,
       "object_position": null,
       "order": null,
       "overflow": null,
       "overflow_x": null,
       "overflow_y": null,
       "padding": null,
       "right": null,
       "top": null,
       "visibility": null,
       "width": null
      }
     },
     "af8d8f4cc02f4eb1937528031e2f71e7": {
      "model_module": "@jupyter-widgets/base",
      "model_module_version": "1.2.0",
      "model_name": "LayoutModel",
      "state": {
       "_model_module": "@jupyter-widgets/base",
       "_model_module_version": "1.2.0",
       "_model_name": "LayoutModel",
       "_view_count": null,
       "_view_module": "@jupyter-widgets/base",
       "_view_module_version": "1.2.0",
       "_view_name": "LayoutView",
       "align_content": null,
       "align_items": null,
       "align_self": null,
       "border": null,
       "bottom": null,
       "display": null,
       "flex": null,
       "flex_flow": null,
       "grid_area": null,
       "grid_auto_columns": null,
       "grid_auto_flow": null,
       "grid_auto_rows": null,
       "grid_column": null,
       "grid_gap": null,
       "grid_row": null,
       "grid_template_areas": null,
       "grid_template_columns": null,
       "grid_template_rows": null,
       "height": null,
       "justify_content": null,
       "justify_items": null,
       "left": null,
       "margin": null,
       "max_height": null,
       "max_width": null,
       "min_height": null,
       "min_width": null,
       "object_fit": null,
       "object_position": null,
       "order": null,
       "overflow": null,
       "overflow_x": null,
       "overflow_y": null,
       "padding": null,
       "right": null,
       "top": null,
       "visibility": null,
       "width": null
      }
     },
     "b709958887a84590b5b59b01ce94bbbf": {
      "model_module": "@jupyter-widgets/controls",
      "model_module_version": "1.5.0",
      "model_name": "ProgressStyleModel",
      "state": {
       "_model_module": "@jupyter-widgets/controls",
       "_model_module_version": "1.5.0",
       "_model_name": "ProgressStyleModel",
       "_view_count": null,
       "_view_module": "@jupyter-widgets/base",
       "_view_module_version": "1.2.0",
       "_view_name": "StyleView",
       "bar_color": null,
       "description_width": ""
      }
     },
     "cb9e0b03d5ef43f9988cfec06315cb45": {
      "model_module": "@jupyter-widgets/base",
      "model_module_version": "1.2.0",
      "model_name": "LayoutModel",
      "state": {
       "_model_module": "@jupyter-widgets/base",
       "_model_module_version": "1.2.0",
       "_model_name": "LayoutModel",
       "_view_count": null,
       "_view_module": "@jupyter-widgets/base",
       "_view_module_version": "1.2.0",
       "_view_name": "LayoutView",
       "align_content": null,
       "align_items": null,
       "align_self": null,
       "border": null,
       "bottom": null,
       "display": null,
       "flex": null,
       "flex_flow": null,
       "grid_area": null,
       "grid_auto_columns": null,
       "grid_auto_flow": null,
       "grid_auto_rows": null,
       "grid_column": null,
       "grid_gap": null,
       "grid_row": null,
       "grid_template_areas": null,
       "grid_template_columns": null,
       "grid_template_rows": null,
       "height": null,
       "justify_content": null,
       "justify_items": null,
       "left": null,
       "margin": null,
       "max_height": null,
       "max_width": null,
       "min_height": null,
       "min_width": null,
       "object_fit": null,
       "object_position": null,
       "order": null,
       "overflow": null,
       "overflow_x": null,
       "overflow_y": null,
       "padding": null,
       "right": null,
       "top": null,
       "visibility": null,
       "width": null
      }
     },
     "fac586a611304a96b3c87a361ac9d7a6": {
      "model_module": "@jupyter-widgets/controls",
      "model_module_version": "1.5.0",
      "model_name": "HTMLModel",
      "state": {
       "_dom_classes": [],
       "_model_module": "@jupyter-widgets/controls",
       "_model_module_version": "1.5.0",
       "_model_name": "HTMLModel",
       "_view_count": null,
       "_view_module": "@jupyter-widgets/controls",
       "_view_module_version": "1.5.0",
       "_view_name": "HTMLView",
       "description": "",
       "description_tooltip": null,
       "layout": "IPY_MODEL_93b0fee9e5c3490cb90b2ee41d27d964",
       "placeholder": "​",
       "style": "IPY_MODEL_4f21f3defa50483e97f2b22855c41867",
       "value": " 14966/14966 [00:00&lt;00:00, 81558.33it/s]"
      }
     },
     "fead3bb815774b45b4c3f6662851292c": {
      "model_module": "@jupyter-widgets/controls",
      "model_module_version": "1.5.0",
      "model_name": "FloatProgressModel",
      "state": {
       "_dom_classes": [],
       "_model_module": "@jupyter-widgets/controls",
       "_model_module_version": "1.5.0",
       "_model_name": "FloatProgressModel",
       "_view_count": null,
       "_view_module": "@jupyter-widgets/controls",
       "_view_module_version": "1.5.0",
       "_view_name": "ProgressView",
       "bar_style": "success",
       "description": "",
       "description_tooltip": null,
       "layout": "IPY_MODEL_40a6570262b24ea9a28290b6f20fcf0f",
       "max": 14966.0,
       "min": 0.0,
       "orientation": "horizontal",
       "style": "IPY_MODEL_6dc531b9356d4a81848a98108d5177fe",
       "value": 14966.0
      }
     }
    },
    "version_major": 2,
    "version_minor": 0
   }
  }
 },
 "nbformat": 4,
 "nbformat_minor": 5
}

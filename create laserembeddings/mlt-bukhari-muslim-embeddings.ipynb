{
 "cells": [
  {
   "cell_type": "code",
   "execution_count": 1,
   "id": "5f7a7684",
   "metadata": {
    "execution": {
     "iopub.execute_input": "2022-09-08T03:28:26.503061Z",
     "iopub.status.busy": "2022-09-08T03:28:26.502238Z",
     "iopub.status.idle": "2022-09-08T03:28:59.752196Z",
     "shell.execute_reply": "2022-09-08T03:28:59.751079Z"
    },
    "papermill": {
     "duration": 33.26216,
     "end_time": "2022-09-08T03:28:59.755066",
     "exception": false,
     "start_time": "2022-09-08T03:28:26.492906",
     "status": "completed"
    },
    "tags": []
   },
   "outputs": [
    {
     "name": "stdout",
     "output_type": "stream",
     "text": [
      "Collecting laserembeddings\r\n",
      "  Downloading laserembeddings-1.1.2-py3-none-any.whl (13 kB)\r\n",
      "Requirement already satisfied: torch<2.0.0,>=1.0.1.post2 in /opt/conda/lib/python3.7/site-packages (from laserembeddings) (1.11.0)\r\n",
      "Collecting subword-nmt<0.4.0,>=0.3.6\r\n",
      "  Downloading subword_nmt-0.3.8-py3-none-any.whl (27 kB)\r\n",
      "Collecting sacremoses==0.0.35\r\n",
      "  Downloading sacremoses-0.0.35.tar.gz (859 kB)\r\n",
      "\u001b[2K     \u001b[90m━━━━━━━━━━━━━━━━━━━━━━━━━━━━━━━━━━━━━━━\u001b[0m \u001b[32m859.8/859.8 kB\u001b[0m \u001b[31m2.5 MB/s\u001b[0m eta \u001b[36m0:00:00\u001b[0m\r\n",
      "\u001b[?25h  Preparing metadata (setup.py) ... \u001b[?25l-\b \bdone\r\n",
      "\u001b[?25hRequirement already satisfied: numpy<2.0.0,>=1.15.4 in /opt/conda/lib/python3.7/site-packages (from laserembeddings) (1.21.6)\r\n",
      "Collecting transliterate==1.10.2\r\n",
      "  Downloading transliterate-1.10.2-py2.py3-none-any.whl (45 kB)\r\n",
      "\u001b[2K     \u001b[90m━━━━━━━━━━━━━━━━━━━━━━━━━━━━━━━━━━━━━━━━\u001b[0m \u001b[32m45.8/45.8 kB\u001b[0m \u001b[31m3.5 MB/s\u001b[0m eta \u001b[36m0:00:00\u001b[0m\r\n",
      "\u001b[?25hRequirement already satisfied: six in /opt/conda/lib/python3.7/site-packages (from sacremoses==0.0.35->laserembeddings) (1.16.0)\r\n",
      "Requirement already satisfied: click in /opt/conda/lib/python3.7/site-packages (from sacremoses==0.0.35->laserembeddings) (8.0.4)\r\n",
      "Requirement already satisfied: joblib in /opt/conda/lib/python3.7/site-packages (from sacremoses==0.0.35->laserembeddings) (1.0.1)\r\n",
      "Requirement already satisfied: tqdm in /opt/conda/lib/python3.7/site-packages (from sacremoses==0.0.35->laserembeddings) (4.64.0)\r\n",
      "Requirement already satisfied: mock in /opt/conda/lib/python3.7/site-packages (from subword-nmt<0.4.0,>=0.3.6->laserembeddings) (4.0.3)\r\n",
      "Requirement already satisfied: typing-extensions in /opt/conda/lib/python3.7/site-packages (from torch<2.0.0,>=1.0.1.post2->laserembeddings) (4.1.1)\r\n",
      "Requirement already satisfied: importlib-metadata in /opt/conda/lib/python3.7/site-packages (from click->sacremoses==0.0.35->laserembeddings) (4.12.0)\r\n",
      "Requirement already satisfied: zipp>=0.5 in /opt/conda/lib/python3.7/site-packages (from importlib-metadata->click->sacremoses==0.0.35->laserembeddings) (3.8.0)\r\n",
      "Building wheels for collected packages: sacremoses\r\n",
      "  Building wheel for sacremoses (setup.py) ... \u001b[?25l-\b \b\\\b \b|\b \bdone\r\n",
      "\u001b[?25h  Created wheel for sacremoses: filename=sacremoses-0.0.35-py3-none-any.whl size=883989 sha256=6964f168d93fa0d07bd92c85d3f6a03179b16f795df114907bb30b304d5080fe\r\n",
      "  Stored in directory: /root/.cache/pip/wheels/d1/ff/0e/e00ff1e22100702ac8b24e709551ae0fb29db9ffc843510a64\r\n",
      "Successfully built sacremoses\r\n",
      "Installing collected packages: transliterate, subword-nmt, sacremoses, laserembeddings\r\n",
      "  Attempting uninstall: sacremoses\r\n",
      "    Found existing installation: sacremoses 0.0.53\r\n",
      "    Uninstalling sacremoses-0.0.53:\r\n",
      "      Successfully uninstalled sacremoses-0.0.53\r\n",
      "\u001b[31mERROR: pip's dependency resolver does not currently take into account all the packages that are installed. This behaviour is the source of the following dependency conflicts.\r\n",
      "allennlp 2.10.0 requires protobuf==3.20.0, but you have protobuf 3.19.4 which is incompatible.\u001b[0m\u001b[31m\r\n",
      "\u001b[0mSuccessfully installed laserembeddings-1.1.2 sacremoses-0.0.35 subword-nmt-0.3.8 transliterate-1.10.2\r\n",
      "\u001b[33mWARNING: Running pip as the 'root' user can result in broken permissions and conflicting behaviour with the system package manager. It is recommended to use a virtual environment instead: https://pip.pypa.io/warnings/venv\u001b[0m\u001b[33m\r\n",
      "\u001b[0mDownloading models into /opt/conda/lib/python3.7/site-packages/laserembeddings/data\r\n",
      "\r\n",
      "✅   Downloaded https://dl.fbaipublicfiles.com/laser/models/93langs.fcodes    \r\n",
      "✅   Downloaded https://dl.fbaipublicfiles.com/laser/models/93langs.fvocab    \r\n",
      "✅   Downloaded https://dl.fbaipublicfiles.com/laser/models/bilstm.93langs.2018-12-26.pt    \r\n",
      "\r\n",
      "✨ You're all set!\r\n"
     ]
    }
   ],
   "source": [
    "# This Python 3 environment comes with many helpful analytics libraries installed\n",
    "# It is defined by the kaggle/python Docker image: https://github.com/kaggle/docker-python\n",
    "# For example, here's several helpful packages to load\n",
    "\n",
    "!pip install laserembeddings\n",
    "!python -m laserembeddings download-models\n",
    "\n",
    "import numpy as np # linear algebra\n",
    "import pandas as pd # data processing, CSV file I/O (e.g. pd.read_csv)\n",
    "from laserembeddings import Laser\n",
    "\n",
    "import re\n",
    "from tqdm.auto import tqdm\n",
    "tqdm.pandas()\n",
    "\n",
    "# You can write up to 20GB to the current directory (/kaggle/working/) that gets preserved as output when you create a version using \"Save & Run All\" \n",
    "# You can also write temporary files to /kaggle/temp/, but they won't be saved outside of the current session"
   ]
  },
  {
   "cell_type": "code",
   "execution_count": 2,
   "id": "fa00e062",
   "metadata": {
    "execution": {
     "iopub.execute_input": "2022-09-08T03:28:59.769138Z",
     "iopub.status.busy": "2022-09-08T03:28:59.768095Z",
     "iopub.status.idle": "2022-09-08T03:29:00.731001Z",
     "shell.execute_reply": "2022-09-08T03:29:00.730067Z"
    },
    "papermill": {
     "duration": 0.971863,
     "end_time": "2022-09-08T03:29:00.733200",
     "exception": false,
     "start_time": "2022-09-08T03:28:59.761337",
     "status": "completed"
    },
    "tags": []
   },
   "outputs": [
    {
     "data": {
      "text/html": [
       "<div>\n",
       "<style scoped>\n",
       "    .dataframe tbody tr th:only-of-type {\n",
       "        vertical-align: middle;\n",
       "    }\n",
       "\n",
       "    .dataframe tbody tr th {\n",
       "        vertical-align: top;\n",
       "    }\n",
       "\n",
       "    .dataframe thead th {\n",
       "        text-align: right;\n",
       "    }\n",
       "</style>\n",
       "<table border=\"1\" class=\"dataframe\">\n",
       "  <thead>\n",
       "    <tr style=\"text-align: right;\">\n",
       "      <th></th>\n",
       "      <th>id</th>\n",
       "      <th>hadith_id</th>\n",
       "      <th>source</th>\n",
       "      <th>chapter_no</th>\n",
       "      <th>hadith_no</th>\n",
       "      <th>chapter</th>\n",
       "      <th>chain_indx</th>\n",
       "      <th>text_ar</th>\n",
       "      <th>text_en</th>\n",
       "      <th>narrators</th>\n",
       "      <th>text_bn</th>\n",
       "    </tr>\n",
       "  </thead>\n",
       "  <tbody>\n",
       "    <tr>\n",
       "      <th>0</th>\n",
       "      <td>0</td>\n",
       "      <td>1</td>\n",
       "      <td>Sahih Bukhari</td>\n",
       "      <td>1</td>\n",
       "      <td>1</td>\n",
       "      <td>Revelation - كتاب بدء الوحى</td>\n",
       "      <td>30418, 20005, 11062, 11213, 11042, 3</td>\n",
       "      <td>حدثنا الحميدي عبد الله بن الزبير، قال حدثنا سف...</td>\n",
       "      <td>Narrated 'Umar bin Al-Khattab:          ...</td>\n",
       "      <td>'Abdullah bin al-Zubair bin 'Isa عبد الله بن ا...</td>\n",
       "      <td>উমর বিন আল-খাততাবের কাহিনীঃ আমি আল্লার রসূলকে ...</td>\n",
       "    </tr>\n",
       "  </tbody>\n",
       "</table>\n",
       "</div>"
      ],
      "text/plain": [
       "   id  hadith_id           source  chapter_no  hadith_no  \\\n",
       "0   0          1   Sahih Bukhari            1          1   \n",
       "\n",
       "                       chapter                            chain_indx  \\\n",
       "0  Revelation - كتاب بدء الوحى  30418, 20005, 11062, 11213, 11042, 3   \n",
       "\n",
       "                                             text_ar  \\\n",
       "0  حدثنا الحميدي عبد الله بن الزبير، قال حدثنا سف...   \n",
       "\n",
       "                                             text_en  \\\n",
       "0        Narrated 'Umar bin Al-Khattab:          ...   \n",
       "\n",
       "                                           narrators  \\\n",
       "0  'Abdullah bin al-Zubair bin 'Isa عبد الله بن ا...   \n",
       "\n",
       "                                             text_bn  \n",
       "0  উমর বিন আল-খাততাবের কাহিনীঃ আমি আল্লার রসূলকে ...  "
      ]
     },
     "execution_count": 2,
     "metadata": {},
     "output_type": "execute_result"
    }
   ],
   "source": [
    "en_bukhari_muslim = pd.read_csv('../input/en-bn-sahih-bukhari-muslim/en_bn_translated_sahih_hadiths_final.csv')\n",
    "en_bukhari_muslim.head(1)"
   ]
  },
  {
   "cell_type": "code",
   "execution_count": 3,
   "id": "45cd2ae6",
   "metadata": {
    "execution": {
     "iopub.execute_input": "2022-09-08T03:29:00.744886Z",
     "iopub.status.busy": "2022-09-08T03:29:00.744572Z",
     "iopub.status.idle": "2022-09-08T03:29:00.753770Z",
     "shell.execute_reply": "2022-09-08T03:29:00.752805Z"
    },
    "papermill": {
     "duration": 0.01734,
     "end_time": "2022-09-08T03:29:00.755797",
     "exception": false,
     "start_time": "2022-09-08T03:29:00.738457",
     "status": "completed"
    },
    "tags": []
   },
   "outputs": [
    {
     "data": {
      "text/plain": [
       "\"'Abdullah bin al-Zubair bin 'Isa عبد الله بن الزبير بن عيسى الحميدي,Sufyan bin 'Uyaynah سفيان بن عيينة,Yahya bin Sa'id al-Ansari يحيى بن سعيد الأنصاري,Muhammad bin Ibrahim bin al-Harith محمد بن إبراهيم بن الحارث,'Alqama bin Waqqas علقمة بن وقاص,'Umar ibn al-Khattab ( عمر بن الخطاب بن نفيل ( رضي الله عنه\""
      ]
     },
     "execution_count": 3,
     "metadata": {},
     "output_type": "execute_result"
    }
   ],
   "source": [
    "en_bukhari_muslim.narrators[0]"
   ]
  },
  {
   "cell_type": "code",
   "execution_count": 4,
   "id": "5bc276d3",
   "metadata": {
    "execution": {
     "iopub.execute_input": "2022-09-08T03:29:00.767796Z",
     "iopub.status.busy": "2022-09-08T03:29:00.767492Z",
     "iopub.status.idle": "2022-09-08T03:29:01.119537Z",
     "shell.execute_reply": "2022-09-08T03:29:01.118316Z"
    },
    "papermill": {
     "duration": 0.364288,
     "end_time": "2022-09-08T03:29:01.125405",
     "exception": false,
     "start_time": "2022-09-08T03:29:00.761117",
     "status": "completed"
    },
    "tags": []
   },
   "outputs": [
    {
     "data": {
      "application/vnd.jupyter.widget-view+json": {
       "model_id": "d9b4ed5bdb02451dbd5b2ae7b07475e8",
       "version_major": 2,
       "version_minor": 0
      },
      "text/plain": [
       "  0%|          | 0/14966 [00:00<?, ?it/s]"
      ]
     },
     "metadata": {},
     "output_type": "display_data"
    },
    {
     "data": {
      "application/vnd.jupyter.widget-view+json": {
       "model_id": "7dcc96de4e6c471691a31b4e81cd28b0",
       "version_major": 2,
       "version_minor": 0
      },
      "text/plain": [
       "  0%|          | 0/14966 [00:00<?, ?it/s]"
      ]
     },
     "metadata": {},
     "output_type": "display_data"
    },
    {
     "name": "stdout",
     "output_type": "stream",
     "text": [
      "CPU times: user 340 ms, sys: 6.32 ms, total: 346 ms\n",
      "Wall time: 343 ms\n"
     ]
    },
    {
     "data": {
      "text/plain": [
       "\"'Abdullah bin al Zubair bin 'Isa ,Sufyan bin 'Uyaynah ,Yahya bin Sa'id al Ansari ,Muhammad bin Ibrahim bin al Harith ,'Alqama bin Waqqas ,'Umar ibn al Khattab \""
      ]
     },
     "execution_count": 4,
     "metadata": {},
     "output_type": "execute_result"
    }
   ],
   "source": [
    "%%time\n",
    "\n",
    "def remove_non_english(mixed_text):\n",
    "    return re.sub(\"[^a-zA-Z0-9,']+\", \" \",str(mixed_text))\n",
    "\n",
    "\n",
    "en_bukhari_muslim[\"narrators\"]=en_bukhari_muslim.narrators.progress_apply(lambda mixed_text: remove_non_english(mixed_text))\n",
    "en_bukhari_muslim[\"chapter\"]=en_bukhari_muslim.chapter.progress_apply(lambda mixed_text: remove_non_english(mixed_text))\n",
    "en_bukhari_muslim.narrators[0]"
   ]
  },
  {
   "cell_type": "code",
   "execution_count": 5,
   "id": "7b04a83c",
   "metadata": {
    "execution": {
     "iopub.execute_input": "2022-09-08T03:29:01.140344Z",
     "iopub.status.busy": "2022-09-08T03:29:01.139631Z",
     "iopub.status.idle": "2022-09-08T03:29:01.147966Z",
     "shell.execute_reply": "2022-09-08T03:29:01.146961Z"
    },
    "papermill": {
     "duration": 0.0178,
     "end_time": "2022-09-08T03:29:01.150251",
     "exception": false,
     "start_time": "2022-09-08T03:29:01.132451",
     "status": "completed"
    },
    "tags": []
   },
   "outputs": [
    {
     "data": {
      "text/plain": [
       "'Revelation '"
      ]
     },
     "execution_count": 5,
     "metadata": {},
     "output_type": "execute_result"
    }
   ],
   "source": [
    "en_bukhari_muslim.chapter[0]"
   ]
  },
  {
   "cell_type": "code",
   "execution_count": 6,
   "id": "94d47c29",
   "metadata": {
    "execution": {
     "iopub.execute_input": "2022-09-08T03:29:01.163993Z",
     "iopub.status.busy": "2022-09-08T03:29:01.163593Z",
     "iopub.status.idle": "2022-09-08T03:30:17.170686Z",
     "shell.execute_reply": "2022-09-08T03:30:17.166465Z"
    },
    "papermill": {
     "duration": 76.019978,
     "end_time": "2022-09-08T03:30:17.176423",
     "exception": false,
     "start_time": "2022-09-08T03:29:01.156445",
     "status": "completed"
    },
    "tags": []
   },
   "outputs": [
    {
     "name": "stdout",
     "output_type": "stream",
     "text": [
      "CPU times: user 1min 6s, sys: 7.52 s, total: 1min 13s\n",
      "Wall time: 1min 15s\n"
     ]
    }
   ],
   "source": [
    "%%time\n",
    "laser = Laser()\n",
    "\n",
    "\n",
    "en_bukhari_muslim['merged_text'] = en_bukhari_muslim.text_en.astype(str) + en_bukhari_muslim.chapter.astype(str)\n",
    "\n",
    "embeds = laser.embed_sentences(en_bukhari_muslim['merged_text'].values, lang='en')\n",
    "np.save(\"en_emb_bukhari_muslim.npy\",embeds)\n",
    "en_bukhari_muslim = en_bukhari_muslim.drop(columns=['merged_text'])"
   ]
  },
  {
   "cell_type": "code",
   "execution_count": 7,
   "id": "e650fd31",
   "metadata": {
    "execution": {
     "iopub.execute_input": "2022-09-08T03:30:17.190475Z",
     "iopub.status.busy": "2022-09-08T03:30:17.190133Z",
     "iopub.status.idle": "2022-09-08T03:30:17.205013Z",
     "shell.execute_reply": "2022-09-08T03:30:17.203996Z"
    },
    "papermill": {
     "duration": 0.023986,
     "end_time": "2022-09-08T03:30:17.207118",
     "exception": false,
     "start_time": "2022-09-08T03:30:17.183132",
     "status": "completed"
    },
    "tags": []
   },
   "outputs": [
    {
     "data": {
      "text/html": [
       "<div>\n",
       "<style scoped>\n",
       "    .dataframe tbody tr th:only-of-type {\n",
       "        vertical-align: middle;\n",
       "    }\n",
       "\n",
       "    .dataframe tbody tr th {\n",
       "        vertical-align: top;\n",
       "    }\n",
       "\n",
       "    .dataframe thead th {\n",
       "        text-align: right;\n",
       "    }\n",
       "</style>\n",
       "<table border=\"1\" class=\"dataframe\">\n",
       "  <thead>\n",
       "    <tr style=\"text-align: right;\">\n",
       "      <th></th>\n",
       "      <th>id</th>\n",
       "      <th>hadith_id</th>\n",
       "      <th>source</th>\n",
       "      <th>chapter_no</th>\n",
       "      <th>hadith_no</th>\n",
       "      <th>chapter</th>\n",
       "      <th>chain_indx</th>\n",
       "      <th>text_ar</th>\n",
       "      <th>text_en</th>\n",
       "      <th>narrators</th>\n",
       "      <th>text_bn</th>\n",
       "    </tr>\n",
       "  </thead>\n",
       "  <tbody>\n",
       "    <tr>\n",
       "      <th>0</th>\n",
       "      <td>0</td>\n",
       "      <td>1</td>\n",
       "      <td>Sahih Bukhari</td>\n",
       "      <td>1</td>\n",
       "      <td>1</td>\n",
       "      <td>Revelation</td>\n",
       "      <td>30418, 20005, 11062, 11213, 11042, 3</td>\n",
       "      <td>حدثنا الحميدي عبد الله بن الزبير، قال حدثنا سف...</td>\n",
       "      <td>Narrated 'Umar bin Al-Khattab:          ...</td>\n",
       "      <td>'Abdullah bin al Zubair bin 'Isa ,Sufyan bin '...</td>\n",
       "      <td>উমর বিন আল-খাততাবের কাহিনীঃ আমি আল্লার রসূলকে ...</td>\n",
       "    </tr>\n",
       "    <tr>\n",
       "      <th>1</th>\n",
       "      <td>1</td>\n",
       "      <td>2</td>\n",
       "      <td>Sahih Bukhari</td>\n",
       "      <td>1</td>\n",
       "      <td>2</td>\n",
       "      <td>Revelation</td>\n",
       "      <td>30355, 20001, 11065, 10511, 53</td>\n",
       "      <td>حدثنا عبد الله بن يوسف، قال أخبرنا مالك، عن هش...</td>\n",
       "      <td>Narrated 'Aisha:                        ...</td>\n",
       "      <td>'Abdullah bin Yusuf al Tunaysi ,Imam Maalik ,H...</td>\n",
       "      <td>আয়েশা (রাঃ) এর কাহিনী বর্ণিত হয়েছে, তিনি বলে...</td>\n",
       "    </tr>\n",
       "    <tr>\n",
       "      <th>2</th>\n",
       "      <td>2</td>\n",
       "      <td>3</td>\n",
       "      <td>Sahih Bukhari</td>\n",
       "      <td>1</td>\n",
       "      <td>3</td>\n",
       "      <td>Revelation</td>\n",
       "      <td>30399, 20023, 11207, 11013, 10511, 53</td>\n",
       "      <td>حدثنا يحيى بن بكير، قال حدثنا الليث، عن عقيل، ...</td>\n",
       "      <td>Narrated 'Aisha:                       (the m...</td>\n",
       "      <td>Yahya bin Yahya bin Bukayr ,al Laith bin Sa'd ...</td>\n",
       "      <td>'আয়েশা (রাঃ) এর বানী বর্ণিত হয়েছেঃ (বিশ্বাসী...</td>\n",
       "    </tr>\n",
       "    <tr>\n",
       "      <th>3</th>\n",
       "      <td>3</td>\n",
       "      <td>4</td>\n",
       "      <td>Sahih Bukhari</td>\n",
       "      <td>1</td>\n",
       "      <td>4</td>\n",
       "      <td>Revelation</td>\n",
       "      <td>11013, 10567, 34</td>\n",
       "      <td>قال ابن شهاب وأخبرني أبو سلمة بن عبد الرحمن، أ...</td>\n",
       "      <td>Narrated Jabir bin 'Abdullah Al-Ansari while ...</td>\n",
       "      <td>al Zuhri , ,Abu Salama bin 'Abdur Rahman ,Jabi...</td>\n",
       "      <td>জাবির বিন 'আব্দুল্লাহ আল-আনসারি বর্ণনা করেছেন ...</td>\n",
       "    </tr>\n",
       "    <tr>\n",
       "      <th>4</th>\n",
       "      <td>4</td>\n",
       "      <td>5</td>\n",
       "      <td>Sahih Bukhari</td>\n",
       "      <td>1</td>\n",
       "      <td>5</td>\n",
       "      <td>Revelation</td>\n",
       "      <td>20040, 20469, 11399, 11050, 17</td>\n",
       "      <td>حدثنا موسى بن إسماعيل، قال حدثنا أبو عوانة، قا...</td>\n",
       "      <td>Narrated Said bin Jubair:               ...</td>\n",
       "      <td>Musa bin Isma'il al Munqari al Tabudhaki ,Wada...</td>\n",
       "      <td>তিনি বলেন, ইবনে জুবাইর বলেনঃ ইবনে আব্বাস আল্লা...</td>\n",
       "    </tr>\n",
       "  </tbody>\n",
       "</table>\n",
       "</div>"
      ],
      "text/plain": [
       "   id  hadith_id           source  chapter_no  hadith_no      chapter  \\\n",
       "0   0          1   Sahih Bukhari            1          1  Revelation    \n",
       "1   1          2   Sahih Bukhari            1          2  Revelation    \n",
       "2   2          3   Sahih Bukhari            1          3  Revelation    \n",
       "3   3          4   Sahih Bukhari            1          4  Revelation    \n",
       "4   4          5   Sahih Bukhari            1          5  Revelation    \n",
       "\n",
       "                              chain_indx  \\\n",
       "0   30418, 20005, 11062, 11213, 11042, 3   \n",
       "1         30355, 20001, 11065, 10511, 53   \n",
       "2  30399, 20023, 11207, 11013, 10511, 53   \n",
       "3                       11013, 10567, 34   \n",
       "4         20040, 20469, 11399, 11050, 17   \n",
       "\n",
       "                                             text_ar  \\\n",
       "0  حدثنا الحميدي عبد الله بن الزبير، قال حدثنا سف...   \n",
       "1  حدثنا عبد الله بن يوسف، قال أخبرنا مالك، عن هش...   \n",
       "2  حدثنا يحيى بن بكير، قال حدثنا الليث، عن عقيل، ...   \n",
       "3  قال ابن شهاب وأخبرني أبو سلمة بن عبد الرحمن، أ...   \n",
       "4  حدثنا موسى بن إسماعيل، قال حدثنا أبو عوانة، قا...   \n",
       "\n",
       "                                             text_en  \\\n",
       "0        Narrated 'Umar bin Al-Khattab:          ...   \n",
       "1        Narrated 'Aisha:                        ...   \n",
       "2   Narrated 'Aisha:                       (the m...   \n",
       "3   Narrated Jabir bin 'Abdullah Al-Ansari while ...   \n",
       "4        Narrated Said bin Jubair:               ...   \n",
       "\n",
       "                                           narrators  \\\n",
       "0  'Abdullah bin al Zubair bin 'Isa ,Sufyan bin '...   \n",
       "1  'Abdullah bin Yusuf al Tunaysi ,Imam Maalik ,H...   \n",
       "2  Yahya bin Yahya bin Bukayr ,al Laith bin Sa'd ...   \n",
       "3  al Zuhri , ,Abu Salama bin 'Abdur Rahman ,Jabi...   \n",
       "4  Musa bin Isma'il al Munqari al Tabudhaki ,Wada...   \n",
       "\n",
       "                                             text_bn  \n",
       "0  উমর বিন আল-খাততাবের কাহিনীঃ আমি আল্লার রসূলকে ...  \n",
       "1  আয়েশা (রাঃ) এর কাহিনী বর্ণিত হয়েছে, তিনি বলে...  \n",
       "2  'আয়েশা (রাঃ) এর বানী বর্ণিত হয়েছেঃ (বিশ্বাসী...  \n",
       "3  জাবির বিন 'আব্দুল্লাহ আল-আনসারি বর্ণনা করেছেন ...  \n",
       "4  তিনি বলেন, ইবনে জুবাইর বলেনঃ ইবনে আব্বাস আল্লা...  "
      ]
     },
     "execution_count": 7,
     "metadata": {},
     "output_type": "execute_result"
    }
   ],
   "source": [
    "en_bukhari_muslim.head()"
   ]
  },
  {
   "cell_type": "code",
   "execution_count": 8,
   "id": "a3b3398e",
   "metadata": {
    "execution": {
     "iopub.execute_input": "2022-09-08T03:30:17.222004Z",
     "iopub.status.busy": "2022-09-08T03:30:17.220907Z",
     "iopub.status.idle": "2022-09-08T03:30:17.246539Z",
     "shell.execute_reply": "2022-09-08T03:30:17.245423Z"
    },
    "papermill": {
     "duration": 0.035595,
     "end_time": "2022-09-08T03:30:17.249130",
     "exception": false,
     "start_time": "2022-09-08T03:30:17.213535",
     "status": "completed"
    },
    "tags": []
   },
   "outputs": [
    {
     "data": {
      "text/plain": [
       "0"
      ]
     },
     "execution_count": 8,
     "metadata": {},
     "output_type": "execute_result"
    }
   ],
   "source": [
    "df = en_bukhari_muslim[en_bukhari_muslim['text_en'].str.contains('not found yet')]\n",
    "len(df)"
   ]
  },
  {
   "cell_type": "code",
   "execution_count": 9,
   "id": "57e01b12",
   "metadata": {
    "execution": {
     "iopub.execute_input": "2022-09-08T03:30:17.263083Z",
     "iopub.status.busy": "2022-09-08T03:30:17.262657Z",
     "iopub.status.idle": "2022-09-08T03:30:17.283404Z",
     "shell.execute_reply": "2022-09-08T03:30:17.282301Z"
    },
    "papermill": {
     "duration": 0.030547,
     "end_time": "2022-09-08T03:30:17.285870",
     "exception": false,
     "start_time": "2022-09-08T03:30:17.255323",
     "status": "completed"
    },
    "tags": []
   },
   "outputs": [
    {
     "data": {
      "text/plain": [
       "6"
      ]
     },
     "execution_count": 9,
     "metadata": {},
     "output_type": "execute_result"
    }
   ],
   "source": [
    "df = en_bukhari_muslim[en_bukhari_muslim['text_ar'].str.contains('not found yet')]\n",
    "len(df)"
   ]
  },
  {
   "cell_type": "code",
   "execution_count": 10,
   "id": "3bb56f8c",
   "metadata": {
    "execution": {
     "iopub.execute_input": "2022-09-08T03:30:17.300498Z",
     "iopub.status.busy": "2022-09-08T03:30:17.299859Z",
     "iopub.status.idle": "2022-09-08T03:30:17.322412Z",
     "shell.execute_reply": "2022-09-08T03:30:17.321428Z"
    },
    "papermill": {
     "duration": 0.031934,
     "end_time": "2022-09-08T03:30:17.324382",
     "exception": false,
     "start_time": "2022-09-08T03:30:17.292448",
     "status": "completed"
    },
    "tags": []
   },
   "outputs": [
    {
     "data": {
      "text/plain": [
       "0"
      ]
     },
     "execution_count": 10,
     "metadata": {},
     "output_type": "execute_result"
    }
   ],
   "source": [
    "df = en_bukhari_muslim[en_bukhari_muslim['text_bn'].str.contains('এখনো পাওয়া যায়নি')]\n",
    "len(df)"
   ]
  },
  {
   "cell_type": "code",
   "execution_count": 11,
   "id": "1f44721a",
   "metadata": {
    "execution": {
     "iopub.execute_input": "2022-09-08T03:30:17.341044Z",
     "iopub.status.busy": "2022-09-08T03:30:17.339307Z",
     "iopub.status.idle": "2022-09-08T03:30:17.346620Z",
     "shell.execute_reply": "2022-09-08T03:30:17.345645Z"
    },
    "papermill": {
     "duration": 0.017782,
     "end_time": "2022-09-08T03:30:17.348681",
     "exception": false,
     "start_time": "2022-09-08T03:30:17.330899",
     "status": "completed"
    },
    "tags": []
   },
   "outputs": [
    {
     "data": {
      "text/plain": [
       "' Narrated Abu Sa`id Al-Khudri:                     Some women requested the Prophet to fix a day for them as the men were taking all his time. On that he promised them one day for religious lessons and commandments. Once during such a lesson the Prophet said, \"A woman whose three children die will be shielded by them from the Hell fire.\" On that a woman asked, \"If only two die?\" He replied, \"Even two (will shield her from the Hell-fire).'"
      ]
     },
     "execution_count": 11,
     "metadata": {},
     "output_type": "execute_result"
    }
   ],
   "source": [
    "en_bukhari_muslim.text_en[100]"
   ]
  },
  {
   "cell_type": "code",
   "execution_count": 12,
   "id": "2a9202f5",
   "metadata": {
    "execution": {
     "iopub.execute_input": "2022-09-08T03:30:17.362974Z",
     "iopub.status.busy": "2022-09-08T03:30:17.362624Z",
     "iopub.status.idle": "2022-09-08T03:30:17.946995Z",
     "shell.execute_reply": "2022-09-08T03:30:17.945980Z"
    },
    "papermill": {
     "duration": 0.594185,
     "end_time": "2022-09-08T03:30:17.949443",
     "exception": false,
     "start_time": "2022-09-08T03:30:17.355258",
     "status": "completed"
    },
    "tags": []
   },
   "outputs": [],
   "source": [
    "en_bukhari_muslim.to_csv('en_bukhari_muslim.csv',index = False)"
   ]
  },
  {
   "cell_type": "markdown",
   "id": "71b752f2",
   "metadata": {
    "papermill": {
     "duration": 0.006217,
     "end_time": "2022-09-08T03:30:17.962382",
     "exception": false,
     "start_time": "2022-09-08T03:30:17.956165",
     "status": "completed"
    },
    "tags": []
   },
   "source": [
    "we are using [this dataset](https://www.kaggle.com/datasets/mobassir/en-bn-sahih-bukhari-muslim) which was scrapped from muslimscholars.info & qaalarasulallah.com database by [Fahd](https://www.kaggle.com/fahd09) that can be found here -> https://www.kaggle.com/datasets/fahd09/hadith-dataset and here -> https://www.kaggle.com/datasets/fahd09/hadith-narrators\n",
    "we pick only bukhari and muslim hadith's from that english source and add one new column that contains the list of \"narrators\".\n",
    "data processing code can be found here -> https://github.com/mnansary/hadith-srcapper/blob/main/simple_EDA/simple-eda-between-en-bn-scrapped-hadiths.ipynb\n",
    "\n",
    "also we've replaced 531 missing english and bangla hadith human translation with machine translation from arabic source as shown here -> https://github.com/mobassir94/Multilingual-NLP-for-Islamic-Theology/blob/main/demo_notebooks/ar-en-and-ar-bn-missing-hadith-translator.ipynb"
   ]
  },
  {
   "cell_type": "code",
   "execution_count": null,
   "id": "6c9a19e9",
   "metadata": {
    "papermill": {
     "duration": 0.006127,
     "end_time": "2022-09-08T03:30:17.974857",
     "exception": false,
     "start_time": "2022-09-08T03:30:17.968730",
     "status": "completed"
    },
    "tags": []
   },
   "outputs": [],
   "source": []
  }
 ],
 "metadata": {
  "kernelspec": {
   "display_name": "Python 3",
   "language": "python",
   "name": "python3"
  },
  "language_info": {
   "codemirror_mode": {
    "name": "ipython",
    "version": 3
   },
   "file_extension": ".py",
   "mimetype": "text/x-python",
   "name": "python",
   "nbconvert_exporter": "python",
   "pygments_lexer": "ipython3",
   "version": "3.7.12"
  },
  "papermill": {
   "default_parameters": {},
   "duration": 120.603703,
   "end_time": "2022-09-08T03:30:19.104766",
   "environment_variables": {},
   "exception": null,
   "input_path": "__notebook__.ipynb",
   "output_path": "__notebook__.ipynb",
   "parameters": {},
   "start_time": "2022-09-08T03:28:18.501063",
   "version": "2.3.4"
  },
  "widgets": {
   "application/vnd.jupyter.widget-state+json": {
    "state": {
     "02a8492b91a84649811d24a6edd166bc": {
      "model_module": "@jupyter-widgets/base",
      "model_module_version": "1.2.0",
      "model_name": "LayoutModel",
      "state": {
       "_model_module": "@jupyter-widgets/base",
       "_model_module_version": "1.2.0",
       "_model_name": "LayoutModel",
       "_view_count": null,
       "_view_module": "@jupyter-widgets/base",
       "_view_module_version": "1.2.0",
       "_view_name": "LayoutView",
       "align_content": null,
       "align_items": null,
       "align_self": null,
       "border": null,
       "bottom": null,
       "display": null,
       "flex": null,
       "flex_flow": null,
       "grid_area": null,
       "grid_auto_columns": null,
       "grid_auto_flow": null,
       "grid_auto_rows": null,
       "grid_column": null,
       "grid_gap": null,
       "grid_row": null,
       "grid_template_areas": null,
       "grid_template_columns": null,
       "grid_template_rows": null,
       "height": null,
       "justify_content": null,
       "justify_items": null,
       "left": null,
       "margin": null,
       "max_height": null,
       "max_width": null,
       "min_height": null,
       "min_width": null,
       "object_fit": null,
       "object_position": null,
       "order": null,
       "overflow": null,
       "overflow_x": null,
       "overflow_y": null,
       "padding": null,
       "right": null,
       "top": null,
       "visibility": null,
       "width": null
      }
     },
     "0300f23c4b0a458c962d9a0c81e7227b": {
      "model_module": "@jupyter-widgets/base",
      "model_module_version": "1.2.0",
      "model_name": "LayoutModel",
      "state": {
       "_model_module": "@jupyter-widgets/base",
       "_model_module_version": "1.2.0",
       "_model_name": "LayoutModel",
       "_view_count": null,
       "_view_module": "@jupyter-widgets/base",
       "_view_module_version": "1.2.0",
       "_view_name": "LayoutView",
       "align_content": null,
       "align_items": null,
       "align_self": null,
       "border": null,
       "bottom": null,
       "display": null,
       "flex": null,
       "flex_flow": null,
       "grid_area": null,
       "grid_auto_columns": null,
       "grid_auto_flow": null,
       "grid_auto_rows": null,
       "grid_column": null,
       "grid_gap": null,
       "grid_row": null,
       "grid_template_areas": null,
       "grid_template_columns": null,
       "grid_template_rows": null,
       "height": null,
       "justify_content": null,
       "justify_items": null,
       "left": null,
       "margin": null,
       "max_height": null,
       "max_width": null,
       "min_height": null,
       "min_width": null,
       "object_fit": null,
       "object_position": null,
       "order": null,
       "overflow": null,
       "overflow_x": null,
       "overflow_y": null,
       "padding": null,
       "right": null,
       "top": null,
       "visibility": null,
       "width": null
      }
     },
     "16b6c6490aaf4d1489c3bc509793953e": {
      "model_module": "@jupyter-widgets/controls",
      "model_module_version": "1.5.0",
      "model_name": "DescriptionStyleModel",
      "state": {
       "_model_module": "@jupyter-widgets/controls",
       "_model_module_version": "1.5.0",
       "_model_name": "DescriptionStyleModel",
       "_view_count": null,
       "_view_module": "@jupyter-widgets/base",
       "_view_module_version": "1.2.0",
       "_view_name": "StyleView",
       "description_width": ""
      }
     },
     "2fd48049a5964cd3b4aa65c655b2145b": {
      "model_module": "@jupyter-widgets/controls",
      "model_module_version": "1.5.0",
      "model_name": "DescriptionStyleModel",
      "state": {
       "_model_module": "@jupyter-widgets/controls",
       "_model_module_version": "1.5.0",
       "_model_name": "DescriptionStyleModel",
       "_view_count": null,
       "_view_module": "@jupyter-widgets/base",
       "_view_module_version": "1.2.0",
       "_view_name": "StyleView",
       "description_width": ""
      }
     },
     "3232f29523c3434cbfed479b82ac22e2": {
      "model_module": "@jupyter-widgets/controls",
      "model_module_version": "1.5.0",
      "model_name": "DescriptionStyleModel",
      "state": {
       "_model_module": "@jupyter-widgets/controls",
       "_model_module_version": "1.5.0",
       "_model_name": "DescriptionStyleModel",
       "_view_count": null,
       "_view_module": "@jupyter-widgets/base",
       "_view_module_version": "1.2.0",
       "_view_name": "StyleView",
       "description_width": ""
      }
     },
     "40e91772704048c483fc90342547cd4e": {
      "model_module": "@jupyter-widgets/base",
      "model_module_version": "1.2.0",
      "model_name": "LayoutModel",
      "state": {
       "_model_module": "@jupyter-widgets/base",
       "_model_module_version": "1.2.0",
       "_model_name": "LayoutModel",
       "_view_count": null,
       "_view_module": "@jupyter-widgets/base",
       "_view_module_version": "1.2.0",
       "_view_name": "LayoutView",
       "align_content": null,
       "align_items": null,
       "align_self": null,
       "border": null,
       "bottom": null,
       "display": null,
       "flex": null,
       "flex_flow": null,
       "grid_area": null,
       "grid_auto_columns": null,
       "grid_auto_flow": null,
       "grid_auto_rows": null,
       "grid_column": null,
       "grid_gap": null,
       "grid_row": null,
       "grid_template_areas": null,
       "grid_template_columns": null,
       "grid_template_rows": null,
       "height": null,
       "justify_content": null,
       "justify_items": null,
       "left": null,
       "margin": null,
       "max_height": null,
       "max_width": null,
       "min_height": null,
       "min_width": null,
       "object_fit": null,
       "object_position": null,
       "order": null,
       "overflow": null,
       "overflow_x": null,
       "overflow_y": null,
       "padding": null,
       "right": null,
       "top": null,
       "visibility": null,
       "width": null
      }
     },
     "45f0f803ec554e3cb5a32c1b5b2f0bae": {
      "model_module": "@jupyter-widgets/controls",
      "model_module_version": "1.5.0",
      "model_name": "FloatProgressModel",
      "state": {
       "_dom_classes": [],
       "_model_module": "@jupyter-widgets/controls",
       "_model_module_version": "1.5.0",
       "_model_name": "FloatProgressModel",
       "_view_count": null,
       "_view_module": "@jupyter-widgets/controls",
       "_view_module_version": "1.5.0",
       "_view_name": "ProgressView",
       "bar_style": "success",
       "description": "",
       "description_tooltip": null,
       "layout": "IPY_MODEL_40e91772704048c483fc90342547cd4e",
       "max": 14966.0,
       "min": 0.0,
       "orientation": "horizontal",
       "style": "IPY_MODEL_d0e08b622d174d459cea2ff125310e9c",
       "value": 14966.0
      }
     },
     "4d0d263e0fef44f6a2d3ac438831ed77": {
      "model_module": "@jupyter-widgets/controls",
      "model_module_version": "1.5.0",
      "model_name": "ProgressStyleModel",
      "state": {
       "_model_module": "@jupyter-widgets/controls",
       "_model_module_version": "1.5.0",
       "_model_name": "ProgressStyleModel",
       "_view_count": null,
       "_view_module": "@jupyter-widgets/base",
       "_view_module_version": "1.2.0",
       "_view_name": "StyleView",
       "bar_color": null,
       "description_width": ""
      }
     },
     "4ed446b75a904278ab52de9b78b4aaf5": {
      "model_module": "@jupyter-widgets/controls",
      "model_module_version": "1.5.0",
      "model_name": "FloatProgressModel",
      "state": {
       "_dom_classes": [],
       "_model_module": "@jupyter-widgets/controls",
       "_model_module_version": "1.5.0",
       "_model_name": "FloatProgressModel",
       "_view_count": null,
       "_view_module": "@jupyter-widgets/controls",
       "_view_module_version": "1.5.0",
       "_view_name": "ProgressView",
       "bar_style": "success",
       "description": "",
       "description_tooltip": null,
       "layout": "IPY_MODEL_02a8492b91a84649811d24a6edd166bc",
       "max": 14966.0,
       "min": 0.0,
       "orientation": "horizontal",
       "style": "IPY_MODEL_4d0d263e0fef44f6a2d3ac438831ed77",
       "value": 14966.0
      }
     },
     "61f8fc6355ff43edab417ddb3711e189": {
      "model_module": "@jupyter-widgets/controls",
      "model_module_version": "1.5.0",
      "model_name": "DescriptionStyleModel",
      "state": {
       "_model_module": "@jupyter-widgets/controls",
       "_model_module_version": "1.5.0",
       "_model_name": "DescriptionStyleModel",
       "_view_count": null,
       "_view_module": "@jupyter-widgets/base",
       "_view_module_version": "1.2.0",
       "_view_name": "StyleView",
       "description_width": ""
      }
     },
     "7dcc96de4e6c471691a31b4e81cd28b0": {
      "model_module": "@jupyter-widgets/controls",
      "model_module_version": "1.5.0",
      "model_name": "HBoxModel",
      "state": {
       "_dom_classes": [],
       "_model_module": "@jupyter-widgets/controls",
       "_model_module_version": "1.5.0",
       "_model_name": "HBoxModel",
       "_view_count": null,
       "_view_module": "@jupyter-widgets/controls",
       "_view_module_version": "1.5.0",
       "_view_name": "HBoxView",
       "box_style": "",
       "children": [
        "IPY_MODEL_8860f0a1aa4a4522a188ca5849cbef5f",
        "IPY_MODEL_45f0f803ec554e3cb5a32c1b5b2f0bae",
        "IPY_MODEL_de143bc2564541738a0d87581fcecd3f"
       ],
       "layout": "IPY_MODEL_f511200860b744859bf30eb62109547f"
      }
     },
     "8860f0a1aa4a4522a188ca5849cbef5f": {
      "model_module": "@jupyter-widgets/controls",
      "model_module_version": "1.5.0",
      "model_name": "HTMLModel",
      "state": {
       "_dom_classes": [],
       "_model_module": "@jupyter-widgets/controls",
       "_model_module_version": "1.5.0",
       "_model_name": "HTMLModel",
       "_view_count": null,
       "_view_module": "@jupyter-widgets/controls",
       "_view_module_version": "1.5.0",
       "_view_name": "HTMLView",
       "description": "",
       "description_tooltip": null,
       "layout": "IPY_MODEL_aac01f6b39ce42f2994e7c8e5379536f",
       "placeholder": "​",
       "style": "IPY_MODEL_61f8fc6355ff43edab417ddb3711e189",
       "value": "100%"
      }
     },
     "9ba9b191c82b4e5681cc4c21cee49349": {
      "model_module": "@jupyter-widgets/base",
      "model_module_version": "1.2.0",
      "model_name": "LayoutModel",
      "state": {
       "_model_module": "@jupyter-widgets/base",
       "_model_module_version": "1.2.0",
       "_model_name": "LayoutModel",
       "_view_count": null,
       "_view_module": "@jupyter-widgets/base",
       "_view_module_version": "1.2.0",
       "_view_name": "LayoutView",
       "align_content": null,
       "align_items": null,
       "align_self": null,
       "border": null,
       "bottom": null,
       "display": null,
       "flex": null,
       "flex_flow": null,
       "grid_area": null,
       "grid_auto_columns": null,
       "grid_auto_flow": null,
       "grid_auto_rows": null,
       "grid_column": null,
       "grid_gap": null,
       "grid_row": null,
       "grid_template_areas": null,
       "grid_template_columns": null,
       "grid_template_rows": null,
       "height": null,
       "justify_content": null,
       "justify_items": null,
       "left": null,
       "margin": null,
       "max_height": null,
       "max_width": null,
       "min_height": null,
       "min_width": null,
       "object_fit": null,
       "object_position": null,
       "order": null,
       "overflow": null,
       "overflow_x": null,
       "overflow_y": null,
       "padding": null,
       "right": null,
       "top": null,
       "visibility": null,
       "width": null
      }
     },
     "a3e6b3abd2e2420999d386ec59a99a7f": {
      "model_module": "@jupyter-widgets/base",
      "model_module_version": "1.2.0",
      "model_name": "LayoutModel",
      "state": {
       "_model_module": "@jupyter-widgets/base",
       "_model_module_version": "1.2.0",
       "_model_name": "LayoutModel",
       "_view_count": null,
       "_view_module": "@jupyter-widgets/base",
       "_view_module_version": "1.2.0",
       "_view_name": "LayoutView",
       "align_content": null,
       "align_items": null,
       "align_self": null,
       "border": null,
       "bottom": null,
       "display": null,
       "flex": null,
       "flex_flow": null,
       "grid_area": null,
       "grid_auto_columns": null,
       "grid_auto_flow": null,
       "grid_auto_rows": null,
       "grid_column": null,
       "grid_gap": null,
       "grid_row": null,
       "grid_template_areas": null,
       "grid_template_columns": null,
       "grid_template_rows": null,
       "height": null,
       "justify_content": null,
       "justify_items": null,
       "left": null,
       "margin": null,
       "max_height": null,
       "max_width": null,
       "min_height": null,
       "min_width": null,
       "object_fit": null,
       "object_position": null,
       "order": null,
       "overflow": null,
       "overflow_x": null,
       "overflow_y": null,
       "padding": null,
       "right": null,
       "top": null,
       "visibility": null,
       "width": null
      }
     },
     "aac01f6b39ce42f2994e7c8e5379536f": {
      "model_module": "@jupyter-widgets/base",
      "model_module_version": "1.2.0",
      "model_name": "LayoutModel",
      "state": {
       "_model_module": "@jupyter-widgets/base",
       "_model_module_version": "1.2.0",
       "_model_name": "LayoutModel",
       "_view_count": null,
       "_view_module": "@jupyter-widgets/base",
       "_view_module_version": "1.2.0",
       "_view_name": "LayoutView",
       "align_content": null,
       "align_items": null,
       "align_self": null,
       "border": null,
       "bottom": null,
       "display": null,
       "flex": null,
       "flex_flow": null,
       "grid_area": null,
       "grid_auto_columns": null,
       "grid_auto_flow": null,
       "grid_auto_rows": null,
       "grid_column": null,
       "grid_gap": null,
       "grid_row": null,
       "grid_template_areas": null,
       "grid_template_columns": null,
       "grid_template_rows": null,
       "height": null,
       "justify_content": null,
       "justify_items": null,
       "left": null,
       "margin": null,
       "max_height": null,
       "max_width": null,
       "min_height": null,
       "min_width": null,
       "object_fit": null,
       "object_position": null,
       "order": null,
       "overflow": null,
       "overflow_x": null,
       "overflow_y": null,
       "padding": null,
       "right": null,
       "top": null,
       "visibility": null,
       "width": null
      }
     },
     "ac4430dcf3d84d1d937e6facc9e3ec26": {
      "model_module": "@jupyter-widgets/controls",
      "model_module_version": "1.5.0",
      "model_name": "HTMLModel",
      "state": {
       "_dom_classes": [],
       "_model_module": "@jupyter-widgets/controls",
       "_model_module_version": "1.5.0",
       "_model_name": "HTMLModel",
       "_view_count": null,
       "_view_module": "@jupyter-widgets/controls",
       "_view_module_version": "1.5.0",
       "_view_name": "HTMLView",
       "description": "",
       "description_tooltip": null,
       "layout": "IPY_MODEL_0300f23c4b0a458c962d9a0c81e7227b",
       "placeholder": "​",
       "style": "IPY_MODEL_16b6c6490aaf4d1489c3bc509793953e",
       "value": "100%"
      }
     },
     "b80c60361ccc4e04b4839e6b8d472849": {
      "model_module": "@jupyter-widgets/base",
      "model_module_version": "1.2.0",
      "model_name": "LayoutModel",
      "state": {
       "_model_module": "@jupyter-widgets/base",
       "_model_module_version": "1.2.0",
       "_model_name": "LayoutModel",
       "_view_count": null,
       "_view_module": "@jupyter-widgets/base",
       "_view_module_version": "1.2.0",
       "_view_name": "LayoutView",
       "align_content": null,
       "align_items": null,
       "align_self": null,
       "border": null,
       "bottom": null,
       "display": null,
       "flex": null,
       "flex_flow": null,
       "grid_area": null,
       "grid_auto_columns": null,
       "grid_auto_flow": null,
       "grid_auto_rows": null,
       "grid_column": null,
       "grid_gap": null,
       "grid_row": null,
       "grid_template_areas": null,
       "grid_template_columns": null,
       "grid_template_rows": null,
       "height": null,
       "justify_content": null,
       "justify_items": null,
       "left": null,
       "margin": null,
       "max_height": null,
       "max_width": null,
       "min_height": null,
       "min_width": null,
       "object_fit": null,
       "object_position": null,
       "order": null,
       "overflow": null,
       "overflow_x": null,
       "overflow_y": null,
       "padding": null,
       "right": null,
       "top": null,
       "visibility": null,
       "width": null
      }
     },
     "d0e08b622d174d459cea2ff125310e9c": {
      "model_module": "@jupyter-widgets/controls",
      "model_module_version": "1.5.0",
      "model_name": "ProgressStyleModel",
      "state": {
       "_model_module": "@jupyter-widgets/controls",
       "_model_module_version": "1.5.0",
       "_model_name": "ProgressStyleModel",
       "_view_count": null,
       "_view_module": "@jupyter-widgets/base",
       "_view_module_version": "1.2.0",
       "_view_name": "StyleView",
       "bar_color": null,
       "description_width": ""
      }
     },
     "d9b4ed5bdb02451dbd5b2ae7b07475e8": {
      "model_module": "@jupyter-widgets/controls",
      "model_module_version": "1.5.0",
      "model_name": "HBoxModel",
      "state": {
       "_dom_classes": [],
       "_model_module": "@jupyter-widgets/controls",
       "_model_module_version": "1.5.0",
       "_model_name": "HBoxModel",
       "_view_count": null,
       "_view_module": "@jupyter-widgets/controls",
       "_view_module_version": "1.5.0",
       "_view_name": "HBoxView",
       "box_style": "",
       "children": [
        "IPY_MODEL_ac4430dcf3d84d1d937e6facc9e3ec26",
        "IPY_MODEL_4ed446b75a904278ab52de9b78b4aaf5",
        "IPY_MODEL_ed04fb1caca94e7f963bbc0e3cd1bdca"
       ],
       "layout": "IPY_MODEL_b80c60361ccc4e04b4839e6b8d472849"
      }
     },
     "de143bc2564541738a0d87581fcecd3f": {
      "model_module": "@jupyter-widgets/controls",
      "model_module_version": "1.5.0",
      "model_name": "HTMLModel",
      "state": {
       "_dom_classes": [],
       "_model_module": "@jupyter-widgets/controls",
       "_model_module_version": "1.5.0",
       "_model_name": "HTMLModel",
       "_view_count": null,
       "_view_module": "@jupyter-widgets/controls",
       "_view_module_version": "1.5.0",
       "_view_name": "HTMLView",
       "description": "",
       "description_tooltip": null,
       "layout": "IPY_MODEL_9ba9b191c82b4e5681cc4c21cee49349",
       "placeholder": "​",
       "style": "IPY_MODEL_2fd48049a5964cd3b4aa65c655b2145b",
       "value": " 14966/14966 [00:00&lt;00:00, 134206.29it/s]"
      }
     },
     "ed04fb1caca94e7f963bbc0e3cd1bdca": {
      "model_module": "@jupyter-widgets/controls",
      "model_module_version": "1.5.0",
      "model_name": "HTMLModel",
      "state": {
       "_dom_classes": [],
       "_model_module": "@jupyter-widgets/controls",
       "_model_module_version": "1.5.0",
       "_model_name": "HTMLModel",
       "_view_count": null,
       "_view_module": "@jupyter-widgets/controls",
       "_view_module_version": "1.5.0",
       "_view_name": "HTMLView",
       "description": "",
       "description_tooltip": null,
       "layout": "IPY_MODEL_a3e6b3abd2e2420999d386ec59a99a7f",
       "placeholder": "​",
       "style": "IPY_MODEL_3232f29523c3434cbfed479b82ac22e2",
       "value": " 14966/14966 [00:00&lt;00:00, 70634.24it/s]"
      }
     },
     "f511200860b744859bf30eb62109547f": {
      "model_module": "@jupyter-widgets/base",
      "model_module_version": "1.2.0",
      "model_name": "LayoutModel",
      "state": {
       "_model_module": "@jupyter-widgets/base",
       "_model_module_version": "1.2.0",
       "_model_name": "LayoutModel",
       "_view_count": null,
       "_view_module": "@jupyter-widgets/base",
       "_view_module_version": "1.2.0",
       "_view_name": "LayoutView",
       "align_content": null,
       "align_items": null,
       "align_self": null,
       "border": null,
       "bottom": null,
       "display": null,
       "flex": null,
       "flex_flow": null,
       "grid_area": null,
       "grid_auto_columns": null,
       "grid_auto_flow": null,
       "grid_auto_rows": null,
       "grid_column": null,
       "grid_gap": null,
       "grid_row": null,
       "grid_template_areas": null,
       "grid_template_columns": null,
       "grid_template_rows": null,
       "height": null,
       "justify_content": null,
       "justify_items": null,
       "left": null,
       "margin": null,
       "max_height": null,
       "max_width": null,
       "min_height": null,
       "min_width": null,
       "object_fit": null,
       "object_position": null,
       "order": null,
       "overflow": null,
       "overflow_x": null,
       "overflow_y": null,
       "padding": null,
       "right": null,
       "top": null,
       "visibility": null,
       "width": null
      }
     }
    },
    "version_major": 2,
    "version_minor": 0
   }
  }
 },
 "nbformat": 4,
 "nbformat_minor": 5
}
